{
 "metadata": {
  "name": ""
 },
 "nbformat": 3,
 "nbformat_minor": 0,
 "worksheets": [
  {
   "cells": [
    {
     "cell_type": "code",
     "collapsed": false,
     "input": [
      "import pickle\n",
      "import glob\n",
      "import sys\n",
      "import os\n",
      "import time\n",
      "import cPickle as pickle\n",
      "import numpy as np\n",
      "import theano\n",
      "import theano.tensor as T\n",
      "from IPython.display import Image as IPImage\n",
      "from PIL import Image\n",
      "import lasagne\n",
      "import matplotlib.pyplot as plt\n",
      "\n",
      "from lasagne.layers import get_output, InputLayer, DenseLayer, Upscale2DLayer, ReshapeLayer\n",
      "from lasagne.nonlinearities import rectify, leaky_rectify, tanh\n",
      "from lasagne.updates import nesterov_momentum\n",
      "from lasagne.objectives import categorical_crossentropy\n",
      "from nolearn.lasagne import NeuralNet, BatchIterator, PrintLayerInfo\n",
      "\n",
      "from lasagne.layers import Conv2DLayer as Conv2DLayer\n",
      "from lasagne.layers import MaxPool2DLayer as MaxPool2DLayer\n",
      "\n",
      "%matplotlib inline"
     ],
     "language": "python",
     "metadata": {},
     "outputs": [
      {
       "output_type": "stream",
       "stream": "stderr",
       "text": [
        "Using gpu device 0: GRID K520 (CNMeM is disabled)\n"
       ]
      }
     ],
     "prompt_number": 1
    },
    {
     "cell_type": "code",
     "collapsed": false,
     "input": [
      "NUM_EPOCHS = 500\n",
      "BATCH_SIZE = 256\n",
      "LEARNING_RATE = 0.001\n",
      "DIM = 32\n",
      "NUM_CLASSES = 10\n",
      "cifar_npz = \"cifar10.npz\"\n",
      "\n",
      "#Retrieve CIFAR 10\n",
      "#get_ipython().system(u'wget -N https://s3.amazonaws.com/lasagne/recipes/pretrained/cifar10/cifar10.npz')"
     ],
     "language": "python",
     "metadata": {},
     "outputs": [],
     "prompt_number": 2
    },
    {
     "cell_type": "code",
     "collapsed": false,
     "input": [
      "def load_cifar10(dirpath='cifar-10-batches-py'):\n",
      "    # load training data\n",
      "    X, y = [], []\n",
      "    for path in glob.glob('%s/data_batch_*' % dirpath):\n",
      "        with open(path, 'rb') as f:\n",
      "            batch = pickle.load(f)\n",
      "        X.append(batch['data'])\n",
      "        y.append(batch['labels'])\n",
      "    X = np.concatenate(X) \\\n",
      "          .reshape(-1, 3, 32, 32) \\\n",
      "          .astype(np.float32)\n",
      "    y = np.concatenate(y).astype(np.int32)\n",
      "    # split into training and validation sets\n",
      "    ii = np.random.permutation(len(X))\n",
      "    X_train = X[ii[1000:]]\n",
      "    y_train = y[ii[1000:]]\n",
      "    X_valid = X[ii[:1000]]\n",
      "    y_valid = y[ii[:1000]]\n",
      "    # load test set\n",
      "    path = '%s/test_batch' % dirpath\n",
      "    with open(path, 'rb') as f:\n",
      "        batch = pickle.load(f)\n",
      "    X_test = batch['data'] \\\n",
      "             .reshape(-1, 3, 32, 32) \\\n",
      "             .astype(np.float32)\n",
      "    y_test = np.array(batch['labels'], dtype=np.int32)\n",
      "    # normalize to zero mean and unity variance\n",
      "    offset = np.mean(X_train, 0)\n",
      "    scale = np.std(X_train, 0).clip(min=1)\n",
      "    X_train = (X_train - offset) / scale\n",
      "    X_valid = (X_valid - offset) / scale\n",
      "    X_test = (X_test - offset) / scale\n",
      "    return X_train, y_train, X_valid, y_valid, X_test, y_test\n"
     ],
     "language": "python",
     "metadata": {},
     "outputs": [],
     "prompt_number": 3
    },
    {
     "cell_type": "code",
     "collapsed": false,
     "input": [
      "def get_picture_array(X, index, shp=(DIM,DIM),channels=3):\n",
      "    ret = ((X[index]+0.5)*255.).reshape(channels,shp[0],shp[1]) \\\n",
      "        .transpose(2,1,0).clip(0,255).astype(np.uint8)\n",
      "    if channels == 1:\n",
      "        ret=ret.reshape(shp[1],shp[0])\n",
      "    return ret\n",
      "\n",
      "\n",
      "def get_image(X,channels=3,idx=-1):\n",
      "    mode = 'RGB' if channels == 3 else 'L'\n",
      "    index = prng.randint(X.shape[0]) if idx == -1 else idx\n",
      "    shp=X[0][0].shape\n",
      "    image = Image.fromarray(get_picture_array(X, index,shp,channels),mode=mode)\n",
      "    return image\n",
      "X_train, y_train, X_val, y_val, X_test, y_test = load_cifar10()\n",
      "print y_train[15070]\n",
      "\n",
      "get_image(X_train,channels=3,idx=15074).save('frame.jpg')\n",
      "\n",
      "photo = plt.imread('frame.jpg')\n",
      "plt.imshow(photo) \n"
     ],
     "language": "python",
     "metadata": {},
     "outputs": [
      {
       "output_type": "stream",
       "stream": "stdout",
       "text": [
        "5\n"
       ]
      },
      {
       "metadata": {},
       "output_type": "pyout",
       "prompt_number": 4,
       "text": [
        "<matplotlib.image.AxesImage at 0x7f66cc2ead10>"
       ]
      },
      {
       "metadata": {},
       "output_type": "display_data",
       "png": "[encoded data removed]",
       "text": [
        "<matplotlib.figure.Figure at 0x7f66cc32f810>"
       ]
      }
     ],
     "prompt_number": 4
    },
    {
     "cell_type": "code",
     "collapsed": false,
     "input": [
      "def build_cnn(input_var=None):\n",
      "    \n",
      "    conv_num_filters1 = 32\n",
      "    conv_num_filters2 = 32\n",
      "    conv_num_filters3 = 64\n",
      "    filter_size1 = 5\n",
      "    filter_size2 = 3\n",
      "    pool_size = 2\n",
      "    encode_size = 64\n",
      "    dense_mid_size = 128\n",
      "    pad_in = 'valid'\n",
      "    pad_out = 'full'\n",
      "\n",
      "    # Input layer, as usual:                                                                                                                                                                                \n",
      "    network = InputLayer(shape=(None, 3, 32, 32),\n",
      "                                        input_var=input_var,name=\"InputLayer_0\")                                                                                                                                   \n",
      "    network = Conv2DLayer(\n",
      "            network, num_filters=conv_num_filters1, filter_size=(filter_size1, filter_size1),pad=pad_in,name = \"Conv2DLayer_1\")\n",
      "    \n",
      "    network = Conv2DLayer(\n",
      "            network, num_filters=conv_num_filters2, filter_size=(filter_size1, filter_size1),pad=pad_in,name = \"Conv2DLayer_2\")\n",
      "                                                                                                                                        \n",
      "    network = MaxPool2DLayer(network, pool_size=(pool_size, pool_size),name = \"MaxPool2DLayer_3\")\n",
      "                                                                                                                                     \n",
      "    network = Conv2DLayer(\n",
      "            network, num_filters=conv_num_filters3, filter_size=(filter_size2, filter_size2),pad=pad_in,name = \"Conv2DLayer_4\")\n",
      "\n",
      "    network = MaxPool2DLayer(network, pool_size=(pool_size, pool_size),name = \"MaxPool2DLayer_5\")\n",
      "\n",
      "    network = ReshapeLayer(network, shape=(([0], -1)),name = \"ReshapeLayer_6\")\n",
      "    \n",
      "    network = DenseLayer(network,num_units=dense_mid_size,name = \"dense_mid_7\")\n",
      "    \n",
      "    network = DenseLayer(network,num_units=encode_size,name = \"encode\")\n",
      "    \n",
      "    network = DenseLayer(network,num_units=dense_mid_size,name = \"dense_mid_9\")\n",
      "    \n",
      "    network = DenseLayer(network,num_units=1600,name = \"dense_mid_10\")\n",
      "    \n",
      "    network = ReshapeLayer(network, shape = (([0], conv_num_filters3, 5, 5)),name = \"ReshapeLayer_11\")\n",
      "    \n",
      "    network = Upscale2DLayer(network, scale_factor=(pool_size, pool_size),name = \"Upscale2DLayer_12\")\n",
      "    \n",
      "    network = Conv2DLayer(\n",
      "            network, num_filters=conv_num_filters3, filter_size=(filter_size2, filter_size2),pad=pad_out,name = \"Conv2DLayer_13\")\n",
      "    \n",
      "    network = Upscale2DLayer(network, scale_factor=(pool_size, pool_size),name = \"Upscale2DLayer_14\")\n",
      "    \n",
      "    network = Conv2DLayer(\n",
      "            network, num_filters=conv_num_filters2, filter_size=(filter_size1, filter_size1),pad=pad_out,name = \"Conv2DLayer_15\")\n",
      "    \n",
      "    network = Conv2DLayer(\n",
      "            network, num_filters=3, filter_size=(filter_size1, filter_size1),pad=pad_out, name = \"Conv2DLayer_16\")\n",
      "    \n",
      "    network = ReshapeLayer(network, shape=(([0], -1)),name = \"ReshapeLayer_17\")\n",
      "\n",
      "    return network\n",
      "\n",
      "\n",
      "def build_cae1(input_var=None):\n",
      "    \n",
      "    conv_num_filters1 = 32\n",
      "    filter_size1 = 5\n",
      "    pool_size = 2\n",
      "    encode_size = 100\n",
      "    pad_in = 'valid'\n",
      "    pad_out = 'full'\n",
      "\n",
      "    # Input layer, as usual:                                                                                                                                                                                \n",
      "    network = InputLayer(shape=(None, 3, 32, 32),\n",
      "                                        input_var=input_var,name=\"InputLayer_0\")                                                                                                                                   \n",
      "    network = Conv2DLayer(\n",
      "            network, num_filters=conv_num_filters1, filter_size=(filter_size1, filter_size1),pad=pad_in,name = \"Conv2DLayer_1\")\n",
      "                                                                                                                                    \n",
      "    network = MaxPool2DLayer(network, pool_size=(pool_size, pool_size),name = \"MaxPool2DLayer_3\")\n",
      "                                                                                                                                     \n",
      "    network = ReshapeLayer(network, shape=(([0], -1)),name = \"ReshapeLayer_6\")\n",
      "    \n",
      "    network = DenseLayer(network,num_units=encode_size,name = \"dense_mid_7\")\n",
      "    \n",
      "    network = DenseLayer(network,num_units=6272,name = \"dense_mid_10\")\n",
      "      \n",
      "    network = ReshapeLayer(network, shape = (([0], conv_num_filters1, 14, 14)),name = \"ReshapeLayer_11\")\n",
      "    \n",
      "    network = Upscale2DLayer(network, scale_factor=(pool_size, pool_size),name = \"Upscale2DLayer_12\")\n",
      "    \n",
      "    network = Conv2DLayer(\n",
      "            network, num_filters=3, filter_size=(filter_size1, filter_size1),pad=pad_out,name = \"Conv2DLayer_13\")\n",
      "       \n",
      "    network = ReshapeLayer(network, shape=(([0], -1)),name = \"ReshapeLayer_17\")\n",
      "\n",
      "    return network\n"
     ],
     "language": "python",
     "metadata": {},
     "outputs": [],
     "prompt_number": 5
    },
    {
     "cell_type": "code",
     "collapsed": false,
     "input": [
      "def iterate_minibatches(inputs, targets, batchsize, shuffle=False):\n",
      "    assert len(inputs) == len(targets)\n",
      "    if shuffle:\n",
      "        indices = np.arange(len(inputs))\n",
      "        np.random.shuffle(indices)\n",
      "    for start_idx in range(0, len(inputs) - batchsize + 1, batchsize):\n",
      "        if shuffle:\n",
      "            excerpt = indices[start_idx:start_idx + batchsize]\n",
      "        else:\n",
      "            excerpt = slice(start_idx, start_idx + batchsize)\n",
      "        yield inputs[excerpt], targets[excerpt]\n",
      "\n",
      "def iterator(X, batchsize):\n",
      "    indices = np.arange(len(X))\n",
      "    for i in range(0, len(X) - batchsize + 1, batchsize):\n",
      "        sli = indices[i:i+batchsize]\n",
      "        yield X[sli]"
     ],
     "language": "python",
     "metadata": {},
     "outputs": [],
     "prompt_number": 6
    },
    {
     "cell_type": "code",
     "collapsed": false,
     "input": [
      "def save_params(model, fn):\n",
      "    with open(fn, 'w') as wr:\n",
      "        pickle.dump(lasagne.layers.get_all_param_values(model), wr)"
     ],
     "language": "python",
     "metadata": {},
     "outputs": [],
     "prompt_number": 7
    },
    {
     "cell_type": "code",
     "collapsed": false,
     "input": [
      "def main(model='cnn', num_epochs=500):\n",
      "    # Load the dataset                                                                                                                                                                                      \n",
      "    print(\"Loading data...\")\n",
      "    X_train, y_train, X_val, y_val, X_test, y_test = load_cifar10()\n",
      "\n",
      "    print('Train data shape: ', X_train.shape)\n",
      "    print('Train labels shape: ', y_train.shape)\n",
      "    print('Validation data shape: ', X_val.shape)\n",
      "    print('Validation labels shape: ', y_val.shape)\n",
      "    print('Test data shape: ', X_test.shape)\n",
      "    print('Test labels shape: ', y_test.shape)\n",
      "\n",
      "    # Prepare Theano variables for inputs and targets                                                                                                                                                       \n",
      "    input_var = T.tensor4('inputs')\n",
      "    #target_var = T.ivector('targets')\n",
      "\n",
      "    # Create neural network model (depending on first command line parameter)                                                                                                                               \n",
      "    print(\"Building model and compiling functions...\")\n",
      "\n",
      "    network = build_cae1(input_var)\n",
      "    laylist = lasagne.layers.get_all_layers(network)\n",
      "    \n",
      "    with np.load('model.npz') as f:                                                                                                                                                                       \n",
      "        param_values = [f['arr_%d' % i] for i in range(len(f.files))]  \n",
      "        \n",
      "    lasagne.layers.set_all_param_values(network, param_values)  \n",
      "    \n",
      "    for l in laylist:\n",
      "        print l.name, lasagne.layers.get_output_shape(l)\n",
      "        \n",
      "    # Create a loss expression for training, i.e., a scalar objective we want                                                                                                                               \n",
      "    # to minimize (for our multi-class problem, it is the cross-entropy loss):                                                                                                                              \n",
      "    prediction = lasagne.layers.get_output(network)\n",
      "    loss = lasagne.objectives.squared_error(prediction, input_var.flatten(2))\n",
      "    loss = loss.mean()\n",
      "    # We could add some weight decay as well here, see lasagne.regularization.                                                                                                                              \n",
      "\n",
      "    # Create update expressions for training, i.e., how to modify the                                                                                                                                       \n",
      "    # parameters at each training step. Here, we'll use Stochastic Gradient                                                                                                                                 \n",
      "    # Descent (SGD) with Nesterov momentum, but Lasagne offers plenty more.                                                                                                                                 \n",
      "    params = lasagne.layers.get_all_params(network, trainable=True)\n",
      "    updates = lasagne.updates.nesterov_momentum(\n",
      "            loss, params, learning_rate=0.01, momentum=0.9)\n",
      "\n",
      "    # Create a loss expression for validation/testing. The crucial difference                                                                                                                               \n",
      "    # here is that we do a deterministic forward pass through the network,                                                                                                                                  \n",
      "    # disabling dropout layers.                                                                                                                                                                             \n",
      "    test_prediction = lasagne.layers.get_output(network, deterministic=True)\n",
      "    test_loss = lasagne.objectives.squared_error(test_prediction,\n",
      "                                                            input_var.flatten(2))\n",
      "    test_loss = test_loss.mean()\n",
      "    # As a bonus, also create an expression for the classification accuracy:                                                                                                                                \n",
      "    #test_acc = T.mean(T.eq(T.argmax(test_prediction, axis=1), input_var.flatten(2)),dtype=theano.config.floatX)\n",
      "\n",
      "    # Compile a function performing a training step on a mini-batch (by giving                                                                                                                              \n",
      "    # the updates dictionary) and returning the corresponding training loss:                                                                                                                                \n",
      "    #train_fn = theano.function([input_var, target_var], loss, updates=updates)\n",
      "    train_fn = theano.function([input_var], loss, updates=updates)\n",
      "    #out_fn = theano.function([input_var],prediction)\n",
      "    #loss_fn = theano.function([input_var],loss)\n",
      "    # Compile a second function computing the validation loss and accuracy:                                                                                                                                 \n",
      "    #val_fn = theano.function([input_var, target_var], [test_loss, test_acc])\n",
      "    val_fn = theano.function([input_var], test_loss)\n",
      "    # Finally, launch the training loop.                                                                                                                                                                    \n",
      "    print(\"Starting training...\")\n",
      "    loss_history = []\n",
      "    # We iterate over epochs:                                                                                                                                                                               \n",
      "    for epoch in range(num_epochs):\n",
      "        # In each epoch, we do a full pass over the training data:                                                                                                                                          \n",
      "        train_err = 0\n",
      "        train_batches = 0\n",
      "        start_time = time.time()\n",
      "            \n",
      "        for batch in iterator(X_train, 500):\n",
      "            train_err += train_fn(batch)\n",
      "            train_batches += 1\n",
      "            loss_history.append(train_err)\n",
      "        \n",
      "        # And a full pass over the validation data:                                                                                                                                                         \n",
      "        val_err = 0\n",
      "        val_acc = 0\n",
      "        val_batches = 0\n",
      "        \n",
      "        for batch in iterator(X_val, 500):\n",
      "            err = val_fn(batch)\n",
      "            val_err += err\n",
      "            val_batches += 1\n",
      "            \n",
      "\n",
      "        # Then we print the results for this epoch:                                                                                                                                                         \n",
      "        print(\"Epoch {} of {} took {:.3f}s\".format(epoch + 1, num_epochs, time.time() - start_time))\n",
      "        print(\"  training loss:\\t\\t{:.6f}\".format(train_err / train_batches))\n",
      "        print(\"  validation loss:\\t\\t{:.6f}\".format(val_err / val_batches))\n",
      "        np.savez('model.npz', *lasagne.layers.get_all_param_values(network))           \n",
      "        \n",
      "    # After training, we compute and print the test error:                                                                                                                                                  \n",
      "    test_err = 0\n",
      "    test_acc = 0\n",
      "    test_batches = 0\n",
      "    for batch in iterator(X_test,500):\n",
      "        err = val_fn(batch)\n",
      "        test_err += err\n",
      "        test_batches += 1\n",
      "        \n",
      "    print(\"Final results:\")\n",
      "    print(\"  test loss:\\t\\t\\t{:.6f}\".format(test_err / test_batches))\n",
      "    \n",
      "    # Optionally, you could now dump the network weights to a file like this:                                                                                                                               \n",
      "    np.savez('model.npz', *lasagne.layers.get_all_param_values(network))                                                                                                                                  \n",
      "    #                                                                                                                                                                                                       \n",
      "    # And load them again later on like this:                                                                                                                                                               \n",
      "    # with np.load('model.npz') as f:                                                                                                                                                                       \n",
      "    #     param_values = [f['arr_%d' % i] for i in range(len(f.files))]                                                                                                                                     \n",
      "    # lasagne.layers.set_all_param_values(network, param_values)  \n"
     ],
     "language": "python",
     "metadata": {},
     "outputs": [],
     "prompt_number": 8
    },
    {
     "cell_type": "code",
     "collapsed": false,
     "input": [
      " main()"
     ],
     "language": "python",
     "metadata": {},
     "outputs": [
      {
       "output_type": "stream",
       "stream": "stdout",
       "text": [
        "Loading data...\n",
        "('Train data shape: ', (49000, 3, 32, 32))"
       ]
      },
      {
       "output_type": "stream",
       "stream": "stdout",
       "text": [
        "\n",
        "('Train labels shape: ', (49000,))\n",
        "('Validation data shape: ', (1000, 3, 32, 32))\n",
        "('Validation labels shape: ', (1000,))\n",
        "('Test data shape: ', (10000, 3, 32, 32))\n",
        "('Test labels shape: ', (10000,))\n",
        "Building model and compiling functions...\n",
        "InputLayer_0 (None, 3, 32, 32)\n",
        "Conv2DLayer_1 (None, 32, 28, 28)\n",
        "MaxPool2DLayer_3 (None, 32, 14, 14)\n",
        "ReshapeLayer_6 (None, 6272)\n",
        "dense_mid_7 (None, 100)\n",
        "dense_mid_10 (None, 6272)\n",
        "ReshapeLayer_11 (None, 32, 14, 14)\n",
        "Upscale2DLayer_12 (None, 32, 28, 28)\n",
        "Conv2DLayer_13 (None, 3, 32, 32)\n",
        "ReshapeLayer_17 (None, 3072)\n",
        "Starting training..."
       ]
      },
      {
       "output_type": "stream",
       "stream": "stdout",
       "text": [
        "\n",
        "Epoch 1 of 500 took 13.222s"
       ]
      },
      {
       "output_type": "stream",
       "stream": "stdout",
       "text": [
        "\n",
        "  training loss:\t\t0.552302\n",
        "  validation loss:\t\t0.549885\n",
        "Epoch 2 of 500 took 13.223s"
       ]
      },
      {
       "output_type": "stream",
       "stream": "stdout",
       "text": [
        "\n",
        "  training loss:\t\t0.551053\n",
        "  validation loss:\t\t0.547849\n",
        "Epoch 3 of 500 took 13.228s"
       ]
      },
      {
       "output_type": "stream",
       "stream": "stdout",
       "text": [
        "\n",
        "  training loss:\t\t0.550983\n",
        "  validation loss:\t\t0.548093\n",
        "Epoch 4 of 500 took 13.230s"
       ]
      },
      {
       "output_type": "stream",
       "stream": "stdout",
       "text": [
        "\n",
        "  training loss:\t\t0.550052\n",
        "  validation loss:\t\t0.548013\n",
        "Epoch 5 of 500 took 13.238s"
       ]
      },
      {
       "output_type": "stream",
       "stream": "stdout",
       "text": [
        "\n",
        "  training loss:\t\t0.549752\n",
        "  validation loss:\t\t0.546637\n",
        "Epoch 6 of 500 took 13.243s"
       ]
      },
      {
       "output_type": "stream",
       "stream": "stdout",
       "text": [
        "\n",
        "  training loss:\t\t0.549072\n",
        "  validation loss:\t\t0.546532\n",
        "Epoch 7 of 500 took 13.228s"
       ]
      },
      {
       "output_type": "stream",
       "stream": "stdout",
       "text": [
        "\n",
        "  training loss:\t\t0.548243\n",
        "  validation loss:\t\t0.545488\n",
        "Epoch 8 of 500 took 13.223s"
       ]
      },
      {
       "output_type": "stream",
       "stream": "stdout",
       "text": [
        "\n",
        "  training loss:\t\t0.548197\n",
        "  validation loss:\t\t0.544493\n",
        "Epoch 9 of 500 took 13.220s"
       ]
      },
      {
       "output_type": "stream",
       "stream": "stdout",
       "text": [
        "\n",
        "  training loss:\t\t0.546963\n",
        "  validation loss:\t\t0.543864\n",
        "Epoch 10 of 500 took 13.222s"
       ]
      },
      {
       "output_type": "stream",
       "stream": "stdout",
       "text": [
        "\n",
        "  training loss:\t\t0.547185\n",
        "  validation loss:\t\t0.543612\n",
        "Epoch 11 of 500 took 13.213s"
       ]
      },
      {
       "output_type": "stream",
       "stream": "stdout",
       "text": [
        "\n",
        "  training loss:\t\t0.546409\n",
        "  validation loss:\t\t0.544397\n",
        "Epoch 12 of 500 took 13.227s"
       ]
      },
      {
       "output_type": "stream",
       "stream": "stdout",
       "text": [
        "\n",
        "  training loss:\t\t0.545770\n",
        "  validation loss:\t\t0.542532\n",
        "Epoch 13 of 500 took 13.232s"
       ]
      },
      {
       "output_type": "stream",
       "stream": "stdout",
       "text": [
        "\n",
        "  training loss:\t\t0.545807\n",
        "  validation loss:\t\t0.541873\n",
        "Epoch 14 of 500 took 13.223s"
       ]
      },
      {
       "output_type": "stream",
       "stream": "stdout",
       "text": [
        "\n",
        "  training loss:\t\t0.544598\n",
        "  validation loss:\t\t0.542100\n",
        "Epoch 15 of 500 took 13.219s"
       ]
      },
      {
       "output_type": "stream",
       "stream": "stdout",
       "text": [
        "\n",
        "  training loss:\t\t0.544788\n",
        "  validation loss:\t\t0.543220\n",
        "Epoch 16 of 500 took 13.223s"
       ]
      },
      {
       "output_type": "stream",
       "stream": "stdout",
       "text": [
        "\n",
        "  training loss:\t\t0.543975\n",
        "  validation loss:\t\t0.540751\n",
        "Epoch 17 of 500 took 13.213s"
       ]
      },
      {
       "output_type": "stream",
       "stream": "stdout",
       "text": [
        "\n",
        "  training loss:\t\t0.544056\n",
        "  validation loss:\t\t0.540235\n",
        "Epoch 18 of 500 took 13.216s"
       ]
      },
      {
       "output_type": "stream",
       "stream": "stdout",
       "text": [
        "\n",
        "  training loss:\t\t0.542941\n",
        "  validation loss:\t\t0.540208\n",
        "Epoch 19 of 500 took 13.212s"
       ]
      },
      {
       "output_type": "stream",
       "stream": "stdout",
       "text": [
        "\n",
        "  training loss:\t\t0.543226\n",
        "  validation loss:\t\t0.540137\n",
        "Epoch 20 of 500 took 13.212s"
       ]
      },
      {
       "output_type": "stream",
       "stream": "stdout",
       "text": [
        "\n",
        "  training loss:\t\t0.542384\n",
        "  validation loss:\t\t0.539930\n",
        "Epoch 21 of 500 took 13.219s"
       ]
      },
      {
       "output_type": "stream",
       "stream": "stdout",
       "text": [
        "\n",
        "  training loss:\t\t0.542172\n",
        "  validation loss:\t\t0.539414\n",
        "Epoch 22 of 500 took 13.214s"
       ]
      },
      {
       "output_type": "stream",
       "stream": "stdout",
       "text": [
        "\n",
        "  training loss:\t\t0.541848\n",
        "  validation loss:\t\t0.539313\n",
        "Epoch 23 of 500 took 13.223s"
       ]
      },
      {
       "output_type": "stream",
       "stream": "stdout",
       "text": [
        "\n",
        "  training loss:\t\t0.541356\n",
        "  validation loss:\t\t0.538290\n",
        "Epoch 24 of 500 took 13.224s"
       ]
      },
      {
       "output_type": "stream",
       "stream": "stdout",
       "text": [
        "\n",
        "  training loss:\t\t0.541509\n",
        "  validation loss:\t\t0.537757\n",
        "Epoch 25 of 500 took 13.215s"
       ]
      },
      {
       "output_type": "stream",
       "stream": "stdout",
       "text": [
        "\n",
        "  training loss:\t\t0.540590\n",
        "  validation loss:\t\t0.539107\n",
        "Epoch 26 of 500 took 13.219s"
       ]
      },
      {
       "output_type": "stream",
       "stream": "stdout",
       "text": [
        "\n",
        "  training loss:\t\t0.540511\n",
        "  validation loss:\t\t0.537463\n",
        "Epoch 27 of 500 took 13.220s"
       ]
      },
      {
       "output_type": "stream",
       "stream": "stdout",
       "text": [
        "\n",
        "  training loss:\t\t0.540493\n",
        "  validation loss:\t\t0.537517\n",
        "Epoch 28 of 500 took 13.218s"
       ]
      },
      {
       "output_type": "stream",
       "stream": "stdout",
       "text": [
        "\n",
        "  training loss:\t\t0.539718\n",
        "  validation loss:\t\t0.536934\n",
        "Epoch 29 of 500 took 13.211s"
       ]
      },
      {
       "output_type": "stream",
       "stream": "stdout",
       "text": [
        "\n",
        "  training loss:\t\t0.539766\n",
        "  validation loss:\t\t0.536861\n",
        "Epoch 30 of 500 took 13.215s"
       ]
      },
      {
       "output_type": "stream",
       "stream": "stdout",
       "text": [
        "\n",
        "  training loss:\t\t0.539124\n",
        "  validation loss:\t\t0.535904\n",
        "Epoch 31 of 500 took 13.215s"
       ]
      },
      {
       "output_type": "stream",
       "stream": "stdout",
       "text": [
        "\n",
        "  training loss:\t\t0.538845\n",
        "  validation loss:\t\t0.538805\n",
        "Epoch 32 of 500 took 13.223s"
       ]
      },
      {
       "output_type": "stream",
       "stream": "stdout",
       "text": [
        "\n",
        "  training loss:\t\t0.539212\n",
        "  validation loss:\t\t0.535385\n",
        "Epoch 33 of 500 took 13.221s"
       ]
      },
      {
       "output_type": "stream",
       "stream": "stdout",
       "text": [
        "\n",
        "  training loss:\t\t0.538280\n",
        "  validation loss:\t\t0.535931\n",
        "Epoch 34 of 500 took 13.214s"
       ]
      },
      {
       "output_type": "stream",
       "stream": "stdout",
       "text": [
        "\n",
        "  training loss:\t\t0.538483\n",
        "  validation loss:\t\t0.535125\n",
        "Epoch 35 of 500 took 13.230s"
       ]
      },
      {
       "output_type": "stream",
       "stream": "stdout",
       "text": [
        "\n",
        "  training loss:\t\t0.538205\n",
        "  validation loss:\t\t0.535685\n",
        "Epoch 36 of 500 took 13.224s"
       ]
      },
      {
       "output_type": "stream",
       "stream": "stdout",
       "text": [
        "\n",
        "  training loss:\t\t0.537650\n",
        "  validation loss:\t\t0.534685\n",
        "Epoch 37 of 500 took 13.214s"
       ]
      },
      {
       "output_type": "stream",
       "stream": "stdout",
       "text": [
        "\n",
        "  training loss:\t\t0.537849\n",
        "  validation loss:\t\t0.534937\n",
        "Epoch 38 of 500 took 13.214s"
       ]
      },
      {
       "output_type": "stream",
       "stream": "stdout",
       "text": [
        "\n",
        "  training loss:\t\t0.537157\n",
        "  validation loss:\t\t0.534109\n",
        "Epoch 39 of 500 took 13.220s"
       ]
      },
      {
       "output_type": "stream",
       "stream": "stdout",
       "text": [
        "\n",
        "  training loss:\t\t0.537364\n",
        "  validation loss:\t\t0.534158\n",
        "Epoch 40 of 500 took 13.214s"
       ]
      },
      {
       "output_type": "stream",
       "stream": "stdout",
       "text": [
        "\n",
        "  training loss:\t\t0.536691\n",
        "  validation loss:\t\t0.533800\n",
        "Epoch 41 of 500 took 13.225s"
       ]
      },
      {
       "output_type": "stream",
       "stream": "stdout",
       "text": [
        "\n",
        "  training loss:\t\t0.536975\n",
        "  validation loss:\t\t0.534087\n",
        "Epoch 42 of 500 took 13.219s"
       ]
      },
      {
       "output_type": "stream",
       "stream": "stdout",
       "text": [
        "\n",
        "  training loss:\t\t0.536307\n",
        "  validation loss:\t\t0.533232\n",
        "Epoch 43 of 500 took 13.223s"
       ]
      },
      {
       "output_type": "stream",
       "stream": "stdout",
       "text": [
        "\n",
        "  training loss:\t\t0.536500\n",
        "  validation loss:\t\t0.533562\n",
        "Epoch 44 of 500 took 13.225s"
       ]
      },
      {
       "output_type": "stream",
       "stream": "stdout",
       "text": [
        "\n",
        "  training loss:\t\t0.535925\n",
        "  validation loss:\t\t0.532941\n",
        "Epoch 45 of 500 took 13.221s"
       ]
      },
      {
       "output_type": "stream",
       "stream": "stdout",
       "text": [
        "\n",
        "  training loss:\t\t0.536159\n",
        "  validation loss:\t\t0.533359\n",
        "Epoch 46 of 500 took 13.231s"
       ]
      },
      {
       "output_type": "stream",
       "stream": "stdout",
       "text": [
        "\n",
        "  training loss:\t\t0.535544\n",
        "  validation loss:\t\t0.532463\n",
        "Epoch 47 of 500 took 13.217s"
       ]
      },
      {
       "output_type": "stream",
       "stream": "stdout",
       "text": [
        "\n",
        "  training loss:\t\t0.535694\n",
        "  validation loss:\t\t0.533189\n",
        "Epoch 48 of 500 took 13.223s"
       ]
      },
      {
       "output_type": "stream",
       "stream": "stdout",
       "text": [
        "\n",
        "  training loss:\t\t0.535250\n",
        "  validation loss:\t\t0.532219\n",
        "Epoch 49 of 500 took 13.217s"
       ]
      },
      {
       "output_type": "stream",
       "stream": "stdout",
       "text": [
        "\n",
        "  training loss:\t\t0.535338\n",
        "  validation loss:\t\t0.533084\n",
        "Epoch 50 of 500 took 13.221s"
       ]
      },
      {
       "output_type": "stream",
       "stream": "stdout",
       "text": [
        "\n",
        "  training loss:\t\t0.534894\n",
        "  validation loss:\t\t0.531718\n",
        "Epoch 51 of 500 took 13.223s"
       ]
      },
      {
       "output_type": "stream",
       "stream": "stdout",
       "text": [
        "\n",
        "  training loss:\t\t0.534960\n",
        "  validation loss:\t\t0.532810\n",
        "Epoch 52 of 500 took 13.216s"
       ]
      },
      {
       "output_type": "stream",
       "stream": "stdout",
       "text": [
        "\n",
        "  training loss:\t\t0.534632\n",
        "  validation loss:\t\t0.531479\n",
        "Epoch 53 of 500 took 13.212s"
       ]
      },
      {
       "output_type": "stream",
       "stream": "stdout",
       "text": [
        "\n",
        "  training loss:\t\t0.534590\n",
        "  validation loss:\t\t0.532748\n",
        "Epoch 54 of 500 took 13.216s"
       ]
      },
      {
       "output_type": "stream",
       "stream": "stdout",
       "text": [
        "\n",
        "  training loss:\t\t0.534309\n",
        "  validation loss:\t\t0.531065\n",
        "Epoch 55 of 500 took 13.223s"
       ]
      },
      {
       "output_type": "stream",
       "stream": "stdout",
       "text": [
        "\n",
        "  training loss:\t\t0.534198\n",
        "  validation loss:\t\t0.532266\n",
        "Epoch 56 of 500 took 13.214s"
       ]
      },
      {
       "output_type": "stream",
       "stream": "stdout",
       "text": [
        "\n",
        "  training loss:\t\t0.534106\n",
        "  validation loss:\t\t0.530824\n",
        "Epoch 57 of 500 took 13.221s"
       ]
      },
      {
       "output_type": "stream",
       "stream": "stdout",
       "text": [
        "\n",
        "  training loss:\t\t0.533935\n",
        "  validation loss:\t\t0.532252\n",
        "Epoch 58 of 500 took 13.224s"
       ]
      },
      {
       "output_type": "stream",
       "stream": "stdout",
       "text": [
        "\n",
        "  training loss:\t\t0.533758\n",
        "  validation loss:\t\t0.530484\n",
        "Epoch 59 of 500 took 13.229s"
       ]
      },
      {
       "output_type": "stream",
       "stream": "stdout",
       "text": [
        "\n",
        "  training loss:\t\t0.533583\n",
        "  validation loss:\t\t0.531451\n",
        "Epoch 60 of 500 took 13.230s"
       ]
      },
      {
       "output_type": "stream",
       "stream": "stdout",
       "text": [
        "\n",
        "  training loss:\t\t0.533529\n",
        "  validation loss:\t\t0.530240\n",
        "Epoch 61 of 500 took 13.226s"
       ]
      },
      {
       "output_type": "stream",
       "stream": "stdout",
       "text": [
        "\n",
        "  training loss:\t\t0.533358\n",
        "  validation loss:\t\t0.531730\n",
        "Epoch 62 of 500 took 13.218s"
       ]
      },
      {
       "output_type": "stream",
       "stream": "stdout",
       "text": [
        "\n",
        "  training loss:\t\t0.533234\n",
        "  validation loss:\t\t0.529948\n",
        "Epoch 63 of 500 took 13.220s"
       ]
      },
      {
       "output_type": "stream",
       "stream": "stdout",
       "text": [
        "\n",
        "  training loss:\t\t0.532998\n",
        "  validation loss:\t\t0.530622\n",
        "Epoch 64 of 500 took 13.222s"
       ]
      },
      {
       "output_type": "stream",
       "stream": "stdout",
       "text": [
        "\n",
        "  training loss:\t\t0.532997\n",
        "  validation loss:\t\t0.529697\n",
        "Epoch 65 of 500 took 13.214s"
       ]
      },
      {
       "output_type": "stream",
       "stream": "stdout",
       "text": [
        "\n",
        "  training loss:\t\t0.532782\n",
        "  validation loss:\t\t0.531137\n",
        "Epoch 66 of 500 took 13.223s"
       ]
      },
      {
       "output_type": "stream",
       "stream": "stdout",
       "text": [
        "\n",
        "  training loss:\t\t0.532766\n",
        "  validation loss:\t\t0.529451\n",
        "Epoch 67 of 500 took 13.221s"
       ]
      },
      {
       "output_type": "stream",
       "stream": "stdout",
       "text": [
        "\n",
        "  training loss:\t\t0.532440\n",
        "  validation loss:\t\t0.529780\n",
        "Epoch 68 of 500 took 13.224s"
       ]
      },
      {
       "output_type": "stream",
       "stream": "stdout",
       "text": [
        "\n",
        "  training loss:\t\t0.532503\n",
        "  validation loss:\t\t0.529263\n",
        "Epoch 69 of 500 took 13.219s"
       ]
      },
      {
       "output_type": "stream",
       "stream": "stdout",
       "text": [
        "\n",
        "  training loss:\t\t0.532219\n",
        "  validation loss:\t\t0.529372\n",
        "Epoch 70 of 500 took 13.215s"
       ]
      },
      {
       "output_type": "stream",
       "stream": "stdout",
       "text": [
        "\n",
        "  training loss:\t\t0.532258\n",
        "  validation loss:\t\t0.529200\n",
        "Epoch 71 of 500 took 13.218s"
       ]
      },
      {
       "output_type": "stream",
       "stream": "stdout",
       "text": [
        "\n",
        "  training loss:\t\t0.532001\n",
        "  validation loss:\t\t0.528866\n",
        "Epoch 72 of 500 took 13.214s"
       ]
      },
      {
       "output_type": "stream",
       "stream": "stdout",
       "text": [
        "\n",
        "  training loss:\t\t0.532328\n",
        "  validation loss:\t\t0.529527\n",
        "Epoch 73 of 500 took 13.227s"
       ]
      },
      {
       "output_type": "stream",
       "stream": "stdout",
       "text": [
        "\n",
        "  training loss:\t\t0.531749\n",
        "  validation loss:\t\t0.528639\n",
        "Epoch 74 of 500 took 13.229s"
       ]
      },
      {
       "output_type": "stream",
       "stream": "stdout",
       "text": [
        "\n",
        "  training loss:\t\t0.531575\n",
        "  validation loss:\t\t0.528527\n",
        "Epoch 75 of 500 took 13.230s"
       ]
      },
      {
       "output_type": "stream",
       "stream": "stdout",
       "text": [
        "\n",
        "  training loss:\t\t0.531548\n",
        "  validation loss:\t\t0.529438\n",
        "Epoch 76 of 500 took 13.230s"
       ]
      },
      {
       "output_type": "stream",
       "stream": "stdout",
       "text": [
        "\n",
        "  training loss:\t\t0.531626\n",
        "  validation loss:\t\t0.528343\n",
        "Epoch 77 of 500 took 13.227s"
       ]
      },
      {
       "output_type": "stream",
       "stream": "stdout",
       "text": [
        "\n",
        "  training loss:\t\t0.531246\n",
        "  validation loss:\t\t0.528252\n",
        "Epoch 78 of 500 took 13.223s"
       ]
      },
      {
       "output_type": "stream",
       "stream": "stdout",
       "text": [
        "\n",
        "  training loss:\t\t0.531473\n",
        "  validation loss:\t\t0.528712\n",
        "Epoch 79 of 500 took 13.230s"
       ]
      },
      {
       "output_type": "stream",
       "stream": "stdout",
       "text": [
        "\n",
        "  training loss:\t\t0.531159\n",
        "  validation loss:\t\t0.528074\n",
        "Epoch 80 of 500 took 13.233s"
       ]
      },
      {
       "output_type": "stream",
       "stream": "stdout",
       "text": [
        "\n",
        "  training loss:\t\t0.531065\n",
        "  validation loss:\t\t0.528588\n",
        "Epoch 81 of 500 took 13.225s"
       ]
      },
      {
       "output_type": "stream",
       "stream": "stdout",
       "text": [
        "\n",
        "  training loss:\t\t0.530936\n",
        "  validation loss:\t\t0.527819\n",
        "Epoch 82 of 500 took 13.225s"
       ]
      },
      {
       "output_type": "stream",
       "stream": "stdout",
       "text": [
        "\n",
        "  training loss:\t\t0.530709\n",
        "  validation loss:\t\t0.527739\n",
        "Epoch 83 of 500 took 13.230s"
       ]
      },
      {
       "output_type": "stream",
       "stream": "stdout",
       "text": [
        "\n",
        "  training loss:\t\t0.530995\n",
        "  validation loss:\t\t0.528522\n",
        "Epoch 84 of 500 took 13.236s"
       ]
      },
      {
       "output_type": "stream",
       "stream": "stdout",
       "text": [
        "\n",
        "  training loss:\t\t0.530572\n",
        "  validation loss:\t\t0.527476\n",
        "Epoch 85 of 500 took 13.226s"
       ]
      },
      {
       "output_type": "stream",
       "stream": "stdout",
       "text": [
        "\n",
        "  training loss:\t\t0.530433\n",
        "  validation loss:\t\t0.527456\n",
        "Epoch 86 of 500 took 13.220s"
       ]
      },
      {
       "output_type": "stream",
       "stream": "stdout",
       "text": [
        "\n",
        "  training loss:\t\t0.530411\n",
        "  validation loss:\t\t0.527426\n",
        "Epoch 87 of 500 took 13.218s"
       ]
      },
      {
       "output_type": "stream",
       "stream": "stdout",
       "text": [
        "\n",
        "  training loss:\t\t0.530290\n",
        "  validation loss:\t\t0.527148\n",
        "Epoch 88 of 500 took 13.219s"
       ]
      },
      {
       "output_type": "stream",
       "stream": "stdout",
       "text": [
        "\n",
        "  training loss:\t\t0.530085\n",
        "  validation loss:\t\t0.527136\n",
        "Epoch 89 of 500 took 13.219s"
       ]
      },
      {
       "output_type": "stream",
       "stream": "stdout",
       "text": [
        "\n",
        "  training loss:\t\t0.530449\n",
        "  validation loss:\t\t0.527184\n",
        "Epoch 90 of 500 took 13.224s"
       ]
      },
      {
       "output_type": "stream",
       "stream": "stdout",
       "text": [
        "\n",
        "  training loss:\t\t0.529882\n",
        "  validation loss:\t\t0.526836\n",
        "Epoch 91 of 500 took 13.221s"
       ]
      },
      {
       "output_type": "stream",
       "stream": "stdout",
       "text": [
        "\n",
        "  training loss:\t\t0.529851\n",
        "  validation loss:\t\t0.527210\n",
        "Epoch 92 of 500 took 13.227s"
       ]
      },
      {
       "output_type": "stream",
       "stream": "stdout",
       "text": [
        "\n",
        "  training loss:\t\t0.529873\n",
        "  validation loss:\t\t0.526632\n",
        "Epoch 93 of 500 took 13.226s"
       ]
      },
      {
       "output_type": "stream",
       "stream": "stdout",
       "text": [
        "\n",
        "  training loss:\t\t0.529720\n",
        "  validation loss:\t\t0.527939\n",
        "Epoch 94 of 500 took 13.223s"
       ]
      },
      {
       "output_type": "stream",
       "stream": "stdout",
       "text": [
        "\n",
        "  training loss:\t\t0.529708\n",
        "  validation loss:\t\t0.526449\n",
        "Epoch 95 of 500 took 13.225s"
       ]
      },
      {
       "output_type": "stream",
       "stream": "stdout",
       "text": [
        "\n",
        "  training loss:\t\t0.529364\n",
        "  validation loss:\t\t0.526422\n",
        "Epoch 96 of 500 took 13.239s"
       ]
      },
      {
       "output_type": "stream",
       "stream": "stdout",
       "text": [
        "\n",
        "  training loss:\t\t0.529761\n",
        "  validation loss:\t\t0.526632\n",
        "Epoch 97 of 500 took 13.224s"
       ]
      },
      {
       "output_type": "stream",
       "stream": "stdout",
       "text": [
        "\n",
        "  training loss:\t\t0.529201\n",
        "  validation loss:\t\t0.526205\n",
        "Epoch 98 of 500 took 13.222s"
       ]
      },
      {
       "output_type": "stream",
       "stream": "stdout",
       "text": [
        "\n",
        "  training loss:\t\t0.529308\n",
        "  validation loss:\t\t0.526783\n",
        "Epoch 99 of 500 took 13.220s"
       ]
      },
      {
       "output_type": "stream",
       "stream": "stdout",
       "text": [
        "\n",
        "  training loss:\t\t0.529176\n",
        "  validation loss:\t\t0.525971\n",
        "Epoch 100 of 500 took 13.229s"
       ]
      },
      {
       "output_type": "stream",
       "stream": "stdout",
       "text": [
        "\n",
        "  training loss:\t\t0.529230\n",
        "  validation loss:\t\t0.527176\n",
        "Epoch 101 of 500 took 13.225s"
       ]
      },
      {
       "output_type": "stream",
       "stream": "stdout",
       "text": [
        "\n",
        "  training loss:\t\t0.528935\n",
        "  validation loss:\t\t0.525775\n",
        "Epoch 102 of 500 took 13.227s"
       ]
      },
      {
       "output_type": "stream",
       "stream": "stdout",
       "text": [
        "\n",
        "  training loss:\t\t0.528898\n",
        "  validation loss:\t\t0.526858\n",
        "Epoch 103 of 500 took 13.243s"
       ]
      },
      {
       "output_type": "stream",
       "stream": "stdout",
       "text": [
        "\n",
        "  training loss:\t\t0.528914\n",
        "  validation loss:\t\t0.525611\n",
        "Epoch 104 of 500 took 13.227s"
       ]
      },
      {
       "output_type": "stream",
       "stream": "stdout",
       "text": [
        "\n",
        "  training loss:\t\t0.528922\n",
        "  validation loss:\t\t0.526627\n",
        "Epoch 105 of 500 took 13.231s"
       ]
      },
      {
       "output_type": "stream",
       "stream": "stdout",
       "text": [
        "\n",
        "  training loss:\t\t0.528568\n",
        "  validation loss:\t\t0.525428\n",
        "Epoch 106 of 500 took 13.224s"
       ]
      },
      {
       "output_type": "stream",
       "stream": "stdout",
       "text": [
        "\n",
        "  training loss:\t\t0.528688\n",
        "  validation loss:\t\t0.526933\n",
        "Epoch 107 of 500 took 13.222s"
       ]
      },
      {
       "output_type": "stream",
       "stream": "stdout",
       "text": [
        "\n",
        "  training loss:\t\t0.528545\n",
        "  validation loss:\t\t0.525299\n",
        "Epoch 108 of 500 took 13.221s"
       ]
      },
      {
       "output_type": "stream",
       "stream": "stdout",
       "text": [
        "\n",
        "  training loss:\t\t0.528625\n",
        "  validation loss:\t\t0.526061\n",
        "Epoch 109 of 500 took 13.230s"
       ]
      },
      {
       "output_type": "stream",
       "stream": "stdout",
       "text": [
        "\n",
        "  training loss:\t\t0.528228\n",
        "  validation loss:\t\t0.525110\n",
        "Epoch 110 of 500 took 13.222s"
       ]
      },
      {
       "output_type": "stream",
       "stream": "stdout",
       "text": [
        "\n",
        "  training loss:\t\t0.528473\n",
        "  validation loss:\t\t0.526836\n",
        "Epoch 111 of 500 took 13.225s"
       ]
      },
      {
       "output_type": "stream",
       "stream": "stdout",
       "text": [
        "\n",
        "  training loss:\t\t0.528207\n",
        "  validation loss:\t\t0.525010\n",
        "Epoch 112 of 500 took 13.221s"
       ]
      },
      {
       "output_type": "stream",
       "stream": "stdout",
       "text": [
        "\n",
        "  training loss:\t\t0.528345\n",
        "  validation loss:\t\t0.525710\n",
        "Epoch 113 of 500 took 13.233s"
       ]
      },
      {
       "output_type": "stream",
       "stream": "stdout",
       "text": [
        "\n",
        "  training loss:\t\t0.527929\n",
        "  validation loss:\t\t0.524819\n",
        "Epoch 114 of 500 took 13.222s"
       ]
      },
      {
       "output_type": "stream",
       "stream": "stdout",
       "text": [
        "\n",
        "  training loss:\t\t0.528249\n",
        "  validation loss:\t\t0.526506\n",
        "Epoch 115 of 500 took 13.230s"
       ]
      },
      {
       "output_type": "stream",
       "stream": "stdout",
       "text": [
        "\n",
        "  training loss:\t\t0.527897\n",
        "  validation loss:\t\t0.524743\n",
        "Epoch 116 of 500 took 13.225s"
       ]
      },
      {
       "output_type": "stream",
       "stream": "stdout",
       "text": [
        "\n",
        "  training loss:\t\t0.528090\n",
        "  validation loss:\t\t0.525362\n",
        "Epoch 117 of 500 took 13.235s"
       ]
      },
      {
       "output_type": "stream",
       "stream": "stdout",
       "text": [
        "\n",
        "  training loss:\t\t0.527655\n",
        "  validation loss:\t\t0.524552\n",
        "Epoch 118 of 500 took 13.231s"
       ]
      },
      {
       "output_type": "stream",
       "stream": "stdout",
       "text": [
        "\n",
        "  training loss:\t\t0.528023\n",
        "  validation loss:\t\t0.526244\n",
        "Epoch 119 of 500 took 13.228s"
       ]
      },
      {
       "output_type": "stream",
       "stream": "stdout",
       "text": [
        "\n",
        "  training loss:\t\t0.527625\n",
        "  validation loss:\t\t0.524483\n",
        "Epoch 120 of 500 took 13.229s"
       ]
      },
      {
       "output_type": "stream",
       "stream": "stdout",
       "text": [
        "\n",
        "  training loss:\t\t0.527856\n",
        "  validation loss:\t\t0.525122\n",
        "Epoch 121 of 500 took 13.228s"
       ]
      },
      {
       "output_type": "stream",
       "stream": "stdout",
       "text": [
        "\n",
        "  training loss:\t\t0.527404\n",
        "  validation loss:\t\t0.524303\n",
        "Epoch 122 of 500 took 13.228s"
       ]
      },
      {
       "output_type": "stream",
       "stream": "stdout",
       "text": [
        "\n",
        "  training loss:\t\t0.527773\n",
        "  validation loss:\t\t0.526162\n",
        "Epoch 123 of 500 took 13.231s"
       ]
      },
      {
       "output_type": "stream",
       "stream": "stdout",
       "text": [
        "\n",
        "  training loss:\t\t0.527402\n",
        "  validation loss:\t\t0.524232\n",
        "Epoch 124 of 500 took 13.222s"
       ]
      },
      {
       "output_type": "stream",
       "stream": "stdout",
       "text": [
        "\n",
        "  training loss:\t\t0.527633\n",
        "  validation loss:\t\t0.524896\n",
        "Epoch 125 of 500 took 13.227s"
       ]
      },
      {
       "output_type": "stream",
       "stream": "stdout",
       "text": [
        "\n",
        "  training loss:\t\t0.527170\n",
        "  validation loss:\t\t0.524065\n",
        "Epoch 126 of 500 took 13.237s"
       ]
      },
      {
       "output_type": "stream",
       "stream": "stdout",
       "text": [
        "\n",
        "  training loss:\t\t0.527677\n",
        "  validation loss:\t\t0.524490\n",
        "Epoch 127 of 500 took 13.227s"
       ]
      },
      {
       "output_type": "stream",
       "stream": "stdout",
       "text": [
        "\n",
        "  training loss:\t\t0.527026\n",
        "  validation loss:\t\t0.524147\n",
        "Epoch 128 of 500 took 13.232s"
       ]
      },
      {
       "output_type": "stream",
       "stream": "stdout",
       "text": [
        "\n",
        "  training loss:\t\t0.527408\n",
        "  validation loss:\t\t0.524566\n",
        "Epoch 129 of 500 took 13.226s"
       ]
      },
      {
       "output_type": "stream",
       "stream": "stdout",
       "text": [
        "\n",
        "  training loss:\t\t0.526999\n",
        "  validation loss:\t\t0.524116\n",
        "Epoch 130 of 500 took 13.222s"
       ]
      },
      {
       "output_type": "stream",
       "stream": "stdout",
       "text": [
        "\n",
        "  training loss:\t\t0.527285\n",
        "  validation loss:\t\t0.524407\n",
        "Epoch 131 of 500 took 13.223s"
       ]
      },
      {
       "output_type": "stream",
       "stream": "stdout",
       "text": [
        "\n",
        "  training loss:\t\t0.526902\n",
        "  validation loss:\t\t0.524007\n",
        "Epoch 132 of 500 took 13.233s"
       ]
      },
      {
       "output_type": "stream",
       "stream": "stdout",
       "text": [
        "\n",
        "  training loss:\t\t0.527202\n",
        "  validation loss:\t\t0.524272\n",
        "Epoch 133 of 500 took 13.224s"
       ]
      },
      {
       "output_type": "stream",
       "stream": "stdout",
       "text": [
        "\n",
        "  training loss:\t\t0.526759\n",
        "  validation loss:\t\t0.523642\n",
        "Epoch 134 of 500 took 13.226s"
       ]
      },
      {
       "output_type": "stream",
       "stream": "stdout",
       "text": [
        "\n",
        "  training loss:\t\t0.527319\n",
        "  validation loss:\t\t0.523764\n",
        "Epoch 135 of 500 took 13.222s"
       ]
      },
      {
       "output_type": "stream",
       "stream": "stdout",
       "text": [
        "\n",
        "  training loss:\t\t0.526627\n",
        "  validation loss:\t\t0.523694\n",
        "Epoch 136 of 500 took 13.225s"
       ]
      },
      {
       "output_type": "stream",
       "stream": "stdout",
       "text": [
        "\n",
        "  training loss:\t\t0.527039\n",
        "  validation loss:\t\t0.524240\n",
        "Epoch 137 of 500 took 13.227s"
       ]
      },
      {
       "output_type": "stream",
       "stream": "stdout",
       "text": [
        "\n",
        "  training loss:\t\t0.526623\n",
        "  validation loss:\t\t0.523458\n",
        "Epoch 138 of 500 took 13.220s"
       ]
      },
      {
       "output_type": "stream",
       "stream": "stdout",
       "text": [
        "\n",
        "  training loss:\t\t0.527071\n",
        "  validation loss:\t\t0.524073\n",
        "Epoch 139 of 500 took 13.226s"
       ]
      },
      {
       "output_type": "stream",
       "stream": "stdout",
       "text": [
        "\n",
        "  training loss:\t\t0.526429\n",
        "  validation loss:\t\t0.523411\n",
        "Epoch 140 of 500 took 13.228s"
       ]
      },
      {
       "output_type": "stream",
       "stream": "stdout",
       "text": [
        "\n",
        "  training loss:\t\t0.526924\n",
        "  validation loss:\t\t0.523807\n",
        "Epoch 141 of 500 took 13.235s"
       ]
      },
      {
       "output_type": "stream",
       "stream": "stdout",
       "text": [
        "\n",
        "  training loss:\t\t0.526361\n",
        "  validation loss:\t\t0.523342\n",
        "Epoch 142 of 500 took 13.224s"
       ]
      },
      {
       "output_type": "stream",
       "stream": "stdout",
       "text": [
        "\n",
        "  training loss:\t\t0.526777\n",
        "  validation loss:\t\t0.523767\n",
        "Epoch 143 of 500 took 13.229s"
       ]
      },
      {
       "output_type": "stream",
       "stream": "stdout",
       "text": [
        "\n",
        "  training loss:\t\t0.526331\n",
        "  validation loss:\t\t0.523533\n",
        "Epoch 144 of 500 took 13.232s"
       ]
      },
      {
       "output_type": "stream",
       "stream": "stdout",
       "text": [
        "\n",
        "  training loss:\t\t0.526602\n",
        "  validation loss:\t\t0.523785\n",
        "Epoch 145 of 500 took 13.224s"
       ]
      },
      {
       "output_type": "stream",
       "stream": "stdout",
       "text": [
        "\n",
        "  training loss:\t\t0.526339\n",
        "  validation loss:\t\t0.523549\n",
        "Epoch 146 of 500 took 13.233s"
       ]
      },
      {
       "output_type": "stream",
       "stream": "stdout",
       "text": [
        "\n",
        "  training loss:\t\t0.526488\n",
        "  validation loss:\t\t0.523806\n",
        "Epoch 147 of 500 took 13.229s"
       ]
      },
      {
       "output_type": "stream",
       "stream": "stdout",
       "text": [
        "\n",
        "  training loss:\t\t0.526230\n",
        "  validation loss:\t\t0.523176\n",
        "Epoch 148 of 500 took 13.226s"
       ]
      },
      {
       "output_type": "stream",
       "stream": "stdout",
       "text": [
        "\n",
        "  training loss:\t\t0.526537\n",
        "  validation loss:\t\t0.523628\n",
        "Epoch 149 of 500 took 13.247s"
       ]
      },
      {
       "output_type": "stream",
       "stream": "stdout",
       "text": [
        "\n",
        "  training loss:\t\t0.526150\n",
        "  validation loss:\t\t0.524088\n",
        "Epoch 150 of 500 took 13.231s"
       ]
      },
      {
       "output_type": "stream",
       "stream": "stdout",
       "text": [
        "\n",
        "  training loss:\t\t0.526446\n",
        "  validation loss:\t\t0.523340\n",
        "Epoch 151 of 500 took 13.228s"
       ]
      },
      {
       "output_type": "stream",
       "stream": "stdout",
       "text": [
        "\n",
        "  training loss:\t\t0.526220\n",
        "  validation loss:\t\t0.523479\n",
        "Epoch 152 of 500 took 13.231s"
       ]
      },
      {
       "output_type": "stream",
       "stream": "stdout",
       "text": [
        "\n",
        "  training loss:\t\t0.526127\n",
        "  validation loss:\t\t0.523267\n",
        "Epoch 153 of 500 took 13.224s"
       ]
      },
      {
       "output_type": "stream",
       "stream": "stdout",
       "text": [
        "\n",
        "  training loss:\t\t0.526170\n",
        "  validation loss:\t\t0.523417\n",
        "Epoch 154 of 500 took 13.230s"
       ]
      },
      {
       "output_type": "stream",
       "stream": "stdout",
       "text": [
        "\n",
        "  training loss:\t\t0.526006\n",
        "  validation loss:\t\t0.523021\n",
        "Epoch 155 of 500 took 13.235s"
       ]
      },
      {
       "output_type": "stream",
       "stream": "stdout",
       "text": [
        "\n",
        "  training loss:\t\t0.526213\n",
        "  validation loss:\t\t0.523335\n",
        "Epoch 156 of 500 took 13.229s"
       ]
      },
      {
       "output_type": "stream",
       "stream": "stdout",
       "text": [
        "\n",
        "  training loss:\t\t0.525808\n",
        "  validation loss:\t\t0.522742\n",
        "Epoch 157 of 500 took 13.229s"
       ]
      },
      {
       "output_type": "stream",
       "stream": "stdout",
       "text": [
        "\n",
        "  training loss:\t\t0.526222\n",
        "  validation loss:\t\t0.523355\n",
        "Epoch 158 of 500 took 13.230s"
       ]
      },
      {
       "output_type": "stream",
       "stream": "stdout",
       "text": [
        "\n",
        "  training loss:\t\t0.525771\n",
        "  validation loss:\t\t0.522804\n",
        "Epoch 159 of 500 took 13.231s"
       ]
      },
      {
       "output_type": "stream",
       "stream": "stdout",
       "text": [
        "\n",
        "  training loss:\t\t0.526065\n",
        "  validation loss:\t\t0.523447\n",
        "Epoch 160 of 500 took 13.229s"
       ]
      },
      {
       "output_type": "stream",
       "stream": "stdout",
       "text": [
        "\n",
        "  training loss:\t\t0.525713\n",
        "  validation loss:\t\t0.522547\n",
        "Epoch 161 of 500 took 13.223s"
       ]
      },
      {
       "output_type": "stream",
       "stream": "stdout",
       "text": [
        "\n",
        "  training loss:\t\t0.526176\n",
        "  validation loss:\t\t0.522664\n",
        "Epoch 162 of 500 took 13.232s"
       ]
      },
      {
       "output_type": "stream",
       "stream": "stdout",
       "text": [
        "\n",
        "  training loss:\t\t0.525518\n",
        "  validation loss:\t\t0.522497\n",
        "Epoch 163 of 500 took 13.235s"
       ]
      },
      {
       "output_type": "stream",
       "stream": "stdout",
       "text": [
        "\n",
        "  training loss:\t\t0.526055\n",
        "  validation loss:\t\t0.522707\n",
        "Epoch 164 of 500 took 13.231s"
       ]
      },
      {
       "output_type": "stream",
       "stream": "stdout",
       "text": [
        "\n",
        "  training loss:\t\t0.525487\n",
        "  validation loss:\t\t0.522975\n",
        "Epoch 165 of 500 took 13.228s"
       ]
      },
      {
       "output_type": "stream",
       "stream": "stdout",
       "text": [
        "\n",
        "  training loss:\t\t0.525870\n",
        "  validation loss:\t\t0.523260\n",
        "Epoch 166 of 500 took 13.229s"
       ]
      },
      {
       "output_type": "stream",
       "stream": "stdout",
       "text": [
        "\n",
        "  training loss:\t\t0.525624\n",
        "  validation loss:\t\t0.523012\n",
        "Epoch 167 of 500 took 13.225s"
       ]
      }
     ],
     "prompt_number": "*"
    },
    {
     "cell_type": "code",
     "collapsed": false,
     "input": [
      "plt.plot(np.array(loss_history).clip(max=3))\n",
      "plt.xlabel('iteration')\n",
      "plt.ylabel('loss')"
     ],
     "language": "python",
     "metadata": {},
     "outputs": []
    }
   ],
   "metadata": {}
  }
 ]
}