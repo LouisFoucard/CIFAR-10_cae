{
 "metadata": {
  "name": ""
 },
 "nbformat": 3,
 "nbformat_minor": 0,
 "worksheets": [
  {
   "cells": [
    {
     "cell_type": "code",
     "collapsed": false,
     "input": [
      "import pickle\n",
      "import glob\n",
      "import sys\n",
      "import os\n",
      "import time\n",
      "import cPickle as pickle\n",
      "import numpy as np\n",
      "import theano\n",
      "import theano.tensor as T\n",
      "from IPython.display import Image as IPImage\n",
      "from PIL import Image\n",
      "import lasagne\n",
      "import matplotlib.pyplot as plt\n",
      "\n",
      "from lasagne.layers import get_output, InputLayer, DenseLayer, Upscale2DLayer, ReshapeLayer, ConcatLayer\n",
      "from lasagne.nonlinearities import rectify, leaky_rectify, tanh\n",
      "from lasagne.updates import nesterov_momentum\n",
      "from lasagne.objectives import categorical_crossentropy\n",
      "from nolearn.lasagne import NeuralNet, BatchIterator, PrintLayerInfo\n",
      "\n",
      "from lasagne.layers import Conv2DLayer as Conv2DLayer\n",
      "from lasagne.layers import MaxPool2DLayer as MaxPool2DLayer\n",
      "\n",
      "%matplotlib inline"
     ],
     "language": "python",
     "metadata": {},
     "outputs": [
      {
       "output_type": "stream",
       "stream": "stderr",
       "text": [
        "Using gpu device 0: GRID K520 (CNMeM is disabled)\n"
       ]
      }
     ],
     "prompt_number": 1
    },
    {
     "cell_type": "code",
     "collapsed": false,
     "input": [
      "NUM_EPOCHS = 500\n",
      "BATCH_SIZE = 256\n",
      "LEARNING_RATE = 0.001\n",
      "DIM = 32\n",
      "NUM_CLASSES = 10\n",
      "cifar_npz = \"cifar10.npz\"\n",
      "\n",
      "#Retrieve CIFAR 10\n",
      "#get_ipython().system(u'wget -N https://s3.amazonaws.com/lasagne/recipes/pretrained/cifar10/cifar10.npz')"
     ],
     "language": "python",
     "metadata": {},
     "outputs": [],
     "prompt_number": 2
    },
    {
     "cell_type": "code",
     "collapsed": false,
     "input": [
      "def load_cifar10(dirpath='cifar-10-batches-py'):\n",
      "    # load training data\n",
      "    X, y = [], []\n",
      "    for path in glob.glob('%s/data_batch_*' % dirpath):\n",
      "        with open(path, 'rb') as f:\n",
      "            batch = pickle.load(f)\n",
      "        X.append(batch['data'])\n",
      "        y.append(batch['labels'])\n",
      "    X = np.concatenate(X) \\\n",
      "          .reshape(-1, 3, 32, 32) \\\n",
      "          .astype(np.float32)\n",
      "    y = np.concatenate(y).astype(np.int32)\n",
      "    # split into training and validation sets\n",
      "    ii = np.random.permutation(len(X))\n",
      "    X_train = X[ii[1000:]]\n",
      "    y_train = y[ii[1000:]]\n",
      "    X_valid = X[ii[:1000]]\n",
      "    y_valid = y[ii[:1000]]\n",
      "    # load test set\n",
      "    path = '%s/test_batch' % dirpath\n",
      "    with open(path, 'rb') as f:\n",
      "        batch = pickle.load(f)\n",
      "    X_test = batch['data'] \\\n",
      "             .reshape(-1, 3, 32, 32) \\\n",
      "             .astype(np.float32)\n",
      "    y_test = np.array(batch['labels'], dtype=np.int32)\n",
      "    # normalize to zero mean and unity variance\n",
      "    offset = np.mean(X_train, 0)\n",
      "    scale = np.std(X_train, 0).clip(min=1)\n",
      "    X_train = (X_train - offset) / scale\n",
      "    X_valid = (X_valid - offset) / scale\n",
      "    X_test = (X_test - offset) / scale\n",
      "    return X_train, y_train, X_valid, y_valid, X_test, y_test\n"
     ],
     "language": "python",
     "metadata": {},
     "outputs": [],
     "prompt_number": 3
    },
    {
     "cell_type": "code",
     "collapsed": false,
     "input": [
      "def get_picture_array(X, index, shp=(DIM,DIM),channels=3):\n",
      "    ret = ((X[index]+0.5)*255.).reshape(channels,shp[0],shp[1]) \\\n",
      "        .transpose(2,1,0).clip(0,255).astype(np.uint8)\n",
      "    if channels == 1:\n",
      "        ret=ret.reshape(shp[1],shp[0])\n",
      "    return ret\n",
      "\n",
      "\n",
      "def get_image(X,channels=3,idx=-1):\n",
      "    mode = 'RGB' if channels == 3 else 'L'\n",
      "    index = prng.randint(X.shape[0]) if idx == -1 else idx\n",
      "    shp=X[0][0].shape\n",
      "    image = Image.fromarray(get_picture_array(X, index,shp,channels),mode=mode)\n",
      "    return image\n",
      "X_train, y_train, X_val, y_val, X_test, y_test = load_cifar10()\n",
      "print y_train[15070]\n",
      "\n",
      "get_image(X_train,channels=3,idx=15074).save('frame.jpg')\n",
      "\n",
      "photo = plt.imread('frame.jpg')\n",
      "plt.imshow(photo) \n"
     ],
     "language": "python",
     "metadata": {},
     "outputs": [
      {
       "output_type": "stream",
       "stream": "stdout",
       "text": [
        "4\n"
       ]
      },
      {
       "metadata": {},
       "output_type": "pyout",
       "prompt_number": 4,
       "text": [
        "<matplotlib.image.AxesImage at 0x7f9ac3d3b990>"
       ]
      },
      {
       "metadata": {},
       "output_type": "display_data",
       "png": "[encoded data removed]",
       "text": [
        "<matplotlib.figure.Figure at 0x7f9ac3dca110>"
       ]
      }
     ],
     "prompt_number": 4
    },
    {
     "cell_type": "code",
     "collapsed": false,
     "input": [
      "def build_cnn(input_var=None):\n",
      "    \n",
      "    conv_num_filters1 = 32\n",
      "    conv_num_filters2 = 32\n",
      "    conv_num_filters3 = 64\n",
      "    filter_size1 = 5\n",
      "    filter_size2 = 3\n",
      "    pool_size = 2\n",
      "    encode_size = 64\n",
      "    dense_mid_size = 128\n",
      "    pad_in = 'valid'\n",
      "    pad_out = 'full'\n",
      "\n",
      "    # Input layer, as usual:                                                                                                                                                                                \n",
      "    network = InputLayer(shape=(None, 3, 32, 32),\n",
      "                                        input_var=input_var,name=\"InputLayer_0\")                                                                                                                                   \n",
      "    network = Conv2DLayer(\n",
      "            network, num_filters=conv_num_filters1, filter_size=(filter_size1, filter_size1),pad=pad_in,name = \"Conv2DLayer_1\")\n",
      "    \n",
      "    network = Conv2DLayer(\n",
      "            network, num_filters=conv_num_filters2, filter_size=(filter_size1, filter_size1),pad=pad_in,name = \"Conv2DLayer_2\")\n",
      "                                                                                                                                        \n",
      "    network = MaxPool2DLayer(network, pool_size=(pool_size, pool_size),name = \"MaxPool2DLayer_3\")\n",
      "                                                                                                                                     \n",
      "    network = Conv2DLayer(\n",
      "            network, num_filters=conv_num_filters3, filter_size=(filter_size2, filter_size2),pad=pad_in,name = \"Conv2DLayer_4\")\n",
      "\n",
      "    network = MaxPool2DLayer(network, pool_size=(pool_size, pool_size),name = \"MaxPool2DLayer_5\")\n",
      "\n",
      "    network = ReshapeLayer(network, shape=(([0], -1)),name = \"ReshapeLayer_6\")\n",
      "    \n",
      "    network = DenseLayer(network,num_units=dense_mid_size,name = \"dense_mid_7\")\n",
      "    \n",
      "    network = DenseLayer(network,num_units=encode_size,name = \"encode\")\n",
      "    \n",
      "    network = DenseLayer(network,num_units=dense_mid_size,name = \"dense_mid_9\")\n",
      "    \n",
      "    network = DenseLayer(network,num_units=1600,name = \"dense_mid_10\")\n",
      "    \n",
      "    network = ReshapeLayer(network, shape = (([0], conv_num_filters3, 5, 5)),name = \"ReshapeLayer_11\")\n",
      "    \n",
      "    network = Upscale2DLayer(network, scale_factor=(pool_size, pool_size),name = \"Upscale2DLayer_12\")\n",
      "    \n",
      "    network = Conv2DLayer(\n",
      "            network, num_filters=conv_num_filters3, filter_size=(filter_size2, filter_size2),pad=pad_out,name = \"Conv2DLayer_13\")\n",
      "    \n",
      "    network = Upscale2DLayer(network, scale_factor=(pool_size, pool_size),name = \"Upscale2DLayer_14\")\n",
      "    \n",
      "    network = Conv2DLayer(\n",
      "            network, num_filters=conv_num_filters2, filter_size=(filter_size1, filter_size1),pad=pad_out,name = \"Conv2DLayer_15\")\n",
      "    \n",
      "    network = Conv2DLayer(\n",
      "            network, num_filters=3, filter_size=(filter_size1, filter_size1),pad=pad_out, name = \"Conv2DLayer_16\")\n",
      "    \n",
      "    network = ReshapeLayer(network, shape=(([0], -1)),name = \"ReshapeLayer_17\")\n",
      "\n",
      "    return network\n",
      "\n",
      "\n",
      "def build_cae1(input_var=None):\n",
      "    \n",
      "    conv_num_filters1 = 32\n",
      "    filter_size1 = 5\n",
      "    pool_size = 2\n",
      "    encode_size = 100\n",
      "    pad_in = 'valid'\n",
      "    pad_out = 'full'\n",
      "\n",
      "    # Input layer, as usual:                                                                                                                                                                                \n",
      "    network = InputLayer(shape=(None, 3, 32, 32),\n",
      "                                        input_var=input_var,name=\"InputLayer_0\")                                                                                                                                   \n",
      "    network = Conv2DLayer(\n",
      "            network, num_filters=conv_num_filters1, filter_size=(filter_size1, filter_size1),pad=pad_in,name = \"Conv2DLayer_1\")\n",
      "                                                                                                                                    \n",
      "    network = MaxPool2DLayer(network, pool_size=(pool_size, pool_size),name = \"MaxPool2DLayer_3\")\n",
      "                                                                                                                                     \n",
      "    network = ReshapeLayer(network, shape=(([0], -1)),name = \"ReshapeLayer_6\")\n",
      "    \n",
      "    network = DenseLayer(network,num_units=encode_size,name = \"dense_mid_7\")\n",
      "    \n",
      "    network = DenseLayer(network,num_units=6272,name = \"dense_mid_10\")\n",
      "      \n",
      "    network = ReshapeLayer(network, shape = (([0], conv_num_filters1, 14, 14)),name = \"ReshapeLayer_11\")\n",
      "    \n",
      "    network = Upscale2DLayer(network, scale_factor=(pool_size, pool_size),name = \"Upscale2DLayer_12\")\n",
      "    \n",
      "    network = Conv2DLayer(\n",
      "            network, num_filters=3, filter_size=(filter_size1, filter_size1),pad=pad_out,name = \"Conv2DLayer_13\")\n",
      "       \n",
      "    network = ReshapeLayer(network, shape=(([0], -1)),name = \"ReshapeLayer_17\")\n",
      "\n",
      "    return network\n",
      "\n",
      "def build_scnn(input_varL=None,input_varR=None):\n",
      "    \n",
      "    conv_num_filters1 = 32\n",
      "    filter_size1 = 5\n",
      "    pool_size = 2\n",
      "    encode_size = 100\n",
      "    pad_in = 'valid'\n",
      "    pad_out = 'full'\n",
      "\n",
      "    # Input layer, as usual:                                                                                                                                                                                \n",
      "    inputL = InputLayer(shape=(None, 3, 32, 32),\n",
      "                                        input_var=input_varL,name=\"InputLayer_L\") \n",
      "    \n",
      "    inputR = InputLayer(shape=(None, 3, 32, 32),\n",
      "                                        input_var=input_varR,name=\"InputLayer_R\") \n",
      "    \n",
      "    Conv2DL = Conv2DLayer(\n",
      "            inputL, num_filters=conv_num_filters1, filter_size=(filter_size1, filter_size1),pad=pad_in,name = \"Conv2DLayerL\")\n",
      "    \n",
      "    Conv2DR = Conv2DLayer(\n",
      "            inputR, num_filters=conv_num_filters1, filter_size=(filter_size1, filter_size1),pad=pad_in,name = \"Conv2DLayerR\")\n",
      "                   \n",
      "    DenseLayer_L1 = DenseLayer(Conv2DL,num_units=200,name = \"dense_L1\")\n",
      "    \n",
      "    DenseLayer_L2 = DenseLayer(Conv2DL,num_units=200,name = \"dense_L2\")\n",
      "    \n",
      "    DenseLayer_R1 = DenseLayer(Conv2DR,num_units=200,name = \"dense_R1\")\n",
      "    \n",
      "    DenseLayer_R2 = DenseLayer(Conv2DR,num_units=200,name = \"dense_R2\")\n",
      "    \n",
      "    ConcatLayer = ConcatLayer([DenseLayer_L2,DenseLayer_R2])\n",
      "                                                                                                                                     \n",
      "    DenseLayer_3 = DenseLayer(ConcatLayer,num_units=300,name = \"dense_3\")\n",
      "    \n",
      "    DenseLayer_4 = DenseLayer(DenseLayer_3,num_units=300,name = \"dense_4\")\n",
      "    \n",
      "    DenseLayer_5 = DenseLayer(DenseLayer_4,num_units=300,name = \"dense_5\")\n",
      "    \n",
      "    network = DenseLayer(DenseLayer_5,num_units=300,name = \"dense_6\")\n",
      "\n",
      "    return network\n"
     ],
     "language": "python",
     "metadata": {},
     "outputs": [],
     "prompt_number": 5
    },
    {
     "cell_type": "code",
     "collapsed": false,
     "input": [
      "def iterate_minibatches(inputs, targets, batchsize, shuffle=False):\n",
      "    assert len(inputs) == len(targets)\n",
      "    if shuffle:\n",
      "        indices = np.arange(len(inputs))\n",
      "        np.random.shuffle(indices)\n",
      "    for start_idx in range(0, len(inputs) - batchsize + 1, batchsize):\n",
      "        if shuffle:\n",
      "            excerpt = indices[start_idx:start_idx + batchsize]\n",
      "        else:\n",
      "            excerpt = slice(start_idx, start_idx + batchsize)\n",
      "        yield inputs[excerpt], targets[excerpt]\n",
      "\n",
      "def iterator(X, batchsize):\n",
      "    indices = np.arange(len(X))\n",
      "    for i in range(0, len(X) - batchsize + 1, batchsize):\n",
      "        sli = indices[i:i+batchsize]\n",
      "        yield X[sli]"
     ],
     "language": "python",
     "metadata": {},
     "outputs": [],
     "prompt_number": 6
    },
    {
     "cell_type": "code",
     "collapsed": false,
     "input": [
      "def save_params(model, fn):\n",
      "    with open(fn, 'w') as wr:\n",
      "        pickle.dump(lasagne.layers.get_all_param_values(model), wr)"
     ],
     "language": "python",
     "metadata": {},
     "outputs": [],
     "prompt_number": 7
    },
    {
     "cell_type": "code",
     "collapsed": false,
     "input": [
      "def main(model='cnn', num_epochs=500):\n",
      "    # Load the dataset                                                                                                                                                                                      \n",
      "    print(\"Loading data...\")\n",
      "    X_train, y_train, X_val, y_val, X_test, y_test = load_cifar10()\n",
      "\n",
      "    print('Train data shape: ', X_train.shape)\n",
      "    print('Train labels shape: ', y_train.shape)\n",
      "    print('Validation data shape: ', X_val.shape)\n",
      "    print('Validation labels shape: ', y_val.shape)\n",
      "    print('Test data shape: ', X_test.shape)\n",
      "    print('Test labels shape: ', y_test.shape)\n",
      "\n",
      "    # Prepare Theano variables for inputs and targets                                                                                                                                                       \n",
      "    input_var = T.tensor4('inputs')\n",
      "    #target_var = T.ivector('targets')\n",
      "\n",
      "    # Create neural network model (depending on first command line parameter)                                                                                                                               \n",
      "    print(\"Building model and compiling functions...\")\n",
      "\n",
      "    network = build_cae1(input_var)\n",
      "    laylist = lasagne.layers.get_all_layers(network)\n",
      "    \n",
      "    with np.load('model.npz') as f:                                                                                                                                                                       \n",
      "        param_values = [f['arr_%d' % i] for i in range(len(f.files))]  \n",
      "        \n",
      "    lasagne.layers.set_all_param_values(network, param_values)  \n",
      "    \n",
      "    for l in laylist:\n",
      "        print l.name, lasagne.layers.get_output_shape(l)\n",
      "        \n",
      "    # Create a loss expression for training, i.e., a scalar objective we want                                                                                                                               \n",
      "    # to minimize (for our multi-class problem, it is the cross-entropy loss):                                                                                                                              \n",
      "    prediction = lasagne.layers.get_output(network)\n",
      "    loss = lasagne.objectives.squared_error(prediction, input_var.flatten(2))\n",
      "    loss = loss.mean()\n",
      "    # We could add some weight decay as well here, see lasagne.regularization.                                                                                                                              \n",
      "\n",
      "    # Create update expressions for training, i.e., how to modify the                                                                                                                                       \n",
      "    # parameters at each training step. Here, we'll use Stochastic Gradient                                                                                                                                 \n",
      "    # Descent (SGD) with Nesterov momentum, but Lasagne offers plenty more.                                                                                                                                 \n",
      "    params = lasagne.layers.get_all_params(network, trainable=True)\n",
      "    updates = lasagne.updates.nesterov_momentum(\n",
      "            loss, params, learning_rate=0.01, momentum=0.9)\n",
      "\n",
      "    # Create a loss expression for validation/testing. The crucial difference                                                                                                                               \n",
      "    # here is that we do a deterministic forward pass through the network,                                                                                                                                  \n",
      "    # disabling dropout layers.                                                                                                                                                                             \n",
      "    test_prediction = lasagne.layers.get_output(network, deterministic=True)\n",
      "    test_loss = lasagne.objectives.squared_error(test_prediction,\n",
      "                                                            input_var.flatten(2))\n",
      "    test_loss = test_loss.mean()\n",
      "    # As a bonus, also create an expression for the classification accuracy:                                                                                                                                \n",
      "    #test_acc = T.mean(T.eq(T.argmax(test_prediction, axis=1), input_var.flatten(2)),dtype=theano.config.floatX)\n",
      "\n",
      "    # Compile a function performing a training step on a mini-batch (by giving                                                                                                                              \n",
      "    # the updates dictionary) and returning the corresponding training loss:                                                                                                                                \n",
      "    #train_fn = theano.function([input_var, target_var], loss, updates=updates)\n",
      "    train_fn = theano.function([input_var], loss, updates=updates)\n",
      "    #out_fn = theano.function([input_var],prediction)\n",
      "    #loss_fn = theano.function([input_var],loss)\n",
      "    # Compile a second function computing the validation loss and accuracy:                                                                                                                                 \n",
      "    #val_fn = theano.function([input_var, target_var], [test_loss, test_acc])\n",
      "    val_fn = theano.function([input_var], test_loss)\n",
      "    # Finally, launch the training loop.                                                                                                                                                                    \n",
      "    print(\"Starting training...\")\n",
      "    loss_history = []\n",
      "    # We iterate over epochs:                                                                                                                                                                               \n",
      "    for epoch in range(num_epochs):\n",
      "        # In each epoch, we do a full pass over the training data:                                                                                                                                          \n",
      "        train_err = 0\n",
      "        train_batches = 0\n",
      "        start_time = time.time()\n",
      "            \n",
      "        for batch in iterator(X_train, 500):\n",
      "            train_err += train_fn(batch)\n",
      "            train_batches += 1\n",
      "            loss_history.append(train_err)\n",
      "        \n",
      "        # And a full pass over the validation data:                                                                                                                                                         \n",
      "        val_err = 0\n",
      "        val_acc = 0\n",
      "        val_batches = 0\n",
      "        \n",
      "        for batch in iterator(X_val, 500):\n",
      "            err = val_fn(batch)\n",
      "            val_err += err\n",
      "            val_batches += 1\n",
      "            \n",
      "\n",
      "        # Then we print the results for this epoch:                                                                                                                                                         \n",
      "        print(\"Epoch {} of {} took {:.3f}s\".format(epoch + 1, num_epochs, time.time() - start_time))\n",
      "        print(\"  training loss:\\t\\t{:.6f}\".format(train_err / train_batches))\n",
      "        print(\"  validation loss:\\t\\t{:.6f}\".format(val_err / val_batches))\n",
      "        np.savez('model.npz', *lasagne.layers.get_all_param_values(network))           \n",
      "        \n",
      "    # After training, we compute and print the test error:                                                                                                                                                  \n",
      "    test_err = 0\n",
      "    test_acc = 0\n",
      "    test_batches = 0\n",
      "    for batch in iterator(X_test,500):\n",
      "        err = val_fn(batch)\n",
      "        test_err += err\n",
      "        test_batches += 1\n",
      "        \n",
      "    print(\"Final results:\")\n",
      "    print(\"  test loss:\\t\\t\\t{:.6f}\".format(test_err / test_batches))\n",
      "    \n",
      "    # Optionally, you could now dump the network weights to a file like this:                                                                                                                               \n",
      "    np.savez('model.npz', *lasagne.layers.get_all_param_values(network))                                                                                                                                  \n",
      "    #                                                                                                                                                                                                       \n",
      "    # And load them again later on like this:                                                                                                                                                               \n",
      "    # with np.load('model.npz') as f:                                                                                                                                                                       \n",
      "    #     param_values = [f['arr_%d' % i] for i in range(len(f.files))]                                                                                                                                     \n",
      "    # lasagne.layers.set_all_param_values(network, param_values)  \n"
     ],
     "language": "python",
     "metadata": {},
     "outputs": [],
     "prompt_number": 8
    },
    {
     "cell_type": "code",
     "collapsed": false,
     "input": [
      " main()"
     ],
     "language": "python",
     "metadata": {},
     "outputs": [
      {
       "output_type": "stream",
       "stream": "stdout",
       "text": [
        "Loading data...\n",
        "('Train data shape: ', (49000, 3, 32, 32))"
       ]
      },
      {
       "output_type": "stream",
       "stream": "stdout",
       "text": [
        "\n",
        "('Train labels shape: ', (49000,))\n",
        "('Validation data shape: ', (1000, 3, 32, 32))\n",
        "('Validation labels shape: ', (1000,))\n",
        "('Test data shape: ', (10000, 3, 32, 32))\n",
        "('Test labels shape: ', (10000,))\n",
        "Building model and compiling functions...\n",
        "InputLayer_0 (None, 3, 32, 32)\n",
        "Conv2DLayer_1 (None, 32, 28, 28)\n",
        "MaxPool2DLayer_3 (None, 32, 14, 14)\n",
        "ReshapeLayer_6 (None, 6272)\n",
        "dense_mid_7 (None, 100)\n",
        "dense_mid_10 (None, 6272)\n",
        "ReshapeLayer_11 (None, 32, 14, 14)\n",
        "Upscale2DLayer_12 (None, 32, 28, 28)\n",
        "Conv2DLayer_13 (None, 3, 32, 32)\n",
        "ReshapeLayer_17 (None, 3072)\n",
        "Starting training..."
       ]
      },
      {
       "output_type": "stream",
       "stream": "stdout",
       "text": [
        "\n",
        "Epoch 1 of 500 took 13.356s"
       ]
      },
      {
       "output_type": "stream",
       "stream": "stdout",
       "text": [
        "\n",
        "  training loss:\t\t0.525950\n",
        "  validation loss:\t\t0.526529\n",
        "Epoch 2 of 500 took 13.307s"
       ]
      },
      {
       "output_type": "stream",
       "stream": "stdout",
       "text": [
        "\n",
        "  training loss:\t\t0.525731\n",
        "  validation loss:\t\t0.526744\n",
        "Epoch 3 of 500 took 13.267s"
       ]
      },
      {
       "output_type": "stream",
       "stream": "stdout",
       "text": [
        "\n",
        "  training loss:\t\t0.525639\n",
        "  validation loss:\t\t0.526725\n",
        "Epoch 4 of 500 took 13.290s"
       ]
      },
      {
       "output_type": "stream",
       "stream": "stdout",
       "text": [
        "\n",
        "  training loss:\t\t0.525660\n",
        "  validation loss:\t\t0.526639\n",
        "Epoch 5 of 500 took 13.283s"
       ]
      },
      {
       "output_type": "stream",
       "stream": "stdout",
       "text": [
        "\n",
        "  training loss:\t\t0.525601\n",
        "  validation loss:\t\t0.526683\n",
        "Epoch 6 of 500 took 13.293s"
       ]
      },
      {
       "output_type": "stream",
       "stream": "stdout",
       "text": [
        "\n",
        "  training loss:\t\t0.525587\n",
        "  validation loss:\t\t0.526622\n",
        "Epoch 7 of 500 took 13.283s"
       ]
      },
      {
       "output_type": "stream",
       "stream": "stdout",
       "text": [
        "\n",
        "  training loss:\t\t0.525541\n",
        "  validation loss:\t\t0.526659\n",
        "Epoch 8 of 500 took 13.276s"
       ]
      },
      {
       "output_type": "stream",
       "stream": "stdout",
       "text": [
        "\n",
        "  training loss:\t\t0.525530\n",
        "  validation loss:\t\t0.526567\n",
        "Epoch 9 of 500 took 13.277s"
       ]
      },
      {
       "output_type": "stream",
       "stream": "stdout",
       "text": [
        "\n",
        "  training loss:\t\t0.525475\n",
        "  validation loss:\t\t0.526621\n",
        "Epoch 10 of 500 took 13.284s"
       ]
      },
      {
       "output_type": "stream",
       "stream": "stdout",
       "text": [
        "\n",
        "  training loss:\t\t0.525479\n",
        "  validation loss:\t\t0.526504\n",
        "Epoch 11 of 500 took 13.271s"
       ]
      },
      {
       "output_type": "stream",
       "stream": "stdout",
       "text": [
        "\n",
        "  training loss:\t\t0.525404\n",
        "  validation loss:\t\t0.526589\n",
        "Epoch 12 of 500 took 13.274s"
       ]
      },
      {
       "output_type": "stream",
       "stream": "stdout",
       "text": [
        "\n",
        "  training loss:\t\t0.525439\n",
        "  validation loss:\t\t0.526435\n",
        "Epoch 13 of 500 took 13.272s"
       ]
      },
      {
       "output_type": "stream",
       "stream": "stdout",
       "text": [
        "\n",
        "  training loss:\t\t0.525317\n",
        "  validation loss:\t\t0.526545\n",
        "Epoch 14 of 500 took 13.279s"
       ]
      },
      {
       "output_type": "stream",
       "stream": "stdout",
       "text": [
        "\n",
        "  training loss:\t\t0.525414\n",
        "  validation loss:\t\t0.526305\n",
        "Epoch 15 of 500 took 13.279s"
       ]
      },
      {
       "output_type": "stream",
       "stream": "stdout",
       "text": [
        "\n",
        "  training loss:\t\t0.525201\n",
        "  validation loss:\t\t0.526483\n",
        "Epoch 16 of 500 took 13.267s"
       ]
      },
      {
       "output_type": "stream",
       "stream": "stdout",
       "text": [
        "\n",
        "  training loss:\t\t0.525403\n",
        "  validation loss:\t\t0.526096\n",
        "Epoch 17 of 500 took 13.275s"
       ]
      },
      {
       "output_type": "stream",
       "stream": "stdout",
       "text": [
        "\n",
        "  training loss:\t\t0.525083\n",
        "  validation loss:\t\t0.526355\n",
        "Epoch 18 of 500 took 13.303s"
       ]
      },
      {
       "output_type": "stream",
       "stream": "stdout",
       "text": [
        "\n",
        "  training loss:\t\t0.525396\n",
        "  validation loss:\t\t0.525825\n",
        "Epoch 19 of 500 took 13.277s"
       ]
      },
      {
       "output_type": "stream",
       "stream": "stdout",
       "text": [
        "\n",
        "  training loss:\t\t0.525154\n",
        "  validation loss:\t\t0.528653\n",
        "Epoch 20 of 500 took 13.286s"
       ]
      },
      {
       "output_type": "stream",
       "stream": "stdout",
       "text": [
        "\n",
        "  training loss:\t\t0.525258\n",
        "  validation loss:\t\t0.526046\n",
        "Epoch 21 of 500 took 13.278s"
       ]
      },
      {
       "output_type": "stream",
       "stream": "stdout",
       "text": [
        "\n",
        "  training loss:\t\t0.525231\n",
        "  validation loss:\t\t0.526341\n",
        "Epoch 22 of 500 took 13.272s"
       ]
      },
      {
       "output_type": "stream",
       "stream": "stdout",
       "text": [
        "\n",
        "  training loss:\t\t0.525086\n",
        "  validation loss:\t\t0.526289\n",
        "Epoch 23 of 500 took 13.278s"
       ]
      },
      {
       "output_type": "stream",
       "stream": "stdout",
       "text": [
        "\n",
        "  training loss:\t\t0.525131\n",
        "  validation loss:\t\t0.526145\n",
        "Epoch 24 of 500 took 13.272s"
       ]
      },
      {
       "output_type": "stream",
       "stream": "stdout",
       "text": [
        "\n",
        "  training loss:\t\t0.525080\n",
        "  validation loss:\t\t0.526362\n",
        "Epoch 25 of 500 took 13.277s"
       ]
      },
      {
       "output_type": "stream",
       "stream": "stdout",
       "text": [
        "\n",
        "  training loss:\t\t0.525017\n",
        "  validation loss:\t\t0.525900\n",
        "Epoch 26 of 500 took 13.277s"
       ]
      },
      {
       "output_type": "stream",
       "stream": "stdout",
       "text": [
        "\n",
        "  training loss:\t\t0.525118\n",
        "  validation loss:\t\t0.526490\n",
        "Epoch 27 of 500 took 13.280s"
       ]
      },
      {
       "output_type": "stream",
       "stream": "stdout",
       "text": [
        "\n",
        "  training loss:\t\t0.524882\n",
        "  validation loss:\t\t0.525749\n",
        "Epoch 28 of 500 took 13.311s"
       ]
      },
      {
       "output_type": "stream",
       "stream": "stdout",
       "text": [
        "\n",
        "  training loss:\t\t0.525323\n",
        "  validation loss:\t\t0.525624\n",
        "Epoch 29 of 500 took 13.310s"
       ]
      },
      {
       "output_type": "stream",
       "stream": "stdout",
       "text": [
        "\n",
        "  training loss:\t\t0.525014\n",
        "  validation loss:\t\t0.526224\n",
        "Epoch 30 of 500 took 13.269s"
       ]
      },
      {
       "output_type": "stream",
       "stream": "stdout",
       "text": [
        "\n",
        "  training loss:\t\t0.524880\n",
        "  validation loss:\t\t0.526099\n",
        "Epoch 31 of 500 took 13.263s"
       ]
      },
      {
       "output_type": "stream",
       "stream": "stdout",
       "text": [
        "\n",
        "  training loss:\t\t0.524976\n",
        "  validation loss:\t\t0.525975\n",
        "Epoch 32 of 500 took 13.280s"
       ]
      },
      {
       "output_type": "stream",
       "stream": "stdout",
       "text": [
        "\n",
        "  training loss:\t\t0.524856\n",
        "  validation loss:\t\t0.526152\n",
        "Epoch 33 of 500 took 13.305s"
       ]
      },
      {
       "output_type": "stream",
       "stream": "stdout",
       "text": [
        "\n",
        "  training loss:\t\t0.524910\n",
        "  validation loss:\t\t0.525977\n",
        "Epoch 34 of 500 took 13.335s"
       ]
      },
      {
       "output_type": "stream",
       "stream": "stdout",
       "text": [
        "\n",
        "  training loss:\t\t0.524801\n",
        "  validation loss:\t\t0.526095\n",
        "Epoch 35 of 500 took 13.326s"
       ]
      },
      {
       "output_type": "stream",
       "stream": "stdout",
       "text": [
        "\n",
        "  training loss:\t\t0.524889\n",
        "  validation loss:\t\t0.525931\n",
        "Epoch 36 of 500 took 13.327s"
       ]
      },
      {
       "output_type": "stream",
       "stream": "stdout",
       "text": [
        "\n",
        "  training loss:\t\t0.524712\n",
        "  validation loss:\t\t0.526020\n",
        "Epoch 37 of 500 took 13.295s"
       ]
      },
      {
       "output_type": "stream",
       "stream": "stdout",
       "text": [
        "\n",
        "  training loss:\t\t0.524881\n",
        "  validation loss:\t\t0.525758\n",
        "Epoch 38 of 500 took 13.279s"
       ]
      },
      {
       "output_type": "stream",
       "stream": "stdout",
       "text": [
        "\n",
        "  training loss:\t\t0.524587\n",
        "  validation loss:\t\t0.525812\n",
        "Epoch 39 of 500 took 13.273s"
       ]
      },
      {
       "output_type": "stream",
       "stream": "stdout",
       "text": [
        "\n",
        "  training loss:\t\t0.524897\n",
        "  validation loss:\t\t0.525505\n",
        "Epoch 40 of 500 took 13.282s"
       ]
      },
      {
       "output_type": "stream",
       "stream": "stdout",
       "text": [
        "\n",
        "  training loss:\t\t0.524432\n",
        "  validation loss:\t\t0.525754\n",
        "Epoch 41 of 500 took 13.341s"
       ]
      },
      {
       "output_type": "stream",
       "stream": "stdout",
       "text": [
        "\n",
        "  training loss:\t\t0.525046\n",
        "  validation loss:\t\t0.525578\n",
        "Epoch 42 of 500 took 13.309s"
       ]
      },
      {
       "output_type": "stream",
       "stream": "stdout",
       "text": [
        "\n",
        "  training loss:\t\t0.524724\n",
        "  validation loss:\t\t0.526610\n",
        "Epoch 43 of 500 took 13.308s"
       ]
      },
      {
       "output_type": "stream",
       "stream": "stdout",
       "text": [
        "\n",
        "  training loss:\t\t0.524530\n",
        "  validation loss:\t\t0.525360\n",
        "Epoch 44 of 500 took 13.302s"
       ]
      },
      {
       "output_type": "stream",
       "stream": "stdout",
       "text": [
        "\n",
        "  training loss:\t\t0.524792\n",
        "  validation loss:\t\t0.526318\n",
        "Epoch 45 of 500 took 13.305s"
       ]
      },
      {
       "output_type": "stream",
       "stream": "stdout",
       "text": [
        "\n",
        "  training loss:\t\t0.524446\n",
        "  validation loss:\t\t0.525182\n",
        "Epoch 46 of 500 took 13.270s"
       ]
      },
      {
       "output_type": "stream",
       "stream": "stdout",
       "text": [
        "\n",
        "  training loss:\t\t0.524854\n",
        "  validation loss:\t\t0.525585\n",
        "Epoch 47 of 500 took 13.275s"
       ]
      },
      {
       "output_type": "stream",
       "stream": "stdout",
       "text": [
        "\n",
        "  training loss:\t\t0.524477\n",
        "  validation loss:\t\t0.525773\n",
        "Epoch 48 of 500 took 13.277s"
       ]
      },
      {
       "output_type": "stream",
       "stream": "stdout",
       "text": [
        "\n",
        "  training loss:\t\t0.524620\n",
        "  validation loss:\t\t0.525603\n",
        "Epoch 49 of 500 took 13.283s"
       ]
      },
      {
       "output_type": "stream",
       "stream": "stdout",
       "text": [
        "\n",
        "  training loss:\t\t0.524494\n",
        "  validation loss:\t\t0.525806\n",
        "Epoch 50 of 500 took 13.315s"
       ]
      },
      {
       "output_type": "stream",
       "stream": "stdout",
       "text": [
        "\n",
        "  training loss:\t\t0.524532\n",
        "  validation loss:\t\t0.525654\n",
        "Epoch 51 of 500 took 13.316s"
       ]
      },
      {
       "output_type": "stream",
       "stream": "stdout",
       "text": [
        "\n",
        "  training loss:\t\t0.524469\n",
        "  validation loss:\t\t0.525744\n",
        "Epoch 52 of 500 took 13.275s"
       ]
      },
      {
       "output_type": "stream",
       "stream": "stdout",
       "text": [
        "\n",
        "  training loss:\t\t0.524491\n",
        "  validation loss:\t\t0.525642\n",
        "Epoch 53 of 500 took 13.263s"
       ]
      },
      {
       "output_type": "stream",
       "stream": "stdout",
       "text": [
        "\n",
        "  training loss:\t\t0.524405\n",
        "  validation loss:\t\t0.525660\n",
        "Epoch 54 of 500 took 13.265s"
       ]
      },
      {
       "output_type": "stream",
       "stream": "stdout",
       "text": [
        "\n",
        "  training loss:\t\t0.524499\n",
        "  validation loss:\t\t0.525575\n",
        "Epoch 55 of 500 took 13.306s"
       ]
      },
      {
       "output_type": "stream",
       "stream": "stdout",
       "text": [
        "\n",
        "  training loss:\t\t0.524234\n",
        "  validation loss:\t\t0.525200\n",
        "Epoch 56 of 500 took 13.320s"
       ]
      },
      {
       "output_type": "stream",
       "stream": "stdout",
       "text": [
        "\n",
        "  training loss:\t\t0.524624\n",
        "  validation loss:\t\t0.525499\n",
        "Epoch 57 of 500 took 13.309s"
       ]
      },
      {
       "output_type": "stream",
       "stream": "stdout",
       "text": [
        "\n",
        "  training loss:\t\t0.524306\n",
        "  validation loss:\t\t0.527423\n",
        "Epoch 58 of 500 took 13.286s"
       ]
      },
      {
       "output_type": "stream",
       "stream": "stdout",
       "text": [
        "\n",
        "  training loss:\t\t0.524499\n",
        "  validation loss:\t\t0.525819\n",
        "Epoch 59 of 500 took 13.289s"
       ]
      },
      {
       "output_type": "stream",
       "stream": "stdout",
       "text": [
        "\n",
        "  training loss:\t\t0.524380\n",
        "  validation loss:\t\t0.525887\n",
        "Epoch 60 of 500 took 13.270s"
       ]
      },
      {
       "output_type": "stream",
       "stream": "stdout",
       "text": [
        "\n",
        "  training loss:\t\t0.524299\n",
        "  validation loss:\t\t0.525732\n",
        "Epoch 61 of 500 took 13.304s"
       ]
      },
      {
       "output_type": "stream",
       "stream": "stdout",
       "text": [
        "\n",
        "  training loss:\t\t0.524332\n",
        "  validation loss:\t\t0.525763\n",
        "Epoch 62 of 500 took 13.293s"
       ]
      },
      {
       "output_type": "stream",
       "stream": "stdout",
       "text": [
        "\n",
        "  training loss:\t\t0.524253\n",
        "  validation loss:\t\t0.525663\n",
        "Epoch 63 of 500 took 13.285s"
       ]
      },
      {
       "output_type": "stream",
       "stream": "stdout",
       "text": [
        "\n",
        "  training loss:\t\t0.524303\n",
        "  validation loss:\t\t0.525763\n",
        "Epoch 64 of 500 took 13.315s"
       ]
      },
      {
       "output_type": "stream",
       "stream": "stdout",
       "text": [
        "\n",
        "  training loss:\t\t0.524173\n",
        "  validation loss:\t\t0.525374\n",
        "Epoch 65 of 500 took 13.280s"
       ]
      },
      {
       "output_type": "stream",
       "stream": "stdout",
       "text": [
        "\n",
        "  training loss:\t\t0.524327\n",
        "  validation loss:\t\t0.525773\n",
        "Epoch 66 of 500 took 13.276s"
       ]
      },
      {
       "output_type": "stream",
       "stream": "stdout",
       "text": [
        "\n",
        "  training loss:\t\t0.524060\n",
        "  validation loss:\t\t0.524854\n",
        "Epoch 67 of 500 took 13.271s"
       ]
      },
      {
       "output_type": "stream",
       "stream": "stdout",
       "text": [
        "\n",
        "  training loss:\t\t0.524602\n",
        "  validation loss:\t\t0.525260\n",
        "Epoch 68 of 500 took 13.276s"
       ]
      },
      {
       "output_type": "stream",
       "stream": "stdout",
       "text": [
        "\n",
        "  training loss:\t\t0.523959\n",
        "  validation loss:\t\t0.524943\n",
        "Epoch 69 of 500 took 13.264s"
       ]
      },
      {
       "output_type": "stream",
       "stream": "stdout",
       "text": [
        "\n",
        "  training loss:\t\t0.524271\n",
        "  validation loss:\t\t0.525222\n",
        "Epoch 70 of 500 took 13.269s"
       ]
      },
      {
       "output_type": "stream",
       "stream": "stdout",
       "text": [
        "\n",
        "  training loss:\t\t0.524103\n",
        "  validation loss:\t\t0.525249\n",
        "Epoch 71 of 500 took 13.285s"
       ]
      },
      {
       "output_type": "stream",
       "stream": "stdout",
       "text": [
        "\n",
        "  training loss:\t\t0.524150\n",
        "  validation loss:\t\t0.525224\n",
        "Epoch 72 of 500 took 13.276s"
       ]
      },
      {
       "output_type": "stream",
       "stream": "stdout",
       "text": [
        "\n",
        "  training loss:\t\t0.524087\n",
        "  validation loss:\t\t0.525264\n",
        "Epoch 73 of 500 took 13.268s"
       ]
      },
      {
       "output_type": "stream",
       "stream": "stdout",
       "text": [
        "\n",
        "  training loss:\t\t0.524102\n",
        "  validation loss:\t\t0.525209\n",
        "Epoch 74 of 500 took 13.270s"
       ]
      },
      {
       "output_type": "stream",
       "stream": "stdout",
       "text": [
        "\n",
        "  training loss:\t\t0.524050\n",
        "  validation loss:\t\t0.525258\n",
        "Epoch 75 of 500 took 13.279s"
       ]
      },
      {
       "output_type": "stream",
       "stream": "stdout",
       "text": [
        "\n",
        "  training loss:\t\t0.524076\n",
        "  validation loss:\t\t0.525185\n",
        "Epoch 76 of 500 took 13.265s"
       ]
      },
      {
       "output_type": "stream",
       "stream": "stdout",
       "text": [
        "\n",
        "  training loss:\t\t0.524002\n",
        "  validation loss:\t\t0.525244\n",
        "Epoch 77 of 500 took 13.279s"
       ]
      },
      {
       "output_type": "stream",
       "stream": "stdout",
       "text": [
        "\n",
        "  training loss:\t\t0.524060\n",
        "  validation loss:\t\t0.525099\n",
        "Epoch 78 of 500 took 13.270s"
       ]
      },
      {
       "output_type": "stream",
       "stream": "stdout",
       "text": [
        "\n",
        "  training loss:\t\t0.523933\n",
        "  validation loss:\t\t0.525260\n",
        "Epoch 79 of 500 took 13.273s"
       ]
      },
      {
       "output_type": "stream",
       "stream": "stdout",
       "text": [
        "\n",
        "  training loss:\t\t0.524061\n",
        "  validation loss:\t\t0.524961\n",
        "Epoch 80 of 500 took 13.264s"
       ]
      },
      {
       "output_type": "stream",
       "stream": "stdout",
       "text": [
        "\n",
        "  training loss:\t\t0.523815\n",
        "  validation loss:\t\t0.525033\n",
        "Epoch 81 of 500 took 13.271s"
       ]
      },
      {
       "output_type": "stream",
       "stream": "stdout",
       "text": [
        "\n",
        "  training loss:\t\t0.524109\n",
        "  validation loss:\t\t0.524737\n",
        "Epoch 82 of 500 took 13.270s"
       ]
      },
      {
       "output_type": "stream",
       "stream": "stdout",
       "text": [
        "\n",
        "  training loss:\t\t0.524177\n",
        "  validation loss:\t\t0.526391\n",
        "Epoch 83 of 500 took 13.272s"
       ]
      },
      {
       "output_type": "stream",
       "stream": "stdout",
       "text": [
        "\n",
        "  training loss:\t\t0.523859\n",
        "  validation loss:\t\t0.525255\n",
        "Epoch 84 of 500 took 13.270s"
       ]
      },
      {
       "output_type": "stream",
       "stream": "stdout",
       "text": [
        "\n",
        "  training loss:\t\t0.523980\n",
        "  validation loss:\t\t0.525391\n",
        "Epoch 85 of 500 took 13.268s"
       ]
      },
      {
       "output_type": "stream",
       "stream": "stdout",
       "text": [
        "\n",
        "  training loss:\t\t0.523882\n",
        "  validation loss:\t\t0.525372\n",
        "Epoch 86 of 500 took 13.274s"
       ]
      },
      {
       "output_type": "stream",
       "stream": "stdout",
       "text": [
        "\n",
        "  training loss:\t\t0.523903\n",
        "  validation loss:\t\t0.525353\n",
        "Epoch 87 of 500 took 13.308s"
       ]
      },
      {
       "output_type": "stream",
       "stream": "stdout",
       "text": [
        "\n",
        "  training loss:\t\t0.523851\n",
        "  validation loss:\t\t0.525292\n",
        "Epoch 88 of 500 took 13.274s"
       ]
      },
      {
       "output_type": "stream",
       "stream": "stdout",
       "text": [
        "\n",
        "  training loss:\t\t0.523878\n",
        "  validation loss:\t\t0.525376\n",
        "Epoch 89 of 500 took 13.269s"
       ]
      },
      {
       "output_type": "stream",
       "stream": "stdout",
       "text": [
        "\n",
        "  training loss:\t\t0.523789\n",
        "  validation loss:\t\t0.525130\n",
        "Epoch 90 of 500 took 13.277s"
       ]
      },
      {
       "output_type": "stream",
       "stream": "stdout",
       "text": [
        "\n",
        "  training loss:\t\t0.523887\n",
        "  validation loss:\t\t0.525407\n",
        "Epoch 91 of 500 took 13.274s"
       ]
      },
      {
       "output_type": "stream",
       "stream": "stdout",
       "text": [
        "\n",
        "  training loss:\t\t0.523680\n",
        "  validation loss:\t\t0.524657\n",
        "Epoch 92 of 500 took 13.271s"
       ]
      },
      {
       "output_type": "stream",
       "stream": "stdout",
       "text": [
        "\n",
        "  training loss:\t\t0.523993\n",
        "  validation loss:\t\t0.525622\n",
        "Epoch 93 of 500 took 13.268s"
       ]
      },
      {
       "output_type": "stream",
       "stream": "stdout",
       "text": [
        "\n",
        "  training loss:\t\t0.523703\n",
        "  validation loss:\t\t0.525487\n",
        "Epoch 94 of 500 took 13.272s"
       ]
      },
      {
       "output_type": "stream",
       "stream": "stdout",
       "text": [
        "\n",
        "  training loss:\t\t0.523911\n",
        "  validation loss:\t\t0.524829\n",
        "Epoch 95 of 500 took 13.280s"
       ]
      },
      {
       "output_type": "stream",
       "stream": "stdout",
       "text": [
        "\n",
        "  training loss:\t\t0.523736\n",
        "  validation loss:\t\t0.525069\n",
        "Epoch 96 of 500 took 13.288s"
       ]
      },
      {
       "output_type": "stream",
       "stream": "stdout",
       "text": [
        "\n",
        "  training loss:\t\t0.523716\n",
        "  validation loss:\t\t0.524901\n",
        "Epoch 97 of 500 took 13.298s"
       ]
      },
      {
       "output_type": "stream",
       "stream": "stdout",
       "text": [
        "\n",
        "  training loss:\t\t0.523727\n",
        "  validation loss:\t\t0.524955\n",
        "Epoch 98 of 500 took 13.280s"
       ]
      },
      {
       "output_type": "stream",
       "stream": "stdout",
       "text": [
        "\n",
        "  training loss:\t\t0.523664\n",
        "  validation loss:\t\t0.524856\n",
        "Epoch 99 of 500 took 13.275s"
       ]
      },
      {
       "output_type": "stream",
       "stream": "stdout",
       "text": [
        "\n",
        "  training loss:\t\t0.523724\n",
        "  validation loss:\t\t0.524961\n",
        "Epoch 100 of 500 took 13.282s"
       ]
      },
      {
       "output_type": "stream",
       "stream": "stdout",
       "text": [
        "\n",
        "  training loss:\t\t0.523595\n",
        "  validation loss:\t\t0.524754\n",
        "Epoch 101 of 500 took 13.277s"
       ]
      },
      {
       "output_type": "stream",
       "stream": "stdout",
       "text": [
        "\n",
        "  training loss:\t\t0.523747\n",
        "  validation loss:\t\t0.524967\n",
        "Epoch 102 of 500 took 13.271s"
       ]
      },
      {
       "output_type": "stream",
       "stream": "stdout",
       "text": [
        "\n",
        "  training loss:\t\t0.523487\n",
        "  validation loss:\t\t0.524458\n",
        "Epoch 103 of 500 took 13.283s"
       ]
      },
      {
       "output_type": "stream",
       "stream": "stdout",
       "text": [
        "\n",
        "  training loss:\t\t0.523859\n",
        "  validation loss:\t\t0.525102\n",
        "Epoch 104 of 500 took 13.299s"
       ]
      },
      {
       "output_type": "stream",
       "stream": "stdout",
       "text": [
        "\n",
        "  training loss:\t\t0.523456\n",
        "  validation loss:\t\t0.525615\n",
        "Epoch 105 of 500 took 13.273s"
       ]
      },
      {
       "output_type": "stream",
       "stream": "stdout",
       "text": [
        "\n",
        "  training loss:\t\t0.523811\n",
        "  validation loss:\t\t0.525093\n",
        "Epoch 106 of 500 took 13.268s"
       ]
      },
      {
       "output_type": "stream",
       "stream": "stdout",
       "text": [
        "\n",
        "  training loss:\t\t0.523566\n",
        "  validation loss:\t\t0.525221\n",
        "Epoch 107 of 500 took 13.267s"
       ]
      },
      {
       "output_type": "stream",
       "stream": "stdout",
       "text": [
        "\n",
        "  training loss:\t\t0.523580\n",
        "  validation loss:\t\t0.525077\n",
        "Epoch 108 of 500 took 13.274s"
       ]
      },
      {
       "output_type": "stream",
       "stream": "stdout",
       "text": [
        "\n",
        "  training loss:\t\t0.523561\n",
        "  validation loss:\t\t0.525131\n",
        "Epoch 109 of 500 took 13.266s"
       ]
      },
      {
       "output_type": "stream",
       "stream": "stdout",
       "text": [
        "\n",
        "  training loss:\t\t0.523520\n",
        "  validation loss:\t\t0.524918\n",
        "Epoch 110 of 500 took 13.316s"
       ]
      },
      {
       "output_type": "stream",
       "stream": "stdout",
       "text": [
        "\n",
        "  training loss:\t\t0.523579\n",
        "  validation loss:\t\t0.525216\n",
        "Epoch 111 of 500 took 13.279s"
       ]
      },
      {
       "output_type": "stream",
       "stream": "stdout",
       "text": [
        "\n",
        "  training loss:\t\t0.523401\n",
        "  validation loss:\t\t0.524380\n",
        "Epoch 112 of 500 took 13.266s"
       ]
      },
      {
       "output_type": "stream",
       "stream": "stdout",
       "text": [
        "\n",
        "  training loss:\t\t0.523719\n",
        "  validation loss:\t\t0.525504\n",
        "Epoch 113 of 500 took 13.276s"
       ]
      },
      {
       "output_type": "stream",
       "stream": "stdout",
       "text": [
        "\n",
        "  training loss:\t\t0.523405\n",
        "  validation loss:\t\t0.525067\n",
        "Epoch 114 of 500 took 13.265s"
       ]
      },
      {
       "output_type": "stream",
       "stream": "stdout",
       "text": [
        "\n",
        "  training loss:\t\t0.523614\n",
        "  validation loss:\t\t0.524564\n",
        "Epoch 115 of 500 took 13.272s"
       ]
      },
      {
       "output_type": "stream",
       "stream": "stdout",
       "text": [
        "\n",
        "  training loss:\t\t0.523454\n",
        "  validation loss:\t\t0.524801\n",
        "Epoch 116 of 500 took 13.264s"
       ]
      },
      {
       "output_type": "stream",
       "stream": "stdout",
       "text": [
        "\n",
        "  training loss:\t\t0.523425\n",
        "  validation loss:\t\t0.524605\n",
        "Epoch 117 of 500 took 13.277s"
       ]
      },
      {
       "output_type": "stream",
       "stream": "stdout",
       "text": [
        "\n",
        "  training loss:\t\t0.523469\n",
        "  validation loss:\t\t0.524760\n",
        "Epoch 118 of 500 took 13.278s"
       ]
      },
      {
       "output_type": "stream",
       "stream": "stdout",
       "text": [
        "\n",
        "  training loss:\t\t0.523355\n",
        "  validation loss:\t\t0.524493\n",
        "Epoch 119 of 500 took 13.274s"
       ]
      },
      {
       "output_type": "stream",
       "stream": "stdout",
       "text": [
        "\n",
        "  training loss:\t\t0.523483\n",
        "  validation loss:\t\t0.524777\n",
        "Epoch 120 of 500 took 13.273s"
       ]
      },
      {
       "output_type": "stream",
       "stream": "stdout",
       "text": [
        "\n",
        "  training loss:\t\t0.523283\n",
        "  validation loss:\t\t0.524328\n",
        "Epoch 121 of 500 took 13.271s"
       ]
      },
      {
       "output_type": "stream",
       "stream": "stdout",
       "text": [
        "\n",
        "  training loss:\t\t0.523535\n",
        "  validation loss:\t\t0.524929\n",
        "Epoch 122 of 500 took 13.299s"
       ]
      },
      {
       "output_type": "stream",
       "stream": "stdout",
       "text": [
        "\n",
        "  training loss:\t\t0.523182\n",
        "  validation loss:\t\t0.524254\n",
        "Epoch 123 of 500 took 13.272s"
       ]
      },
      {
       "output_type": "stream",
       "stream": "stdout",
       "text": [
        "\n",
        "  training loss:\t\t0.523617\n",
        "  validation loss:\t\t0.524790\n",
        "Epoch 124 of 500 took 13.277s"
       ]
      },
      {
       "output_type": "stream",
       "stream": "stdout",
       "text": [
        "\n",
        "  training loss:\t\t0.523304\n",
        "  validation loss:\t\t0.524992\n",
        "Epoch 125 of 500 took 13.269s"
       ]
      },
      {
       "output_type": "stream",
       "stream": "stdout",
       "text": [
        "\n",
        "  training loss:\t\t0.523362\n",
        "  validation loss:\t\t0.524856\n",
        "Epoch 126 of 500 took 13.280s"
       ]
      },
      {
       "output_type": "stream",
       "stream": "stdout",
       "text": [
        "\n",
        "  training loss:\t\t0.523294\n",
        "  validation loss:\t\t0.524767\n",
        "Epoch 127 of 500 took 13.263s"
       ]
      },
      {
       "output_type": "stream",
       "stream": "stdout",
       "text": [
        "\n",
        "  training loss:\t\t0.523343\n",
        "  validation loss:\t\t0.524966\n",
        "Epoch 128 of 500 took 13.275s"
       ]
      },
      {
       "output_type": "stream",
       "stream": "stdout",
       "text": [
        "\n",
        "  training loss:\t\t0.523211\n",
        "  validation loss:\t\t0.524360\n",
        "Epoch 129 of 500 took 13.280s"
       ]
      },
      {
       "output_type": "stream",
       "stream": "stdout",
       "text": [
        "\n",
        "  training loss:\t\t0.523424\n",
        "  validation loss:\t\t0.525217\n",
        "Epoch 130 of 500 took 13.264s"
       ]
      },
      {
       "output_type": "stream",
       "stream": "stdout",
       "text": [
        "\n",
        "  training loss:\t\t0.523165\n",
        "  validation loss:\t\t0.524542\n",
        "Epoch 131 of 500 took 13.278s"
       ]
      },
      {
       "output_type": "stream",
       "stream": "stdout",
       "text": [
        "\n",
        "  training loss:\t\t0.523462\n",
        "  validation loss:\t\t0.524310\n",
        "Epoch 132 of 500 took 13.264s"
       ]
      },
      {
       "output_type": "stream",
       "stream": "stdout",
       "text": [
        "\n",
        "  training loss:\t\t0.523222\n",
        "  validation loss:\t\t0.524662\n",
        "Epoch 133 of 500 took 13.311s"
       ]
      },
      {
       "output_type": "stream",
       "stream": "stdout",
       "text": [
        "\n",
        "  training loss:\t\t0.523228\n",
        "  validation loss:\t\t0.524418\n",
        "Epoch 134 of 500 took 13.273s"
       ]
      },
      {
       "output_type": "stream",
       "stream": "stdout",
       "text": [
        "\n",
        "  training loss:\t\t0.523234\n",
        "  validation loss:\t\t0.524524\n",
        "Epoch 135 of 500 took 13.279s"
       ]
      },
      {
       "output_type": "stream",
       "stream": "stdout",
       "text": [
        "\n",
        "  training loss:\t\t0.523174\n",
        "  validation loss:\t\t0.524362\n",
        "Epoch 136 of 500 took 13.275s"
       ]
      },
      {
       "output_type": "stream",
       "stream": "stdout",
       "text": [
        "\n",
        "  training loss:\t\t0.523230\n",
        "  validation loss:\t\t0.524556\n",
        "Epoch 137 of 500 took 13.277s"
       ]
      },
      {
       "output_type": "stream",
       "stream": "stdout",
       "text": [
        "\n",
        "  training loss:\t\t0.523119\n",
        "  validation loss:\t\t0.524220\n",
        "Epoch 138 of 500 took 13.273s"
       ]
      },
      {
       "output_type": "stream",
       "stream": "stdout",
       "text": [
        "\n",
        "  training loss:\t\t0.523255\n",
        "  validation loss:\t\t0.524759\n",
        "Epoch 139 of 500 took 13.274s"
       ]
      },
      {
       "output_type": "stream",
       "stream": "stdout",
       "text": [
        "\n",
        "  training loss:\t\t0.523026\n",
        "  validation loss:\t\t0.523951\n",
        "Epoch 140 of 500 took 13.283s"
       ]
      },
      {
       "output_type": "stream",
       "stream": "stdout",
       "text": [
        "\n",
        "  training loss:\t\t0.523488\n",
        "  validation loss:\t\t0.524842\n",
        "Epoch 141 of 500 took 13.273s"
       ]
      },
      {
       "output_type": "stream",
       "stream": "stdout",
       "text": [
        "\n",
        "  training loss:\t\t0.522952\n",
        "  validation loss:\t\t0.524030\n",
        "Epoch 142 of 500 took 13.278s"
       ]
      },
      {
       "output_type": "stream",
       "stream": "stdout",
       "text": [
        "\n",
        "  training loss:\t\t0.523245\n",
        "  validation loss:\t\t0.525011\n",
        "Epoch 143 of 500 took 13.269s"
       ]
      },
      {
       "output_type": "stream",
       "stream": "stdout",
       "text": [
        "\n",
        "  training loss:\t\t0.523002\n",
        "  validation loss:\t\t0.524020\n",
        "Epoch 144 of 500 took 13.273s"
       ]
      },
      {
       "output_type": "stream",
       "stream": "stdout",
       "text": [
        "\n",
        "  training loss:\t\t0.523234\n",
        "  validation loss:\t\t0.525156\n",
        "Epoch 145 of 500 took 13.278s"
       ]
      },
      {
       "output_type": "stream",
       "stream": "stdout",
       "text": [
        "\n",
        "  training loss:\t\t0.522963\n",
        "  validation loss:\t\t0.523919\n",
        "Epoch 146 of 500 took 13.269s"
       ]
      },
      {
       "output_type": "stream",
       "stream": "stdout",
       "text": [
        "\n",
        "  training loss:\t\t0.523305\n",
        "  validation loss:\t\t0.524562\n",
        "Epoch 147 of 500 took 13.272s"
       ]
      },
      {
       "output_type": "stream",
       "stream": "stdout",
       "text": [
        "\n",
        "  training loss:\t\t0.522941\n",
        "  validation loss:\t\t0.524055\n",
        "Epoch 148 of 500 took 13.270s"
       ]
      },
      {
       "output_type": "stream",
       "stream": "stdout",
       "text": [
        "\n",
        "  training loss:\t\t0.523152\n",
        "  validation loss:\t\t0.524598\n",
        "Epoch 149 of 500 took 13.278s"
       ]
      },
      {
       "output_type": "stream",
       "stream": "stdout",
       "text": [
        "\n",
        "  training loss:\t\t0.522939\n",
        "  validation loss:\t\t0.524001\n",
        "Epoch 150 of 500 took 13.283s"
       ]
      },
      {
       "output_type": "stream",
       "stream": "stdout",
       "text": [
        "\n",
        "  training loss:\t\t0.523146\n",
        "  validation loss:\t\t0.524714\n",
        "Epoch 151 of 500 took 13.272s"
       ]
      },
      {
       "output_type": "stream",
       "stream": "stdout",
       "text": [
        "\n",
        "  training loss:\t\t0.522876\n",
        "  validation loss:\t\t0.523829\n",
        "Epoch 152 of 500 took 13.266s"
       ]
      },
      {
       "output_type": "stream",
       "stream": "stdout",
       "text": [
        "\n",
        "  training loss:\t\t0.523308\n",
        "  validation loss:\t\t0.524866\n",
        "Epoch 153 of 500 took 13.279s"
       ]
      },
      {
       "output_type": "stream",
       "stream": "stdout",
       "text": [
        "\n",
        "  training loss:\t\t0.522830\n",
        "  validation loss:\t\t0.523879\n",
        "Epoch 154 of 500 took 13.282s"
       ]
      },
      {
       "output_type": "stream",
       "stream": "stdout",
       "text": [
        "\n",
        "  training loss:\t\t0.523114\n",
        "  validation loss:\t\t0.525033\n",
        "Epoch 155 of 500 took 13.267s"
       ]
      },
      {
       "output_type": "stream",
       "stream": "stdout",
       "text": [
        "\n",
        "  training loss:\t\t0.522864\n",
        "  validation loss:\t\t0.523827\n",
        "Epoch 156 of 500 took 13.304s"
       ]
      },
      {
       "output_type": "stream",
       "stream": "stdout",
       "text": [
        "\n",
        "  training loss:\t\t0.522762\n",
        "  validation loss:\t\t0.524532\n",
        "Epoch 157 of 500 took 13.264s"
       ]
      },
      {
       "output_type": "stream",
       "stream": "stdout",
       "text": [
        "\n",
        "  training loss:\t\t0.523204\n",
        "  validation loss:\t\t0.524030\n",
        "Epoch 158 of 500 took 13.277s"
       ]
      },
      {
       "output_type": "stream",
       "stream": "stdout",
       "text": [
        "\n",
        "  training loss:\t\t0.522823\n",
        "  validation loss:\t\t0.524583\n",
        "Epoch 159 of 500 took 13.268s"
       ]
      },
      {
       "output_type": "stream",
       "stream": "stdout",
       "text": [
        "\n",
        "  training loss:\t\t0.523051\n",
        "  validation loss:\t\t0.524317\n",
        "Epoch 160 of 500 took 13.270s"
       ]
      },
      {
       "output_type": "stream",
       "stream": "stdout",
       "text": [
        "\n",
        "  training loss:\t\t0.522833\n",
        "  validation loss:\t\t0.524195\n",
        "Epoch 161 of 500 took 13.268s"
       ]
      },
      {
       "output_type": "stream",
       "stream": "stdout",
       "text": [
        "\n",
        "  training loss:\t\t0.523030\n",
        "  validation loss:\t\t0.524656\n",
        "Epoch 162 of 500 took 13.271s"
       ]
      },
      {
       "output_type": "stream",
       "stream": "stdout",
       "text": [
        "\n",
        "  training loss:\t\t0.522798\n",
        "  validation loss:\t\t0.524057\n",
        "Epoch 163 of 500 took 13.266s"
       ]
      },
      {
       "output_type": "stream",
       "stream": "stdout",
       "text": [
        "\n",
        "  training loss:\t\t0.523179\n",
        "  validation loss:\t\t0.524038\n",
        "Epoch 164 of 500 took 13.274s"
       ]
      },
      {
       "output_type": "stream",
       "stream": "stdout",
       "text": [
        "\n",
        "  training loss:\t\t0.522869\n",
        "  validation loss:\t\t0.524335\n",
        "Epoch 165 of 500 took 13.268s"
       ]
      },
      {
       "output_type": "stream",
       "stream": "stdout",
       "text": [
        "\n",
        "  training loss:\t\t0.522884\n",
        "  validation loss:\t\t0.524153\n",
        "Epoch 166 of 500 took 13.271s"
       ]
      },
      {
       "output_type": "stream",
       "stream": "stdout",
       "text": [
        "\n",
        "  training loss:\t\t0.522867\n",
        "  validation loss:\t\t0.524219\n",
        "Epoch 167 of 500 took 13.291s"
       ]
      },
      {
       "output_type": "stream",
       "stream": "stdout",
       "text": [
        "\n",
        "  training loss:\t\t0.522840\n",
        "  validation loss:\t\t0.524101\n",
        "Epoch 168 of 500 took 13.264s"
       ]
      },
      {
       "output_type": "stream",
       "stream": "stdout",
       "text": [
        "\n",
        "  training loss:\t\t0.522859\n",
        "  validation loss:\t\t0.524248\n",
        "Epoch 169 of 500 took 13.269s"
       ]
      },
      {
       "output_type": "stream",
       "stream": "stdout",
       "text": [
        "\n",
        "  training loss:\t\t0.522797\n",
        "  validation loss:\t\t0.524010\n",
        "Epoch 170 of 500 took 13.269s"
       ]
      },
      {
       "output_type": "stream",
       "stream": "stdout",
       "text": [
        "\n",
        "  training loss:\t\t0.522862\n",
        "  validation loss:\t\t0.524340\n",
        "Epoch 171 of 500 took 13.268s"
       ]
      },
      {
       "output_type": "stream",
       "stream": "stdout",
       "text": [
        "\n",
        "  training loss:\t\t0.522731\n",
        "  validation loss:\t\t0.523794\n",
        "Epoch 172 of 500 took 13.267s"
       ]
      },
      {
       "output_type": "stream",
       "stream": "stdout",
       "text": [
        "\n",
        "  training loss:\t\t0.522916\n",
        "  validation loss:\t\t0.524568\n",
        "Epoch 173 of 500 took 13.269s"
       ]
      },
      {
       "output_type": "stream",
       "stream": "stdout",
       "text": [
        "\n",
        "  training loss:\t\t0.522643\n",
        "  validation loss:\t\t0.523682\n",
        "Epoch 174 of 500 took 13.275s"
       ]
      },
      {
       "output_type": "stream",
       "stream": "stdout",
       "text": [
        "\n",
        "  training loss:\t\t0.523031\n",
        "  validation loss:\t\t0.524613\n",
        "Epoch 175 of 500 took 13.266s"
       ]
      },
      {
       "output_type": "stream",
       "stream": "stdout",
       "text": [
        "\n",
        "  training loss:\t\t0.522670\n",
        "  validation loss:\t\t0.523911\n",
        "Epoch 176 of 500 took 13.280s"
       ]
      },
      {
       "output_type": "stream",
       "stream": "stdout",
       "text": [
        "\n",
        "  training loss:\t\t0.522846\n",
        "  validation loss:\t\t0.524608\n",
        "Epoch 177 of 500 took 13.264s"
       ]
      },
      {
       "output_type": "stream",
       "stream": "stdout",
       "text": [
        "\n",
        "  training loss:\t\t0.522662\n",
        "  validation loss:\t\t0.523788\n",
        "Epoch 178 of 500 took 13.272s"
       ]
      },
      {
       "output_type": "stream",
       "stream": "stdout",
       "text": [
        "\n",
        "  training loss:\t\t0.522840\n",
        "  validation loss:\t\t0.524926\n",
        "Epoch 179 of 500 took 13.302s"
       ]
      },
      {
       "output_type": "stream",
       "stream": "stdout",
       "text": [
        "\n",
        "  training loss:\t\t0.522626\n",
        "  validation loss:\t\t0.523631\n",
        "Epoch 180 of 500 took 13.278s"
       ]
      },
      {
       "output_type": "stream",
       "stream": "stdout",
       "text": [
        "\n",
        "  training loss:\t\t0.522939\n",
        "  validation loss:\t\t0.524158\n",
        "Epoch 181 of 500 took 13.267s"
       ]
      },
      {
       "output_type": "stream",
       "stream": "stdout",
       "text": [
        "\n",
        "  training loss:\t\t0.522628\n",
        "  validation loss:\t\t0.523842\n",
        "Epoch 182 of 500 took 13.269s"
       ]
      },
      {
       "output_type": "stream",
       "stream": "stdout",
       "text": [
        "\n",
        "  training loss:\t\t0.522758\n",
        "  validation loss:\t\t0.524109\n",
        "Epoch 183 of 500 took 13.273s"
       ]
      },
      {
       "output_type": "stream",
       "stream": "stdout",
       "text": [
        "\n",
        "  training loss:\t\t0.522634\n",
        "  validation loss:\t\t0.523806\n",
        "Epoch 184 of 500 took 13.278s"
       ]
      },
      {
       "output_type": "stream",
       "stream": "stdout",
       "text": [
        "\n",
        "  training loss:\t\t0.522731\n",
        "  validation loss:\t\t0.524187\n",
        "Epoch 185 of 500 took 13.285s"
       ]
      },
      {
       "output_type": "stream",
       "stream": "stdout",
       "text": [
        "\n",
        "  training loss:\t\t0.522597\n",
        "  validation loss:\t\t0.523658\n",
        "Epoch 186 of 500 took 13.270s"
       ]
      },
      {
       "output_type": "stream",
       "stream": "stdout",
       "text": [
        "\n",
        "  training loss:\t\t0.522745\n",
        "  validation loss:\t\t0.524502\n",
        "Epoch 187 of 500 took 13.276s"
       ]
      },
      {
       "output_type": "stream",
       "stream": "stdout",
       "text": [
        "\n",
        "  training loss:\t\t0.522535\n",
        "  validation loss:\t\t0.523522\n",
        "Epoch 188 of 500 took 13.275s"
       ]
      },
      {
       "output_type": "stream",
       "stream": "stdout",
       "text": [
        "\n",
        "  training loss:\t\t0.522929\n",
        "  validation loss:\t\t0.524532\n",
        "Epoch 189 of 500 took 13.283s"
       ]
      },
      {
       "output_type": "stream",
       "stream": "stdout",
       "text": [
        "\n",
        "  training loss:\t\t0.522491\n",
        "  validation loss:\t\t0.523633\n",
        "Epoch 190 of 500 took 13.268s"
       ]
      },
      {
       "output_type": "stream",
       "stream": "stdout",
       "text": [
        "\n",
        "  training loss:\t\t0.522716\n",
        "  validation loss:\t\t0.524695\n",
        "Epoch 191 of 500 took 13.275s"
       ]
      },
      {
       "output_type": "stream",
       "stream": "stdout",
       "text": [
        "\n",
        "  training loss:\t\t0.522527\n",
        "  validation loss:\t\t0.523610\n",
        "Epoch 192 of 500 took 13.276s"
       ]
      },
      {
       "output_type": "stream",
       "stream": "stdout",
       "text": [
        "\n",
        "  training loss:\t\t0.522668\n",
        "  validation loss:\t\t0.524933\n",
        "Epoch 193 of 500 took 13.273s"
       ]
      },
      {
       "output_type": "stream",
       "stream": "stdout",
       "text": [
        "\n",
        "  training loss:\t\t0.522519\n",
        "  validation loss:\t\t0.523480\n",
        "Epoch 194 of 500 took 13.283s"
       ]
      },
      {
       "output_type": "stream",
       "stream": "stdout",
       "text": [
        "\n",
        "  training loss:\t\t0.522821\n",
        "  validation loss:\t\t0.524359\n",
        "Epoch 195 of 500 took 13.269s"
       ]
      },
      {
       "output_type": "stream",
       "stream": "stdout",
       "text": [
        "\n",
        "  training loss:\t\t0.522443\n",
        "  validation loss:\t\t0.523514\n",
        "Epoch 196 of 500 took 13.272s"
       ]
      },
      {
       "output_type": "stream",
       "stream": "stdout",
       "text": [
        "\n",
        "  training loss:\t\t0.522665\n",
        "  validation loss:\t\t0.524227\n",
        "Epoch 197 of 500 took 13.275s"
       ]
      },
      {
       "output_type": "stream",
       "stream": "stdout",
       "text": [
        "\n",
        "  training loss:\t\t0.522469\n",
        "  validation loss:\t\t0.523519\n",
        "Epoch 198 of 500 took 13.272s"
       ]
      },
      {
       "output_type": "stream",
       "stream": "stdout",
       "text": [
        "\n",
        "  training loss:\t\t0.522616\n",
        "  validation loss:\t\t0.524314\n",
        "Epoch 199 of 500 took 13.276s"
       ]
      },
      {
       "output_type": "stream",
       "stream": "stdout",
       "text": [
        "\n",
        "  training loss:\t\t0.522458\n",
        "  validation loss:\t\t0.523455\n",
        "Epoch 200 of 500 took 13.269s"
       ]
      },
      {
       "output_type": "stream",
       "stream": "stdout",
       "text": [
        "\n",
        "  training loss:\t\t0.522453\n",
        "  validation loss:\t\t0.524531\n",
        "Epoch 201 of 500 took 13.278s"
       ]
      },
      {
       "output_type": "stream",
       "stream": "stdout",
       "text": [
        "\n",
        "  training loss:\t\t0.522634\n",
        "  validation loss:\t\t0.523543\n",
        "Epoch 202 of 500 took 13.308s"
       ]
      },
      {
       "output_type": "stream",
       "stream": "stdout",
       "text": [
        "\n",
        "  training loss:\t\t0.522406\n",
        "  validation loss:\t\t0.523971\n",
        "Epoch 203 of 500 took 13.285s"
       ]
      },
      {
       "output_type": "stream",
       "stream": "stdout",
       "text": [
        "\n",
        "  training loss:\t\t0.522619\n",
        "  validation loss:\t\t0.523631\n",
        "Epoch 204 of 500 took 13.269s"
       ]
      },
      {
       "output_type": "stream",
       "stream": "stdout",
       "text": [
        "\n",
        "  training loss:\t\t0.522351\n",
        "  validation loss:\t\t0.523523\n",
        "Epoch 205 of 500 took 13.275s"
       ]
      },
      {
       "output_type": "stream",
       "stream": "stdout",
       "text": [
        "\n",
        "  training loss:\t\t0.522684\n",
        "  validation loss:\t\t0.524111\n",
        "Epoch 206 of 500 took 13.274s"
       ]
      },
      {
       "output_type": "stream",
       "stream": "stdout",
       "text": [
        "\n",
        "  training loss:\t\t0.522361\n",
        "  validation loss:\t\t0.524247\n",
        "Epoch 207 of 500 took 13.270s"
       ]
      },
      {
       "output_type": "stream",
       "stream": "stdout",
       "text": [
        "\n",
        "  training loss:\t\t0.522705\n",
        "  validation loss:\t\t0.524108\n",
        "Epoch 208 of 500 took 13.270s"
       ]
      },
      {
       "output_type": "stream",
       "stream": "stdout",
       "text": [
        "\n",
        "  training loss:\t\t0.522431\n",
        "  validation loss:\t\t0.524038\n",
        "Epoch 209 of 500 took 13.268s"
       ]
      },
      {
       "output_type": "stream",
       "stream": "stdout",
       "text": [
        "\n",
        "  training loss:\t\t0.522484\n",
        "  validation loss:\t\t0.524117\n",
        "Epoch 210 of 500 took 13.269s"
       ]
      },
      {
       "output_type": "stream",
       "stream": "stdout",
       "text": [
        "\n",
        "  training loss:\t\t0.522417\n",
        "  validation loss:\t\t0.523920\n",
        "Epoch 211 of 500 took 13.269s"
       ]
      },
      {
       "output_type": "stream",
       "stream": "stdout",
       "text": [
        "\n",
        "  training loss:\t\t0.522463\n",
        "  validation loss:\t\t0.524167\n",
        "Epoch 212 of 500 took 13.280s"
       ]
      },
      {
       "output_type": "stream",
       "stream": "stdout",
       "text": [
        "\n",
        "  training loss:\t\t0.522372\n",
        "  validation loss:\t\t0.523719\n",
        "Epoch 213 of 500 took 13.274s"
       ]
      },
      {
       "output_type": "stream",
       "stream": "stdout",
       "text": [
        "\n",
        "  training loss:\t\t0.522486\n",
        "  validation loss:\t\t0.524376\n",
        "Epoch 214 of 500 took 13.267s"
       ]
      },
      {
       "output_type": "stream",
       "stream": "stdout",
       "text": [
        "\n",
        "  training loss:\t\t0.522310\n",
        "  validation loss:\t\t0.523358\n",
        "Epoch 215 of 500 took 13.262s"
       ]
      },
      {
       "output_type": "stream",
       "stream": "stdout",
       "text": [
        "\n",
        "  training loss:\t\t0.522433\n",
        "  validation loss:\t\t0.525177\n",
        "Epoch 216 of 500 took 13.274s"
       ]
      },
      {
       "output_type": "stream",
       "stream": "stdout",
       "text": [
        "\n",
        "  training loss:\t\t0.522488\n",
        "  validation loss:\t\t0.523520\n",
        "Epoch 217 of 500 took 13.270s"
       ]
      },
      {
       "output_type": "stream",
       "stream": "stdout",
       "text": [
        "\n",
        "  training loss:\t\t0.522402\n",
        "  validation loss:\t\t0.523786\n",
        "Epoch 218 of 500 took 13.263s"
       ]
      },
      {
       "output_type": "stream",
       "stream": "stdout",
       "text": [
        "\n",
        "  training loss:\t\t0.522347\n",
        "  validation loss:\t\t0.523507\n",
        "Epoch 219 of 500 took 13.265s"
       ]
      },
      {
       "output_type": "stream",
       "stream": "stdout",
       "text": [
        "\n",
        "  training loss:\t\t0.522383\n",
        "  validation loss:\t\t0.523799\n",
        "Epoch 220 of 500 took 13.264s"
       ]
      },
      {
       "output_type": "stream",
       "stream": "stdout",
       "text": [
        "\n",
        "  training loss:\t\t0.522311\n",
        "  validation loss:\t\t0.523398\n",
        "Epoch 221 of 500 took 13.281s"
       ]
      },
      {
       "output_type": "stream",
       "stream": "stdout",
       "text": [
        "\n",
        "  training loss:\t\t0.522366\n",
        "  validation loss:\t\t0.524118\n",
        "Epoch 222 of 500 took 13.273s"
       ]
      },
      {
       "output_type": "stream",
       "stream": "stdout",
       "text": [
        "\n",
        "  training loss:\t\t0.522292\n",
        "  validation loss:\t\t0.523269\n",
        "Epoch 223 of 500 took 13.286s"
       ]
      },
      {
       "output_type": "stream",
       "stream": "stdout",
       "text": [
        "\n",
        "  training loss:\t\t0.522324\n",
        "  validation loss:\t\t0.525675\n",
        "Epoch 224 of 500 took 13.264s"
       ]
      },
      {
       "output_type": "stream",
       "stream": "stdout",
       "text": [
        "\n",
        "  training loss:\t\t0.522479\n",
        "  validation loss:\t\t0.523845\n",
        "Epoch 225 of 500 took 13.296s"
       ]
      },
      {
       "output_type": "stream",
       "stream": "stdout",
       "text": [
        "\n",
        "  training loss:\t\t0.522336\n",
        "  validation loss:\t\t0.524025\n",
        "Epoch 226 of 500 took 13.271s"
       ]
      },
      {
       "output_type": "stream",
       "stream": "stdout",
       "text": [
        "\n",
        "  training loss:\t\t0.522280\n",
        "  validation loss:\t\t0.523753\n",
        "Epoch 227 of 500 took 13.266s"
       ]
      },
      {
       "output_type": "stream",
       "stream": "stdout",
       "text": [
        "\n",
        "  training loss:\t\t0.522332\n",
        "  validation loss:\t\t0.524064\n",
        "Epoch 228 of 500 took 13.274s"
       ]
      },
      {
       "output_type": "stream",
       "stream": "stdout",
       "text": [
        "\n",
        "  training loss:\t\t0.522231\n",
        "  validation loss:\t\t0.523549\n",
        "Epoch 229 of 500 took 13.269s"
       ]
      },
      {
       "output_type": "stream",
       "stream": "stdout",
       "text": [
        "\n",
        "  training loss:\t\t0.522352\n",
        "  validation loss:\t\t0.524337\n",
        "Epoch 230 of 500 took 13.282s"
       ]
      },
      {
       "output_type": "stream",
       "stream": "stdout",
       "text": [
        "\n",
        "  training loss:\t\t0.522174\n",
        "  validation loss:\t\t0.523200\n",
        "Epoch 231 of 500 took 13.274s"
       ]
      },
      {
       "output_type": "stream",
       "stream": "stdout",
       "text": [
        "\n",
        "  training loss:\t\t0.522511\n",
        "  validation loss:\t\t0.523985\n",
        "Epoch 232 of 500 took 13.264s"
       ]
      },
      {
       "output_type": "stream",
       "stream": "stdout",
       "text": [
        "\n",
        "  training loss:\t\t0.522138\n",
        "  validation loss:\t\t0.523222\n",
        "Epoch 233 of 500 took 13.277s"
       ]
      },
      {
       "output_type": "stream",
       "stream": "stdout",
       "text": [
        "\n",
        "  training loss:\t\t0.522313\n",
        "  validation loss:\t\t0.524008\n",
        "Epoch 234 of 500 took 13.275s"
       ]
      },
      {
       "output_type": "stream",
       "stream": "stdout",
       "text": [
        "\n",
        "  training loss:\t\t0.522179\n",
        "  validation loss:\t\t0.523216\n",
        "Epoch 235 of 500 took 13.276s"
       ]
      },
      {
       "output_type": "stream",
       "stream": "stdout",
       "text": [
        "\n",
        "  training loss:\t\t0.522233\n",
        "  validation loss:\t\t0.524119\n",
        "Epoch 236 of 500 took 13.266s"
       ]
      },
      {
       "output_type": "stream",
       "stream": "stdout",
       "text": [
        "\n",
        "  training loss:\t\t0.522219\n",
        "  validation loss:\t\t0.523202\n",
        "Epoch 237 of 500 took 13.273s"
       ]
      },
      {
       "output_type": "stream",
       "stream": "stdout",
       "text": [
        "\n",
        "  training loss:\t\t0.522082\n",
        "  validation loss:\t\t0.523661\n",
        "Epoch 238 of 500 took 13.264s"
       ]
      },
      {
       "output_type": "stream",
       "stream": "stdout",
       "text": [
        "\n",
        "  training loss:\t\t0.522359\n",
        "  validation loss:\t\t0.523293\n",
        "Epoch 239 of 500 took 13.277s"
       ]
      },
      {
       "output_type": "stream",
       "stream": "stdout",
       "text": [
        "\n",
        "  training loss:\t\t0.522043\n",
        "  validation loss:\t\t0.523210\n",
        "Epoch 240 of 500 took 13.268s"
       ]
      },
      {
       "output_type": "stream",
       "stream": "stdout",
       "text": [
        "\n",
        "  training loss:\t\t0.522394\n",
        "  validation loss:\t\t0.523953\n",
        "Epoch 241 of 500 took 13.264s"
       ]
      },
      {
       "output_type": "stream",
       "stream": "stdout",
       "text": [
        "\n",
        "  training loss:\t\t0.522069\n",
        "  validation loss:\t\t0.523613\n",
        "Epoch 242 of 500 took 13.271s"
       ]
      },
      {
       "output_type": "stream",
       "stream": "stdout",
       "text": [
        "\n",
        "  training loss:\t\t0.522416\n",
        "  validation loss:\t\t0.523889\n",
        "Epoch 243 of 500 took 13.269s"
       ]
      },
      {
       "output_type": "stream",
       "stream": "stdout",
       "text": [
        "\n",
        "  training loss:\t\t0.522117\n",
        "  validation loss:\t\t0.523677\n",
        "Epoch 244 of 500 took 13.268s"
       ]
      },
      {
       "output_type": "stream",
       "stream": "stdout",
       "text": [
        "\n",
        "  training loss:\t\t0.522208\n",
        "  validation loss:\t\t0.523965\n",
        "Epoch 245 of 500 took 13.272s"
       ]
      },
      {
       "output_type": "stream",
       "stream": "stdout",
       "text": [
        "\n",
        "  training loss:\t\t0.522101\n",
        "  validation loss:\t\t0.523504\n",
        "Epoch 246 of 500 took 13.274s"
       ]
      },
      {
       "output_type": "stream",
       "stream": "stdout",
       "text": [
        "\n",
        "  training loss:\t\t0.522199\n",
        "  validation loss:\t\t0.524098\n",
        "Epoch 247 of 500 took 13.276s"
       ]
      },
      {
       "output_type": "stream",
       "stream": "stdout",
       "text": [
        "\n",
        "  training loss:\t\t0.522057\n",
        "  validation loss:\t\t0.523241\n",
        "Epoch 248 of 500 took 13.317s"
       ]
      },
      {
       "output_type": "stream",
       "stream": "stdout",
       "text": [
        "\n",
        "  training loss:\t\t0.522152\n",
        "  validation loss:\t\t0.524527\n",
        "Epoch 249 of 500 took 13.283s"
       ]
      },
      {
       "output_type": "stream",
       "stream": "stdout",
       "text": [
        "\n",
        "  training loss:\t\t0.522087\n",
        "  validation loss:\t\t0.523189\n",
        "Epoch 250 of 500 took 13.270s"
       ]
      },
      {
       "output_type": "stream",
       "stream": "stdout",
       "text": [
        "\n",
        "  training loss:\t\t0.521905\n",
        "  validation loss:\t\t0.523060\n",
        "Epoch 251 of 500 took 13.275s"
       ]
      },
      {
       "output_type": "stream",
       "stream": "stdout",
       "text": [
        "\n",
        "  training loss:\t\t0.522478\n",
        "  validation loss:\t\t0.523789\n",
        "Epoch 252 of 500 took 13.278s"
       ]
      },
      {
       "output_type": "stream",
       "stream": "stdout",
       "text": [
        "\n",
        "  training loss:\t\t0.521980\n",
        "  validation loss:\t\t0.523067\n",
        "Epoch 253 of 500 took 13.267s"
       ]
      },
      {
       "output_type": "stream",
       "stream": "stdout",
       "text": [
        "\n",
        "  training loss:\t\t0.522157\n",
        "  validation loss:\t\t0.524072\n",
        "Epoch 254 of 500 took 13.283s"
       ]
      },
      {
       "output_type": "stream",
       "stream": "stdout",
       "text": [
        "\n",
        "  training loss:\t\t0.522040\n",
        "  validation loss:\t\t0.523067\n",
        "Epoch 255 of 500 took 13.271s"
       ]
      },
      {
       "output_type": "stream",
       "stream": "stdout",
       "text": [
        "\n",
        "  training loss:\t\t0.522023\n",
        "  validation loss:\t\t0.523959\n",
        "Epoch 256 of 500 took 13.272s"
       ]
      },
      {
       "output_type": "stream",
       "stream": "stdout",
       "text": [
        "\n",
        "  training loss:\t\t0.522128\n",
        "  validation loss:\t\t0.523100\n",
        "Epoch 257 of 500 took 13.273s"
       ]
      },
      {
       "output_type": "stream",
       "stream": "stdout",
       "text": [
        "\n",
        "  training loss:\t\t0.521948\n",
        "  validation loss:\t\t0.523488\n",
        "Epoch 258 of 500 took 13.265s"
       ]
      },
      {
       "output_type": "stream",
       "stream": "stdout",
       "text": [
        "\n",
        "  training loss:\t\t0.522170\n",
        "  validation loss:\t\t0.523198\n",
        "Epoch 259 of 500 took 13.273s"
       ]
      },
      {
       "output_type": "stream",
       "stream": "stdout",
       "text": [
        "\n",
        "  training loss:\t\t0.521926\n",
        "  validation loss:\t\t0.523143\n",
        "Epoch 260 of 500 took 13.268s"
       ]
      },
      {
       "output_type": "stream",
       "stream": "stdout",
       "text": [
        "\n",
        "  training loss:\t\t0.522183\n",
        "  validation loss:\t\t0.523790\n",
        "Epoch 261 of 500 took 13.271s"
       ]
      },
      {
       "output_type": "stream",
       "stream": "stdout",
       "text": [
        "\n",
        "  training loss:\t\t0.521932\n",
        "  validation loss:\t\t0.523258\n",
        "Epoch 262 of 500 took 13.267s"
       ]
      },
      {
       "output_type": "stream",
       "stream": "stdout",
       "text": [
        "\n",
        "  training loss:\t\t0.522286\n",
        "  validation loss:\t\t0.523781\n",
        "Epoch 263 of 500 took 13.264s"
       ]
      },
      {
       "output_type": "stream",
       "stream": "stdout",
       "text": [
        "\n",
        "  training loss:\t\t0.521968\n",
        "  validation loss:\t\t0.523513\n",
        "Epoch 264 of 500 took 13.268s"
       ]
      },
      {
       "output_type": "stream",
       "stream": "stdout",
       "text": [
        "\n",
        "  training loss:\t\t0.522052\n",
        "  validation loss:\t\t0.523815\n",
        "Epoch 265 of 500 took 13.266s"
       ]
      },
      {
       "output_type": "stream",
       "stream": "stdout",
       "text": [
        "\n",
        "  training loss:\t\t0.521963\n",
        "  validation loss:\t\t0.523428\n",
        "Epoch 266 of 500 took 13.263s"
       ]
      },
      {
       "output_type": "stream",
       "stream": "stdout",
       "text": [
        "\n",
        "  training loss:\t\t0.522022\n",
        "  validation loss:\t\t0.523866\n",
        "Epoch 267 of 500 took 13.268s"
       ]
      },
      {
       "output_type": "stream",
       "stream": "stdout",
       "text": [
        "\n",
        "  training loss:\t\t0.521938\n",
        "  validation loss:\t\t0.523281\n",
        "Epoch 268 of 500 took 13.273s"
       ]
      },
      {
       "output_type": "stream",
       "stream": "stdout",
       "text": [
        "\n",
        "  training loss:\t\t0.522022\n",
        "  validation loss:\t\t0.524045\n",
        "Epoch 269 of 500 took 13.265s"
       ]
      },
      {
       "output_type": "stream",
       "stream": "stdout",
       "text": [
        "\n",
        "  training loss:\t\t0.521900\n",
        "  validation loss:\t\t0.523048\n",
        "Epoch 270 of 500 took 13.266s"
       ]
      },
      {
       "output_type": "stream",
       "stream": "stdout",
       "text": [
        "\n",
        "  training loss:\t\t0.521777\n",
        "  validation loss:\t\t0.523161\n",
        "Epoch 271 of 500 took 13.304s"
       ]
      },
      {
       "output_type": "stream",
       "stream": "stdout",
       "text": [
        "\n",
        "  training loss:\t\t0.522247\n",
        "  validation loss:\t\t0.523725\n",
        "Epoch 272 of 500 took 13.265s"
       ]
      },
      {
       "output_type": "stream",
       "stream": "stdout",
       "text": [
        "\n",
        "  training loss:\t\t0.521822\n",
        "  validation loss:\t\t0.523138\n",
        "Epoch 273 of 500 took 13.265s"
       ]
      },
      {
       "output_type": "stream",
       "stream": "stdout",
       "text": [
        "\n",
        "  training loss:\t\t0.522149\n",
        "  validation loss:\t\t0.523292\n",
        "Epoch 274 of 500 took 13.266s"
       ]
      },
      {
       "output_type": "stream",
       "stream": "stdout",
       "text": [
        "\n",
        "  training loss:\t\t0.521891\n",
        "  validation loss:\t\t0.523205\n",
        "Epoch 275 of 500 took 13.276s"
       ]
      },
      {
       "output_type": "stream",
       "stream": "stdout",
       "text": [
        "\n",
        "  training loss:\t\t0.521945\n",
        "  validation loss:\t\t0.523333\n",
        "Epoch 276 of 500 took 13.269s"
       ]
      },
      {
       "output_type": "stream",
       "stream": "stdout",
       "text": [
        "\n",
        "  training loss:\t\t0.521901\n",
        "  validation loss:\t\t0.523117\n",
        "Epoch 277 of 500 took 13.267s"
       ]
      },
      {
       "output_type": "stream",
       "stream": "stdout",
       "text": [
        "\n",
        "  training loss:\t\t0.521916\n",
        "  validation loss:\t\t0.523442\n",
        "Epoch 278 of 500 took 13.265s"
       ]
      },
      {
       "output_type": "stream",
       "stream": "stdout",
       "text": [
        "\n",
        "  training loss:\t\t0.521888\n",
        "  validation loss:\t\t0.523008\n",
        "Epoch 279 of 500 took 13.270s"
       ]
      },
      {
       "output_type": "stream",
       "stream": "stdout",
       "text": [
        "\n",
        "  training loss:\t\t0.521873\n",
        "  validation loss:\t\t0.523636\n",
        "Epoch 280 of 500 took 13.288s"
       ]
      },
      {
       "output_type": "stream",
       "stream": "stdout",
       "text": [
        "\n",
        "  training loss:\t\t0.521905\n",
        "  validation loss:\t\t0.522944\n",
        "Epoch 281 of 500 took 13.265s"
       ]
      },
      {
       "output_type": "stream",
       "stream": "stdout",
       "text": [
        "\n",
        "  training loss:\t\t0.521700\n",
        "  validation loss:\t\t0.522879\n",
        "Epoch 282 of 500 took 13.270s"
       ]
      },
      {
       "output_type": "stream",
       "stream": "stdout",
       "text": [
        "\n",
        "  training loss:\t\t0.521749\n",
        "  validation loss:\t\t0.523944\n",
        "Epoch 283 of 500 took 13.273s"
       ]
      },
      {
       "output_type": "stream",
       "stream": "stdout",
       "text": [
        "\n",
        "  training loss:\t\t0.522132\n",
        "  validation loss:\t\t0.522911\n",
        "Epoch 284 of 500 took 13.282s"
       ]
      },
      {
       "output_type": "stream",
       "stream": "stdout",
       "text": [
        "\n",
        "  training loss:\t\t0.521881\n",
        "  validation loss:\t\t0.524817\n",
        "Epoch 285 of 500 took 13.272s"
       ]
      },
      {
       "output_type": "stream",
       "stream": "stdout",
       "text": [
        "\n",
        "  training loss:\t\t0.522001\n",
        "  validation loss:\t\t0.523409\n",
        "Epoch 286 of 500 took 13.266s"
       ]
      },
      {
       "output_type": "stream",
       "stream": "stdout",
       "text": [
        "\n",
        "  training loss:\t\t0.521863\n",
        "  validation loss:\t\t0.523506\n",
        "Epoch 287 of 500 took 13.272s"
       ]
      },
      {
       "output_type": "stream",
       "stream": "stdout",
       "text": [
        "\n",
        "  training loss:\t\t0.521837\n",
        "  validation loss:\t\t0.523369\n",
        "Epoch 288 of 500 took 13.273s"
       ]
      },
      {
       "output_type": "stream",
       "stream": "stdout",
       "text": [
        "\n",
        "  training loss:\t\t0.521840\n",
        "  validation loss:\t\t0.523515\n",
        "Epoch 289 of 500 took 13.272s"
       ]
      },
      {
       "output_type": "stream",
       "stream": "stdout",
       "text": [
        "\n",
        "  training loss:\t\t0.521810\n",
        "  validation loss:\t\t0.523278\n",
        "Epoch 290 of 500 took 13.275s"
       ]
      },
      {
       "output_type": "stream",
       "stream": "stdout",
       "text": [
        "\n",
        "  training loss:\t\t0.521837\n",
        "  validation loss:\t\t0.523632\n",
        "Epoch 291 of 500 took 13.271s"
       ]
      },
      {
       "output_type": "stream",
       "stream": "stdout",
       "text": [
        "\n",
        "  training loss:\t\t0.521765\n",
        "  validation loss:\t\t0.523046\n",
        "Epoch 292 of 500 took 13.258s"
       ]
      },
      {
       "output_type": "stream",
       "stream": "stdout",
       "text": [
        "\n",
        "  training loss:\t\t0.521808\n",
        "  validation loss:\t\t0.523940\n",
        "Epoch 293 of 500 took 13.269s"
       ]
      },
      {
       "output_type": "stream",
       "stream": "stdout",
       "text": [
        "\n",
        "  training loss:\t\t0.521792\n",
        "  validation loss:\t\t0.523000\n",
        "Epoch 294 of 500 took 13.295s"
       ]
      },
      {
       "output_type": "stream",
       "stream": "stdout",
       "text": [
        "\n",
        "  training loss:\t\t0.521653\n",
        "  validation loss:\t\t0.523170\n",
        "Epoch 295 of 500 took 13.267s"
       ]
      },
      {
       "output_type": "stream",
       "stream": "stdout",
       "text": [
        "\n",
        "  training loss:\t\t0.522028\n",
        "  validation loss:\t\t0.523540\n",
        "Epoch 296 of 500 took 13.275s"
       ]
      },
      {
       "output_type": "stream",
       "stream": "stdout",
       "text": [
        "\n",
        "  training loss:\t\t0.521692\n",
        "  validation loss:\t\t0.523465\n",
        "Epoch 297 of 500 took 13.277s"
       ]
      },
      {
       "output_type": "stream",
       "stream": "stdout",
       "text": [
        "\n",
        "  training loss:\t\t0.521979\n",
        "  validation loss:\t\t0.523165\n",
        "Epoch 298 of 500 took 13.290s"
       ]
      },
      {
       "output_type": "stream",
       "stream": "stdout",
       "text": [
        "\n",
        "  training loss:\t\t0.521748\n",
        "  validation loss:\t\t0.523167\n",
        "Epoch 299 of 500 took 13.269s"
       ]
      },
      {
       "output_type": "stream",
       "stream": "stdout",
       "text": [
        "\n",
        "  training loss:\t\t0.521775\n",
        "  validation loss:\t\t0.523168\n",
        "Epoch 300 of 500 took 13.276s"
       ]
      },
      {
       "output_type": "stream",
       "stream": "stdout",
       "text": [
        "\n",
        "  training loss:\t\t0.521737\n",
        "  validation loss:\t\t0.523056\n",
        "Epoch 301 of 500 took 13.275s"
       ]
      },
      {
       "output_type": "stream",
       "stream": "stdout",
       "text": [
        "\n",
        "  training loss:\t\t0.521753\n",
        "  validation loss:\t\t0.523241\n",
        "Epoch 302 of 500 took 13.272s"
       ]
      },
      {
       "output_type": "stream",
       "stream": "stdout",
       "text": [
        "\n",
        "  training loss:\t\t0.521721\n",
        "  validation loss:\t\t0.522961\n",
        "Epoch 303 of 500 took 13.277s"
       ]
      },
      {
       "output_type": "stream",
       "stream": "stdout",
       "text": [
        "\n",
        "  training loss:\t\t0.521737\n",
        "  validation loss:\t\t0.523365\n",
        "Epoch 304 of 500 took 13.264s"
       ]
      },
      {
       "output_type": "stream",
       "stream": "stdout",
       "text": [
        "\n",
        "  training loss:\t\t0.521706\n",
        "  validation loss:\t\t0.522845\n",
        "Epoch 305 of 500 took 13.276s"
       ]
      },
      {
       "output_type": "stream",
       "stream": "stdout",
       "text": [
        "\n",
        "  training loss:\t\t0.521684\n",
        "  validation loss:\t\t0.523517\n",
        "Epoch 306 of 500 took 13.266s"
       ]
      },
      {
       "output_type": "stream",
       "stream": "stdout",
       "text": [
        "\n",
        "  training loss:\t\t0.521743\n",
        "  validation loss:\t\t0.522848\n",
        "Epoch 307 of 500 took 13.276s"
       ]
      },
      {
       "output_type": "stream",
       "stream": "stdout",
       "text": [
        "\n",
        "  training loss:\t\t0.521589\n",
        "  validation loss:\t\t0.523021\n",
        "Epoch 308 of 500 took 13.262s"
       ]
      },
      {
       "output_type": "stream",
       "stream": "stdout",
       "text": [
        "\n",
        "  training loss:\t\t0.521836\n",
        "  validation loss:\t\t0.523209\n",
        "Epoch 309 of 500 took 13.273s"
       ]
      },
      {
       "output_type": "stream",
       "stream": "stdout",
       "text": [
        "\n",
        "  training loss:\t\t0.521587\n",
        "  validation loss:\t\t0.522703\n",
        "Epoch 310 of 500 took 13.267s"
       ]
      },
      {
       "output_type": "stream",
       "stream": "stdout",
       "text": [
        "\n",
        "  training loss:\t\t0.521980\n",
        "  validation loss:\t\t0.523557\n",
        "Epoch 311 of 500 took 13.273s"
       ]
      },
      {
       "output_type": "stream",
       "stream": "stdout",
       "text": [
        "\n",
        "  training loss:\t\t0.521576\n",
        "  validation loss:\t\t0.522863\n",
        "Epoch 312 of 500 took 13.269s"
       ]
      },
      {
       "output_type": "stream",
       "stream": "stdout",
       "text": [
        "\n",
        "  training loss:\t\t0.521714\n",
        "  validation loss:\t\t0.523585\n",
        "Epoch 313 of 500 took 13.268s"
       ]
      },
      {
       "output_type": "stream",
       "stream": "stdout",
       "text": [
        "\n",
        "  training loss:\t\t0.521621\n",
        "  validation loss:\t\t0.522920\n",
        "Epoch 314 of 500 took 13.273s"
       ]
      },
      {
       "output_type": "stream",
       "stream": "stdout",
       "text": [
        "\n",
        "  training loss:\t\t0.521678\n",
        "  validation loss:\t\t0.523561\n",
        "Epoch 315 of 500 took 13.273s"
       ]
      },
      {
       "output_type": "stream",
       "stream": "stdout",
       "text": [
        "\n",
        "  training loss:\t\t0.521599\n",
        "  validation loss:\t\t0.522825\n",
        "Epoch 316 of 500 took 13.295s"
       ]
      },
      {
       "output_type": "stream",
       "stream": "stdout",
       "text": [
        "\n",
        "  training loss:\t\t0.521629\n",
        "  validation loss:\t\t0.523744\n",
        "Epoch 317 of 500 took 13.296s"
       ]
      },
      {
       "output_type": "stream",
       "stream": "stdout",
       "text": [
        "\n",
        "  training loss:\t\t0.521653\n",
        "  validation loss:\t\t0.522925\n",
        "Epoch 318 of 500 took 13.275s"
       ]
      },
      {
       "output_type": "stream",
       "stream": "stdout",
       "text": [
        "\n",
        "  training loss:\t\t0.521553\n",
        "  validation loss:\t\t0.523249\n",
        "Epoch 319 of 500 took 13.267s"
       ]
      },
      {
       "output_type": "stream",
       "stream": "stdout",
       "text": [
        "\n",
        "  training loss:\t\t0.521719\n",
        "  validation loss:\t\t0.523295\n",
        "Epoch 320 of 500 took 13.274s"
       ]
      },
      {
       "output_type": "stream",
       "stream": "stdout",
       "text": [
        "\n",
        "  training loss:\t\t0.521485\n",
        "  validation loss:\t\t0.522621\n",
        "Epoch 321 of 500 took 13.282s"
       ]
      },
      {
       "output_type": "stream",
       "stream": "stdout",
       "text": [
        "\n",
        "  training loss:\t\t0.521881\n",
        "  validation loss:\t\t0.523456\n",
        "Epoch 322 of 500 took 13.276s"
       ]
      },
      {
       "output_type": "stream",
       "stream": "stdout",
       "text": [
        "\n",
        "  training loss:\t\t0.521516\n",
        "  validation loss:\t\t0.522748\n",
        "Epoch 323 of 500 took 13.276s"
       ]
      },
      {
       "output_type": "stream",
       "stream": "stdout",
       "text": [
        "\n",
        "  training loss:\t\t0.521623\n",
        "  validation loss:\t\t0.523287\n",
        "Epoch 324 of 500 took 13.266s"
       ]
      },
      {
       "output_type": "stream",
       "stream": "stdout",
       "text": [
        "\n",
        "  training loss:\t\t0.521553\n",
        "  validation loss:\t\t0.522780\n",
        "Epoch 325 of 500 took 13.273s"
       ]
      },
      {
       "output_type": "stream",
       "stream": "stdout",
       "text": [
        "\n",
        "  training loss:\t\t0.521569\n",
        "  validation loss:\t\t0.523188\n",
        "Epoch 326 of 500 took 13.277s"
       ]
      },
      {
       "output_type": "stream",
       "stream": "stdout",
       "text": [
        "\n",
        "  training loss:\t\t0.521548\n",
        "  validation loss:\t\t0.522763\n",
        "Epoch 327 of 500 took 13.272s"
       ]
      },
      {
       "output_type": "stream",
       "stream": "stdout",
       "text": [
        "\n",
        "  training loss:\t\t0.521531\n",
        "  validation loss:\t\t0.523196\n",
        "Epoch 328 of 500 took 13.265s"
       ]
      },
      {
       "output_type": "stream",
       "stream": "stdout",
       "text": [
        "\n",
        "  training loss:\t\t0.521553\n",
        "  validation loss:\t\t0.522748\n",
        "Epoch 329 of 500 took 13.294s"
       ]
      },
      {
       "output_type": "stream",
       "stream": "stdout",
       "text": [
        "\n",
        "  training loss:\t\t0.521479\n",
        "  validation loss:\t\t0.523097\n",
        "Epoch 330 of 500 took 13.274s"
       ]
      },
      {
       "output_type": "stream",
       "stream": "stdout",
       "text": [
        "\n",
        "  training loss:\t\t0.521582\n",
        "  validation loss:\t\t0.522830\n",
        "Epoch 331 of 500 took 13.273s"
       ]
      },
      {
       "output_type": "stream",
       "stream": "stdout",
       "text": [
        "\n",
        "  training loss:\t\t0.521427\n",
        "  validation loss:\t\t0.522714\n",
        "Epoch 332 of 500 took 13.268s"
       ]
      },
      {
       "output_type": "stream",
       "stream": "stdout",
       "text": [
        "\n",
        "  training loss:\t\t0.521619\n",
        "  validation loss:\t\t0.523474\n",
        "Epoch 333 of 500 took 13.270s"
       ]
      },
      {
       "output_type": "stream",
       "stream": "stdout",
       "text": [
        "\n",
        "  training loss:\t\t0.521429\n",
        "  validation loss:\t\t0.522712\n",
        "Epoch 334 of 500 took 13.282s"
       ]
      },
      {
       "output_type": "stream",
       "stream": "stdout",
       "text": [
        "\n",
        "  training loss:\t\t0.521744\n",
        "  validation loss:\t\t0.523242\n",
        "Epoch 335 of 500 took 13.271s"
       ]
      },
      {
       "output_type": "stream",
       "stream": "stdout",
       "text": [
        "\n",
        "  training loss:\t\t0.521425\n",
        "  validation loss:\t\t0.522819\n",
        "Epoch 336 of 500 took 13.276s"
       ]
      },
      {
       "output_type": "stream",
       "stream": "stdout",
       "text": [
        "\n",
        "  training loss:\t\t0.521518\n",
        "  validation loss:\t\t0.523257\n",
        "Epoch 337 of 500 took 13.263s"
       ]
      },
      {
       "output_type": "stream",
       "stream": "stdout",
       "text": [
        "\n",
        "  training loss:\t\t0.521428\n",
        "  validation loss:\t\t0.522765\n",
        "Epoch 338 of 500 took 13.269s"
       ]
      },
      {
       "output_type": "stream",
       "stream": "stdout",
       "text": [
        "\n",
        "  training loss:\t\t0.521485\n",
        "  validation loss:\t\t0.523341\n",
        "Epoch 339 of 500 took 13.287s"
       ]
      },
      {
       "output_type": "stream",
       "stream": "stdout",
       "text": [
        "\n",
        "  training loss:\t\t0.521409\n",
        "  validation loss:\t\t0.522651\n",
        "Epoch 340 of 500 took 13.272s"
       ]
      },
      {
       "output_type": "stream",
       "stream": "stdout",
       "text": [
        "\n",
        "  training loss:\t\t0.521394\n",
        "  validation loss:\t\t0.523354\n",
        "Epoch 341 of 500 took 13.266s"
       ]
      },
      {
       "output_type": "stream",
       "stream": "stdout",
       "text": [
        "\n",
        "  training loss:\t\t0.521514\n",
        "  validation loss:\t\t0.522928\n",
        "Epoch 342 of 500 took 13.262s"
       ]
      },
      {
       "output_type": "stream",
       "stream": "stdout",
       "text": [
        "\n",
        "  training loss:\t\t0.521318\n",
        "  validation loss:\t\t0.522557\n",
        "Epoch 343 of 500 took 13.274s"
       ]
      },
      {
       "output_type": "stream",
       "stream": "stdout",
       "text": [
        "\n",
        "  training loss:\t\t0.521291\n",
        "  validation loss:\t\t0.523036\n",
        "Epoch 344 of 500 took 13.268s"
       ]
      },
      {
       "output_type": "stream",
       "stream": "stdout",
       "text": [
        "\n",
        "  training loss:\t\t0.521646\n",
        "  validation loss:\t\t0.523013\n",
        "Epoch 345 of 500 took 13.277s"
       ]
      },
      {
       "output_type": "stream",
       "stream": "stdout",
       "text": [
        "\n",
        "  training loss:\t\t0.521300\n",
        "  validation loss:\t\t0.522979\n",
        "Epoch 346 of 500 took 13.267s"
       ]
      },
      {
       "output_type": "stream",
       "stream": "stdout",
       "text": [
        "\n",
        "  training loss:\t\t0.521636\n",
        "  validation loss:\t\t0.522900\n",
        "Epoch 347 of 500 took 13.273s"
       ]
      },
      {
       "output_type": "stream",
       "stream": "stdout",
       "text": [
        "\n",
        "  training loss:\t\t0.521357\n",
        "  validation loss:\t\t0.522818\n",
        "Epoch 348 of 500 took 13.278s"
       ]
      },
      {
       "output_type": "stream",
       "stream": "stdout",
       "text": [
        "\n",
        "  training loss:\t\t0.521406\n",
        "  validation loss:\t\t0.522906\n",
        "Epoch 349 of 500 took 13.268s"
       ]
      },
      {
       "output_type": "stream",
       "stream": "stdout",
       "text": [
        "\n",
        "  training loss:\t\t0.521345\n",
        "  validation loss:\t\t0.522732\n",
        "Epoch 350 of 500 took 13.264s"
       ]
      },
      {
       "output_type": "stream",
       "stream": "stdout",
       "text": [
        "\n",
        "  training loss:\t\t0.521376\n",
        "  validation loss:\t\t0.522959\n",
        "Epoch 351 of 500 took 13.271s"
       ]
      },
      {
       "output_type": "stream",
       "stream": "stdout",
       "text": [
        "\n",
        "  training loss:\t\t0.521327\n",
        "  validation loss:\t\t0.522630\n",
        "Epoch 352 of 500 took 13.273s"
       ]
      },
      {
       "output_type": "stream",
       "stream": "stdout",
       "text": [
        "\n",
        "  training loss:\t\t0.521340\n",
        "  validation loss:\t\t0.523072\n",
        "Epoch 353 of 500 took 13.270s"
       ]
      },
      {
       "output_type": "stream",
       "stream": "stdout",
       "text": [
        "\n",
        "  training loss:\t\t0.521335\n",
        "  validation loss:\t\t0.522619\n",
        "Epoch 354 of 500 took 13.276s"
       ]
      },
      {
       "output_type": "stream",
       "stream": "stdout",
       "text": [
        "\n",
        "  training loss:\t\t0.521275\n",
        "  validation loss:\t\t0.522916\n",
        "Epoch 355 of 500 took 13.265s"
       ]
      },
      {
       "output_type": "stream",
       "stream": "stdout",
       "text": [
        "\n",
        "  training loss:\t\t0.521387\n",
        "  validation loss:\t\t0.522812\n",
        "Epoch 356 of 500 took 13.277s"
       ]
      },
      {
       "output_type": "stream",
       "stream": "stdout",
       "text": [
        "\n",
        "  training loss:\t\t0.521209\n",
        "  validation loss:\t\t0.522401\n",
        "Epoch 357 of 500 took 13.271s"
       ]
      },
      {
       "output_type": "stream",
       "stream": "stdout",
       "text": [
        "\n",
        "  training loss:\t\t0.521115\n",
        "  validation loss:\t\t0.522515\n",
        "Epoch 358 of 500 took 13.271s"
       ]
      },
      {
       "output_type": "stream",
       "stream": "stdout",
       "text": [
        "\n",
        "  training loss:\t\t0.521645\n",
        "  validation loss:\t\t0.522878\n",
        "Epoch 359 of 500 took 13.266s"
       ]
      },
      {
       "output_type": "stream",
       "stream": "stdout",
       "text": [
        "\n",
        "  training loss:\t\t0.521214\n",
        "  validation loss:\t\t0.522647\n",
        "Epoch 360 of 500 took 13.270s"
       ]
      },
      {
       "output_type": "stream",
       "stream": "stdout",
       "text": [
        "\n",
        "  training loss:\t\t0.521335\n",
        "  validation loss:\t\t0.523124\n",
        "Epoch 361 of 500 took 13.278s"
       ]
      },
      {
       "output_type": "stream",
       "stream": "stdout",
       "text": [
        "\n",
        "  training loss:\t\t0.521203\n",
        "  validation loss:\t\t0.522403\n",
        "Epoch 362 of 500 took 13.278s"
       ]
      },
      {
       "output_type": "stream",
       "stream": "stdout",
       "text": [
        "\n",
        "  training loss:\t\t0.521191\n",
        "  validation loss:\t\t0.523256\n",
        "Epoch 363 of 500 took 13.302s"
       ]
      },
      {
       "output_type": "stream",
       "stream": "stdout",
       "text": [
        "\n",
        "  training loss:\t\t0.521336\n",
        "  validation loss:\t\t0.522709\n",
        "Epoch 364 of 500 took 13.274s"
       ]
      },
      {
       "output_type": "stream",
       "stream": "stdout",
       "text": [
        "\n",
        "  training loss:\t\t0.521136\n",
        "  validation loss:\t\t0.522421\n",
        "Epoch 365 of 500 took 13.281s"
       ]
      },
      {
       "output_type": "stream",
       "stream": "stdout",
       "text": [
        "\n",
        "  training loss:\t\t0.521311\n",
        "  validation loss:\t\t0.523585\n",
        "Epoch 366 of 500 took 13.270s"
       ]
      },
      {
       "output_type": "stream",
       "stream": "stdout",
       "text": [
        "\n",
        "  training loss:\t\t0.521174\n",
        "  validation loss:\t\t0.522492\n",
        "Epoch 367 of 500 took 13.271s"
       ]
      },
      {
       "output_type": "stream",
       "stream": "stdout",
       "text": [
        "\n",
        "  training loss:\t\t0.521455\n",
        "  validation loss:\t\t0.522816\n",
        "Epoch 368 of 500 took 13.277s"
       ]
      },
      {
       "output_type": "stream",
       "stream": "stdout",
       "text": [
        "\n",
        "  training loss:\t\t0.521151\n",
        "  validation loss:\t\t0.522587\n",
        "Epoch 369 of 500 took 13.263s"
       ]
      },
      {
       "output_type": "stream",
       "stream": "stdout",
       "text": [
        "\n",
        "  training loss:\t\t0.521226\n",
        "  validation loss:\t\t0.522807\n",
        "Epoch 370 of 500 took 13.274s"
       ]
      },
      {
       "output_type": "stream",
       "stream": "stdout",
       "text": [
        "\n",
        "  training loss:\t\t0.521151\n",
        "  validation loss:\t\t0.522555\n",
        "Epoch 371 of 500 took 13.269s"
       ]
      },
      {
       "output_type": "stream",
       "stream": "stdout",
       "text": [
        "\n",
        "  training loss:\t\t0.521189\n",
        "  validation loss:\t\t0.522793\n",
        "Epoch 372 of 500 took 13.272s"
       ]
      },
      {
       "output_type": "stream",
       "stream": "stdout",
       "text": [
        "\n",
        "  training loss:\t\t0.521125\n",
        "  validation loss:\t\t0.522474\n",
        "Epoch 373 of 500 took 13.269s"
       ]
      },
      {
       "output_type": "stream",
       "stream": "stdout",
       "text": [
        "\n",
        "  training loss:\t\t0.521166\n",
        "  validation loss:\t\t0.522871\n",
        "Epoch 374 of 500 took 13.274s"
       ]
      },
      {
       "output_type": "stream",
       "stream": "stdout",
       "text": [
        "\n",
        "  training loss:\t\t0.521102\n",
        "  validation loss:\t\t0.522349\n",
        "Epoch 375 of 500 took 13.271s"
       ]
      },
      {
       "output_type": "stream",
       "stream": "stdout",
       "text": [
        "\n",
        "  training loss:\t\t0.521098\n",
        "  validation loss:\t\t0.522982\n",
        "Epoch 376 of 500 took 13.269s"
       ]
      },
      {
       "output_type": "stream",
       "stream": "stdout",
       "text": [
        "\n",
        "  training loss:\t\t0.521147\n",
        "  validation loss:\t\t0.522374\n",
        "Epoch 377 of 500 took 13.272s"
       ]
      },
      {
       "output_type": "stream",
       "stream": "stdout",
       "text": [
        "\n",
        "  training loss:\t\t0.520999\n",
        "  validation loss:\t\t0.522447\n",
        "Epoch 378 of 500 took 13.269s"
       ]
      },
      {
       "output_type": "stream",
       "stream": "stdout",
       "text": [
        "\n",
        "  training loss:\t\t0.521235\n",
        "  validation loss:\t\t0.522757\n",
        "Epoch 379 of 500 took 13.287s"
       ]
      },
      {
       "output_type": "stream",
       "stream": "stdout",
       "text": [
        "\n",
        "  training loss:\t\t0.520969\n",
        "  validation loss:\t\t0.522185\n",
        "Epoch 380 of 500 took 13.266s"
       ]
      },
      {
       "output_type": "stream",
       "stream": "stdout",
       "text": [
        "\n",
        "  training loss:\t\t0.521335\n",
        "  validation loss:\t\t0.522961\n",
        "Epoch 381 of 500 took 13.274s"
       ]
      },
      {
       "output_type": "stream",
       "stream": "stdout",
       "text": [
        "\n",
        "  training loss:\t\t0.520989\n",
        "  validation loss:\t\t0.522342\n",
        "Epoch 382 of 500 took 13.264s"
       ]
      },
      {
       "output_type": "stream",
       "stream": "stdout",
       "text": [
        "\n",
        "  training loss:\t\t0.521091\n",
        "  validation loss:\t\t0.522981\n",
        "Epoch 383 of 500 took 13.285s"
       ]
      },
      {
       "output_type": "stream",
       "stream": "stdout",
       "text": [
        "\n",
        "  training loss:\t\t0.520994\n",
        "  validation loss:\t\t0.522333\n",
        "Epoch 384 of 500 took 13.270s"
       ]
      },
      {
       "output_type": "stream",
       "stream": "stdout",
       "text": [
        "\n",
        "  training loss:\t\t0.521047\n",
        "  validation loss:\t\t0.522983\n",
        "Epoch 385 of 500 took 13.285s"
       ]
      },
      {
       "output_type": "stream",
       "stream": "stdout",
       "text": [
        "\n",
        "  training loss:\t\t0.520974\n",
        "  validation loss:\t\t0.522261\n",
        "Epoch 386 of 500 took 13.296s"
       ]
      },
      {
       "output_type": "stream",
       "stream": "stdout",
       "text": [
        "\n",
        "  training loss:\t\t0.520976\n",
        "  validation loss:\t\t0.522999\n",
        "Epoch 387 of 500 took 13.269s"
       ]
      },
      {
       "output_type": "stream",
       "stream": "stdout",
       "text": [
        "\n",
        "  training loss:\t\t0.521014\n",
        "  validation loss:\t\t0.522388\n",
        "Epoch 388 of 500 took 13.277s"
       ]
      },
      {
       "output_type": "stream",
       "stream": "stdout",
       "text": [
        "\n",
        "  training loss:\t\t0.520899\n",
        "  validation loss:\t\t0.522476\n",
        "Epoch 389 of 500 took 13.267s"
       ]
      },
      {
       "output_type": "stream",
       "stream": "stdout",
       "text": [
        "\n",
        "  training loss:\t\t0.521079\n",
        "  validation loss:\t\t0.522848\n",
        "Epoch 390 of 500 took 13.277s"
       ]
      },
      {
       "output_type": "stream",
       "stream": "stdout",
       "text": [
        "\n",
        "  training loss:\t\t0.520847\n",
        "  validation loss:\t\t0.522119\n",
        "Epoch 391 of 500 took 13.272s"
       ]
      },
      {
       "output_type": "stream",
       "stream": "stdout",
       "text": [
        "\n",
        "  training loss:\t\t0.521171\n",
        "  validation loss:\t\t0.522567\n",
        "Epoch 392 of 500 took 13.271s"
       ]
      },
      {
       "output_type": "stream",
       "stream": "stdout",
       "text": [
        "\n",
        "  training loss:\t\t0.520881\n",
        "  validation loss:\t\t0.522241\n",
        "Epoch 393 of 500 took 13.273s"
       ]
      },
      {
       "output_type": "stream",
       "stream": "stdout",
       "text": [
        "\n",
        "  training loss:\t\t0.520936\n",
        "  validation loss:\t\t0.522515\n",
        "Epoch 394 of 500 took 13.280s"
       ]
      },
      {
       "output_type": "stream",
       "stream": "stdout",
       "text": [
        "\n",
        "  training loss:\t\t0.520881\n",
        "  validation loss:\t\t0.522183\n",
        "Epoch 395 of 500 took 13.272s"
       ]
      },
      {
       "output_type": "stream",
       "stream": "stdout",
       "text": [
        "\n",
        "  training loss:\t\t0.520881\n",
        "  validation loss:\t\t0.522519\n",
        "Epoch 396 of 500 took 13.266s"
       ]
      },
      {
       "output_type": "stream",
       "stream": "stdout",
       "text": [
        "\n",
        "  training loss:\t\t0.520871\n",
        "  validation loss:\t\t0.522137\n",
        "Epoch 397 of 500 took 13.279s"
       ]
      },
      {
       "output_type": "stream",
       "stream": "stdout",
       "text": [
        "\n",
        "  training loss:\t\t0.520824\n",
        "  validation loss:\t\t0.522483\n",
        "Epoch 398 of 500 took 13.264s"
       ]
      },
      {
       "output_type": "stream",
       "stream": "stdout",
       "text": [
        "\n",
        "  training loss:\t\t0.520892\n",
        "  validation loss:\t\t0.522213\n",
        "Epoch 399 of 500 took 13.269s"
       ]
      },
      {
       "output_type": "stream",
       "stream": "stdout",
       "text": [
        "\n",
        "  training loss:\t\t0.520769\n",
        "  validation loss:\t\t0.522111\n",
        "Epoch 400 of 500 took 13.265s"
       ]
      },
      {
       "output_type": "stream",
       "stream": "stdout",
       "text": [
        "\n",
        "  training loss:\t\t0.520894\n",
        "  validation loss:\t\t0.522692\n",
        "Epoch 401 of 500 took 13.274s"
       ]
      },
      {
       "output_type": "stream",
       "stream": "stdout",
       "text": [
        "\n",
        "  training loss:\t\t0.520754\n",
        "  validation loss:\t\t0.521864\n",
        "Epoch 402 of 500 took 13.278s"
       ]
      },
      {
       "output_type": "stream",
       "stream": "stdout",
       "text": [
        "\n",
        "  training loss:\t\t0.521043\n",
        "  validation loss:\t\t0.522927\n",
        "Epoch 403 of 500 took 13.273s"
       ]
      },
      {
       "output_type": "stream",
       "stream": "stdout",
       "text": [
        "\n",
        "  training loss:\t\t0.520717\n",
        "  validation loss:\t\t0.522002\n",
        "Epoch 404 of 500 took 13.273s"
       ]
      },
      {
       "output_type": "stream",
       "stream": "stdout",
       "text": [
        "\n",
        "  training loss:\t\t0.520814\n",
        "  validation loss:\t\t0.522718\n",
        "Epoch 405 of 500 took 13.269s"
       ]
      },
      {
       "output_type": "stream",
       "stream": "stdout",
       "text": [
        "\n",
        "  training loss:\t\t0.520733\n",
        "  validation loss:\t\t0.522054\n",
        "Epoch 406 of 500 took 13.276s"
       ]
      },
      {
       "output_type": "stream",
       "stream": "stdout",
       "text": [
        "\n",
        "  training loss:\t\t0.520765\n",
        "  validation loss:\t\t0.522645\n",
        "Epoch 407 of 500 took 13.268s"
       ]
      },
      {
       "output_type": "stream",
       "stream": "stdout",
       "text": [
        "\n",
        "  training loss:\t\t0.520710\n",
        "  validation loss:\t\t0.522013\n",
        "Epoch 408 of 500 took 13.282s"
       ]
      },
      {
       "output_type": "stream",
       "stream": "stdout",
       "text": [
        "\n",
        "  training loss:\t\t0.520706\n",
        "  validation loss:\t\t0.522621\n",
        "Epoch 409 of 500 took 13.291s"
       ]
      },
      {
       "output_type": "stream",
       "stream": "stdout",
       "text": [
        "\n",
        "  training loss:\t\t0.520744\n",
        "  validation loss:\t\t0.522185\n",
        "Epoch 410 of 500 took 13.291s"
       ]
      },
      {
       "output_type": "stream",
       "stream": "stdout",
       "text": [
        "\n",
        "  training loss:\t\t0.520638\n",
        "  validation loss:\t\t0.522132\n",
        "Epoch 411 of 500 took 13.270s"
       ]
      },
      {
       "output_type": "stream",
       "stream": "stdout",
       "text": [
        "\n",
        "  training loss:\t\t0.520786\n",
        "  validation loss:\t\t0.522647\n",
        "Epoch 412 of 500 took 13.269s"
       ]
      },
      {
       "output_type": "stream",
       "stream": "stdout",
       "text": [
        "\n",
        "  training loss:\t\t0.520583\n",
        "  validation loss:\t\t0.521827\n",
        "Epoch 413 of 500 took 13.269s"
       ]
      },
      {
       "output_type": "stream",
       "stream": "stdout",
       "text": [
        "\n",
        "  training loss:\t\t0.520902\n",
        "  validation loss:\t\t0.522348\n",
        "Epoch 414 of 500 took 13.268s"
       ]
      },
      {
       "output_type": "stream",
       "stream": "stdout",
       "text": [
        "\n",
        "  training loss:\t\t0.520609\n",
        "  validation loss:\t\t0.521995\n",
        "Epoch 415 of 500 took 13.268s"
       ]
      },
      {
       "output_type": "stream",
       "stream": "stdout",
       "text": [
        "\n",
        "  training loss:\t\t0.520666\n",
        "  validation loss:\t\t0.522253\n",
        "Epoch 416 of 500 took 13.272s"
       ]
      },
      {
       "output_type": "stream",
       "stream": "stdout",
       "text": [
        "\n",
        "  training loss:\t\t0.520601\n",
        "  validation loss:\t\t0.521964\n",
        "Epoch 417 of 500 took 13.269s"
       ]
      },
      {
       "output_type": "stream",
       "stream": "stdout",
       "text": [
        "\n",
        "  training loss:\t\t0.520612\n",
        "  validation loss:\t\t0.522238\n",
        "Epoch 418 of 500 took 13.270s"
       ]
      },
      {
       "output_type": "stream",
       "stream": "stdout",
       "text": [
        "\n",
        "  training loss:\t\t0.520578\n",
        "  validation loss:\t\t0.521878\n",
        "Epoch 419 of 500 took 13.283s"
       ]
      },
      {
       "output_type": "stream",
       "stream": "stdout",
       "text": [
        "\n",
        "  training loss:\t\t0.520567\n",
        "  validation loss:\t\t0.522275\n",
        "Epoch 420 of 500 took 13.276s"
       ]
      },
      {
       "output_type": "stream",
       "stream": "stdout",
       "text": [
        "\n",
        "  training loss:\t\t0.520571\n",
        "  validation loss:\t\t0.521820\n",
        "Epoch 421 of 500 took 13.265s"
       ]
      },
      {
       "output_type": "stream",
       "stream": "stdout",
       "text": [
        "\n",
        "  training loss:\t\t0.520504\n",
        "  validation loss:\t\t0.522193\n",
        "Epoch 422 of 500 took 13.265s"
       ]
      },
      {
       "output_type": "stream",
       "stream": "stdout",
       "text": [
        "\n",
        "  training loss:\t\t0.520586\n",
        "  validation loss:\t\t0.521911\n",
        "Epoch 423 of 500 took 13.265s"
       ]
      },
      {
       "output_type": "stream",
       "stream": "stdout",
       "text": [
        "\n",
        "  training loss:\t\t0.520444\n",
        "  validation loss:\t\t0.521771\n",
        "Epoch 424 of 500 took 13.287s"
       ]
      },
      {
       "output_type": "stream",
       "stream": "stdout",
       "text": [
        "\n",
        "  training loss:\t\t0.520580\n",
        "  validation loss:\t\t0.522496\n",
        "Epoch 425 of 500 took 13.261s"
       ]
      },
      {
       "output_type": "stream",
       "stream": "stdout",
       "text": [
        "\n",
        "  training loss:\t\t0.520437\n",
        "  validation loss:\t\t0.521591\n",
        "Epoch 426 of 500 took 13.275s"
       ]
      },
      {
       "output_type": "stream",
       "stream": "stdout",
       "text": [
        "\n",
        "  training loss:\t\t0.520758\n",
        "  validation loss:\t\t0.522352\n",
        "Epoch 427 of 500 took 13.266s"
       ]
      },
      {
       "output_type": "stream",
       "stream": "stdout",
       "text": [
        "\n",
        "  training loss:\t\t0.520397\n",
        "  validation loss:\t\t0.521760\n",
        "Epoch 428 of 500 took 13.274s"
       ]
      },
      {
       "output_type": "stream",
       "stream": "stdout",
       "text": [
        "\n",
        "  training loss:\t\t0.520494\n",
        "  validation loss:\t\t0.522275\n",
        "Epoch 429 of 500 took 13.266s"
       ]
      },
      {
       "output_type": "stream",
       "stream": "stdout",
       "text": [
        "\n",
        "  training loss:\t\t0.520406\n",
        "  validation loss:\t\t0.521781\n",
        "Epoch 430 of 500 took 13.272s"
       ]
      },
      {
       "output_type": "stream",
       "stream": "stdout",
       "text": [
        "\n",
        "  training loss:\t\t0.520443\n",
        "  validation loss:\t\t0.522243\n",
        "Epoch 431 of 500 took 13.284s"
       ]
      },
      {
       "output_type": "stream",
       "stream": "stdout",
       "text": [
        "\n",
        "  training loss:\t\t0.520368\n",
        "  validation loss:\t\t0.521671\n",
        "Epoch 432 of 500 took 13.297s"
       ]
      },
      {
       "output_type": "stream",
       "stream": "stdout",
       "text": [
        "\n",
        "  training loss:\t\t0.520399\n",
        "  validation loss:\t\t0.522385\n",
        "Epoch 433 of 500 took 13.276s"
       ]
      },
      {
       "output_type": "stream",
       "stream": "stdout",
       "text": [
        "\n",
        "  training loss:\t\t0.520361\n",
        "  validation loss:\t\t0.521613\n",
        "Epoch 434 of 500 took 13.272s"
       ]
      },
      {
       "output_type": "stream",
       "stream": "stdout",
       "text": [
        "\n",
        "  training loss:\t\t0.520250\n",
        "  validation loss:\t\t0.521878\n",
        "Epoch 435 of 500 took 13.268s"
       ]
      },
      {
       "output_type": "stream",
       "stream": "stdout",
       "text": [
        "\n",
        "  training loss:\t\t0.520534\n",
        "  validation loss:\t\t0.522105\n",
        "Epoch 436 of 500 took 13.271s"
       ]
      },
      {
       "output_type": "stream",
       "stream": "stdout",
       "text": [
        "\n",
        "  training loss:\t\t0.520217\n",
        "  validation loss:\t\t0.521583\n",
        "Epoch 437 of 500 took 13.269s"
       ]
      },
      {
       "output_type": "stream",
       "stream": "stdout",
       "text": [
        "\n",
        "  training loss:\t\t0.520554\n",
        "  validation loss:\t\t0.521967\n",
        "Epoch 438 of 500 took 13.272s"
       ]
      },
      {
       "output_type": "stream",
       "stream": "stdout",
       "text": [
        "\n",
        "  training loss:\t\t0.520262\n",
        "  validation loss:\t\t0.521683\n",
        "Epoch 439 of 500 took 13.271s"
       ]
      },
      {
       "output_type": "stream",
       "stream": "stdout",
       "text": [
        "\n",
        "  training loss:\t\t0.520317\n",
        "  validation loss:\t\t0.521924\n",
        "Epoch 440 of 500 took 13.264s"
       ]
      },
      {
       "output_type": "stream",
       "stream": "stdout",
       "text": [
        "\n",
        "  training loss:\t\t0.520249\n",
        "  validation loss:\t\t0.521617\n",
        "Epoch 441 of 500 took 13.269s"
       ]
      },
      {
       "output_type": "stream",
       "stream": "stdout",
       "text": [
        "\n",
        "  training loss:\t\t0.520271\n",
        "  validation loss:\t\t0.521917\n",
        "Epoch 442 of 500 took 13.272s"
       ]
      },
      {
       "output_type": "stream",
       "stream": "stdout",
       "text": [
        "\n",
        "  training loss:\t\t0.520228\n",
        "  validation loss:\t\t0.521551\n",
        "Epoch 443 of 500 took 13.266s"
       ]
      },
      {
       "output_type": "stream",
       "stream": "stdout",
       "text": [
        "\n",
        "  training loss:\t\t0.520229\n",
        "  validation loss:\t\t0.521986\n",
        "Epoch 444 of 500 took 13.271s"
       ]
      },
      {
       "output_type": "stream",
       "stream": "stdout",
       "text": [
        "\n",
        "  training loss:\t\t0.520209\n",
        "  validation loss:\t\t0.521454\n",
        "Epoch 445 of 500 took 13.275s"
       ]
      },
      {
       "output_type": "stream",
       "stream": "stdout",
       "text": [
        "\n",
        "  training loss:\t\t0.520146\n",
        "  validation loss:\t\t0.521880\n",
        "Epoch 446 of 500 took 13.268s"
       ]
      },
      {
       "output_type": "stream",
       "stream": "stdout",
       "text": [
        "\n",
        "  training loss:\t\t0.520256\n",
        "  validation loss:\t\t0.521622\n",
        "Epoch 447 of 500 took 13.269s"
       ]
      },
      {
       "output_type": "stream",
       "stream": "stdout",
       "text": [
        "\n",
        "  training loss:\t\t0.520093\n",
        "  validation loss:\t\t0.521397\n",
        "Epoch 448 of 500 took 13.271s"
       ]
      },
      {
       "output_type": "stream",
       "stream": "stdout",
       "text": [
        "\n",
        "  training loss:\t\t0.520218\n",
        "  validation loss:\t\t0.522292\n",
        "Epoch 449 of 500 took 13.273s"
       ]
      },
      {
       "output_type": "stream",
       "stream": "stdout",
       "text": [
        "\n",
        "  training loss:\t\t0.520094\n",
        "  validation loss:\t\t0.521220\n",
        "Epoch 450 of 500 took 13.264s"
       ]
      },
      {
       "output_type": "stream",
       "stream": "stdout",
       "text": [
        "\n",
        "  training loss:\t\t0.520396\n",
        "  validation loss:\t\t0.522071\n",
        "Epoch 451 of 500 took 13.277s"
       ]
      },
      {
       "output_type": "stream",
       "stream": "stdout",
       "text": [
        "\n",
        "  training loss:\t\t0.520050\n",
        "  validation loss:\t\t0.521369\n",
        "Epoch 452 of 500 took 13.267s"
       ]
      },
      {
       "output_type": "stream",
       "stream": "stdout",
       "text": [
        "\n",
        "  training loss:\t\t0.520136\n",
        "  validation loss:\t\t0.521968\n",
        "Epoch 453 of 500 took 13.288s"
       ]
      },
      {
       "output_type": "stream",
       "stream": "stdout",
       "text": [
        "\n",
        "  training loss:\t\t0.520075\n",
        "  validation loss:\t\t0.521430\n",
        "Epoch 454 of 500 took 13.272s"
       ]
      },
      {
       "output_type": "stream",
       "stream": "stdout",
       "text": [
        "\n",
        "  training loss:\t\t0.520072\n",
        "  validation loss:\t\t0.521842\n",
        "Epoch 455 of 500 took 13.295s"
       ]
      },
      {
       "ename": "KeyboardInterrupt",
       "evalue": "",
       "output_type": "pyerr",
       "traceback": [
        "\u001b[0;31m---------------------------------------------------------------------------\u001b[0m\n\u001b[0;31mKeyboardInterrupt\u001b[0m                         Traceback (most recent call last)",
        "\u001b[0;32m<ipython-input-9-58ca95c5b364>\u001b[0m in \u001b[0;36m<module>\u001b[0;34m()\u001b[0m\n\u001b[0;32m----> 1\u001b[0;31m \u001b[0mmain\u001b[0m\u001b[0;34m(\u001b[0m\u001b[0;34m)\u001b[0m\u001b[0;34m\u001b[0m\u001b[0m\n\u001b[0m",
        "\u001b[0;32m<ipython-input-8-3b5fb2ffbd41>\u001b[0m in \u001b[0;36mmain\u001b[0;34m(model, num_epochs)\u001b[0m\n\u001b[1;32m     73\u001b[0m \u001b[0;34m\u001b[0m\u001b[0m\n\u001b[1;32m     74\u001b[0m         \u001b[0;32mfor\u001b[0m \u001b[0mbatch\u001b[0m \u001b[0;32min\u001b[0m \u001b[0miterator\u001b[0m\u001b[0;34m(\u001b[0m\u001b[0mX_train\u001b[0m\u001b[0;34m,\u001b[0m \u001b[0;36m500\u001b[0m\u001b[0;34m)\u001b[0m\u001b[0;34m:\u001b[0m\u001b[0;34m\u001b[0m\u001b[0m\n\u001b[0;32m---> 75\u001b[0;31m             \u001b[0mtrain_err\u001b[0m \u001b[0;34m+=\u001b[0m \u001b[0mtrain_fn\u001b[0m\u001b[0;34m(\u001b[0m\u001b[0mbatch\u001b[0m\u001b[0;34m)\u001b[0m\u001b[0;34m\u001b[0m\u001b[0m\n\u001b[0m\u001b[1;32m     76\u001b[0m             \u001b[0mtrain_batches\u001b[0m \u001b[0;34m+=\u001b[0m \u001b[0;36m1\u001b[0m\u001b[0;34m\u001b[0m\u001b[0m\n\u001b[1;32m     77\u001b[0m             \u001b[0mloss_history\u001b[0m\u001b[0;34m.\u001b[0m\u001b[0mappend\u001b[0m\u001b[0;34m(\u001b[0m\u001b[0mtrain_err\u001b[0m\u001b[0;34m)\u001b[0m\u001b[0;34m\u001b[0m\u001b[0m\n",
        "\u001b[0;32m/usr/local/lib/python2.7/dist-packages/theano/compile/function_module.pyc\u001b[0m in \u001b[0;36m__call__\u001b[0;34m(self, *args, **kwargs)\u001b[0m\n\u001b[1;32m    857\u001b[0m         \u001b[0mt0_fn\u001b[0m \u001b[0;34m=\u001b[0m \u001b[0mtime\u001b[0m\u001b[0;34m.\u001b[0m\u001b[0mtime\u001b[0m\u001b[0;34m(\u001b[0m\u001b[0;34m)\u001b[0m\u001b[0;34m\u001b[0m\u001b[0m\n\u001b[1;32m    858\u001b[0m         \u001b[0;32mtry\u001b[0m\u001b[0;34m:\u001b[0m\u001b[0;34m\u001b[0m\u001b[0m\n\u001b[0;32m--> 859\u001b[0;31m             \u001b[0moutputs\u001b[0m \u001b[0;34m=\u001b[0m \u001b[0mself\u001b[0m\u001b[0;34m.\u001b[0m\u001b[0mfn\u001b[0m\u001b[0;34m(\u001b[0m\u001b[0;34m)\u001b[0m\u001b[0;34m\u001b[0m\u001b[0m\n\u001b[0m\u001b[1;32m    860\u001b[0m         \u001b[0;32mexcept\u001b[0m \u001b[0mException\u001b[0m\u001b[0;34m:\u001b[0m\u001b[0;34m\u001b[0m\u001b[0m\n\u001b[1;32m    861\u001b[0m             \u001b[0;32mif\u001b[0m \u001b[0mhasattr\u001b[0m\u001b[0;34m(\u001b[0m\u001b[0mself\u001b[0m\u001b[0;34m.\u001b[0m\u001b[0mfn\u001b[0m\u001b[0;34m,\u001b[0m \u001b[0;34m'position_of_error'\u001b[0m\u001b[0;34m)\u001b[0m\u001b[0;34m:\u001b[0m\u001b[0;34m\u001b[0m\u001b[0m\n",
        "\u001b[0;31mKeyboardInterrupt\u001b[0m: "
       ]
      },
      {
       "output_type": "stream",
       "stream": "stdout",
       "text": [
        "\n",
        "  training loss:\t\t0.520063\n",
        "  validation loss:\t\t0.521467\n"
       ]
      }
     ],
     "prompt_number": 9
    },
    {
     "cell_type": "code",
     "collapsed": false,
     "input": [
      "plt.plot(np.array(loss_history).clip(max=3))\n",
      "plt.xlabel('iteration')\n",
      "plt.ylabel('loss')"
     ],
     "language": "python",
     "metadata": {},
     "outputs": []
    }
   ],
   "metadata": {}
  }
 ]
}